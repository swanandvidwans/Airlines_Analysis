{
  "nbformat": 4,
  "nbformat_minor": 0,
  "metadata": {
    "colab": {
      "name": "AirlinesAnalysis.ipynb",
      "provenance": [],
      "collapsed_sections": []
    },
    "kernelspec": {
      "name": "python3",
      "display_name": "Python 3"
    },
    "language_info": {
      "name": "python"
    }
  },
  "cells": [
    {
      "cell_type": "code",
      "execution_count": 215,
      "metadata": {
        "colab": {
          "base_uri": "https://localhost:8080/"
        },
        "id": "i97WD3F5LjdB",
        "outputId": "e93c9972-20eb-41d7-9e26-1b56bcaeabc8"
      },
      "outputs": [
        {
          "output_type": "stream",
          "name": "stdout",
          "text": [
            "Looking in indexes: https://pypi.org/simple, https://us-python.pkg.dev/colab-wheels/public/simple/\n",
            "Requirement already satisfied: pyspark in /usr/local/lib/python3.7/dist-packages (3.3.0)\n",
            "Requirement already satisfied: py4j==0.10.9.5 in /usr/local/lib/python3.7/dist-packages (from pyspark) (0.10.9.5)\n"
          ]
        }
      ],
      "source": [
        "!pip install pyspark"
      ]
    },
    {
      "cell_type": "code",
      "source": [
        "#Importing pyspark\n",
        "import pyspark\n",
        "from pyspark.sql import SparkSession\n",
        "import pandas as pd"
      ],
      "metadata": {
        "id": "znJ8I7DHMG75"
      },
      "execution_count": 216,
      "outputs": []
    },
    {
      "cell_type": "code",
      "source": [
        "#Importing sparksession\n",
        "spark = SparkSession.builder.appName(\"dataframe1\").getOrCreate()"
      ],
      "metadata": {
        "id": "EecyyanpN6Wd"
      },
      "execution_count": 217,
      "outputs": []
    },
    {
      "cell_type": "code",
      "source": [
        "#Importing Data\n",
        "rawDF = pd.read_csv(\"/content/airlines1.csv\")"
      ],
      "metadata": {
        "id": "KXbQ9-53MZR_"
      },
      "execution_count": 218,
      "outputs": []
    },
    {
      "cell_type": "code",
      "source": [
        "rawDF.shape"
      ],
      "metadata": {
        "colab": {
          "base_uri": "https://localhost:8080/"
        },
        "id": "lrtjDEpLMcXx",
        "outputId": "83cba033-b0a0-45e8-8cb2-43ce275fa824"
      },
      "execution_count": 219,
      "outputs": [
        {
          "output_type": "execute_result",
          "data": {
            "text/plain": [
              "(50001, 110)"
            ]
          },
          "metadata": {},
          "execution_count": 219
        }
      ]
    },
    {
      "cell_type": "code",
      "source": [
        "rawDF"
      ],
      "metadata": {
        "colab": {
          "base_uri": "https://localhost:8080/",
          "height": 505
        },
        "id": "xTdy_jOONf6E",
        "outputId": "a7f37cd4-c581-4f64-9430-964d681c1feb"
      },
      "execution_count": 220,
      "outputs": [
        {
          "output_type": "execute_result",
          "data": {
            "text/plain": [
              "       Unnamed: 0  Year  Quarter  Month  DayofMonth  DayOfWeek  FlightDate  \\\n",
              "0               0  1998        1      1           2          5  1998-01-02   \n",
              "1               1  2009        2      5          28          4  2009-05-28   \n",
              "2               2  2013        2      6          29          6  2013-06-29   \n",
              "3               3  2010        3      8          31          2  2010-08-31   \n",
              "4               4  2006        1      1          15          7  2006-01-15   \n",
              "...           ...   ...      ...    ...         ...        ...         ...   \n",
              "49996       49996  1999        4     10          12          2  1999-10-12   \n",
              "49997       49997  2010        4     11           1          1  2010-11-01   \n",
              "49998       49998  2006        2      4          30          7  2006-04-30   \n",
              "49999       49999  2009        3      7           8          3  2009-07-08   \n",
              "50000       50000  2006        2      5          17          3  2006-05-17   \n",
              "\n",
              "      Reporting_Airline  DOT_ID_Reporting_Airline IATA_CODE_Reporting_Airline  \\\n",
              "0                    NW                     19386                          NW   \n",
              "1                    FL                     20437                          FL   \n",
              "2                    MQ                     20398                          MQ   \n",
              "3                    DL                     19790                          DL   \n",
              "4                    US                     20355                          US   \n",
              "...                 ...                       ...                         ...   \n",
              "49996                WN                     19393                          WN   \n",
              "49997                OH                     20417                          OH   \n",
              "49998                UA                     19977                          UA   \n",
              "49999                F9                     20436                          F9   \n",
              "50000                AA                     19805                          AA   \n",
              "\n",
              "       ... Div4WheelsOff  Div4TailNum  Div5Airport  Div5AirportID  \\\n",
              "0      ...           NaN          NaN          NaN            NaN   \n",
              "1      ...           NaN          NaN          NaN            NaN   \n",
              "2      ...           NaN          NaN          NaN            NaN   \n",
              "3      ...           NaN          NaN          NaN            NaN   \n",
              "4      ...           NaN          NaN          NaN            NaN   \n",
              "...    ...           ...          ...          ...            ...   \n",
              "49996  ...           NaN          NaN          NaN            NaN   \n",
              "49997  ...           NaN          NaN          NaN            NaN   \n",
              "49998  ...           NaN          NaN          NaN            NaN   \n",
              "49999  ...           NaN          NaN          NaN            NaN   \n",
              "50000  ...           NaN          NaN          NaN            NaN   \n",
              "\n",
              "       Div5AirportSeqID Div5WheelsOn Div5TotalGTime Div5LongestGTime  \\\n",
              "0                   NaN          NaN            NaN              NaN   \n",
              "1                   NaN          NaN            NaN              NaN   \n",
              "2                   NaN          NaN            NaN              NaN   \n",
              "3                   NaN          NaN            NaN              NaN   \n",
              "4                   NaN          NaN            NaN              NaN   \n",
              "...                 ...          ...            ...              ...   \n",
              "49996               NaN          NaN            NaN              NaN   \n",
              "49997               NaN          NaN            NaN              NaN   \n",
              "49998               NaN          NaN            NaN              NaN   \n",
              "49999               NaN          NaN            NaN              NaN   \n",
              "50000               NaN          NaN            NaN              NaN   \n",
              "\n",
              "       Div5WheelsOff Div5TailNum  \n",
              "0                NaN         NaN  \n",
              "1                NaN         NaN  \n",
              "2                NaN         NaN  \n",
              "3                NaN         NaN  \n",
              "4                NaN         NaN  \n",
              "...              ...         ...  \n",
              "49996            NaN         NaN  \n",
              "49997            NaN         NaN  \n",
              "49998            NaN         NaN  \n",
              "49999            NaN         NaN  \n",
              "50000            NaN         NaN  \n",
              "\n",
              "[50001 rows x 110 columns]"
            ],
            "text/html": [
              "\n",
              "  <div id=\"df-47ad9323-fddf-4a27-8838-987128adf2ae\">\n",
              "    <div class=\"colab-df-container\">\n",
              "      <div>\n",
              "<style scoped>\n",
              "    .dataframe tbody tr th:only-of-type {\n",
              "        vertical-align: middle;\n",
              "    }\n",
              "\n",
              "    .dataframe tbody tr th {\n",
              "        vertical-align: top;\n",
              "    }\n",
              "\n",
              "    .dataframe thead th {\n",
              "        text-align: right;\n",
              "    }\n",
              "</style>\n",
              "<table border=\"1\" class=\"dataframe\">\n",
              "  <thead>\n",
              "    <tr style=\"text-align: right;\">\n",
              "      <th></th>\n",
              "      <th>Unnamed: 0</th>\n",
              "      <th>Year</th>\n",
              "      <th>Quarter</th>\n",
              "      <th>Month</th>\n",
              "      <th>DayofMonth</th>\n",
              "      <th>DayOfWeek</th>\n",
              "      <th>FlightDate</th>\n",
              "      <th>Reporting_Airline</th>\n",
              "      <th>DOT_ID_Reporting_Airline</th>\n",
              "      <th>IATA_CODE_Reporting_Airline</th>\n",
              "      <th>...</th>\n",
              "      <th>Div4WheelsOff</th>\n",
              "      <th>Div4TailNum</th>\n",
              "      <th>Div5Airport</th>\n",
              "      <th>Div5AirportID</th>\n",
              "      <th>Div5AirportSeqID</th>\n",
              "      <th>Div5WheelsOn</th>\n",
              "      <th>Div5TotalGTime</th>\n",
              "      <th>Div5LongestGTime</th>\n",
              "      <th>Div5WheelsOff</th>\n",
              "      <th>Div5TailNum</th>\n",
              "    </tr>\n",
              "  </thead>\n",
              "  <tbody>\n",
              "    <tr>\n",
              "      <th>0</th>\n",
              "      <td>0</td>\n",
              "      <td>1998</td>\n",
              "      <td>1</td>\n",
              "      <td>1</td>\n",
              "      <td>2</td>\n",
              "      <td>5</td>\n",
              "      <td>1998-01-02</td>\n",
              "      <td>NW</td>\n",
              "      <td>19386</td>\n",
              "      <td>NW</td>\n",
              "      <td>...</td>\n",
              "      <td>NaN</td>\n",
              "      <td>NaN</td>\n",
              "      <td>NaN</td>\n",
              "      <td>NaN</td>\n",
              "      <td>NaN</td>\n",
              "      <td>NaN</td>\n",
              "      <td>NaN</td>\n",
              "      <td>NaN</td>\n",
              "      <td>NaN</td>\n",
              "      <td>NaN</td>\n",
              "    </tr>\n",
              "    <tr>\n",
              "      <th>1</th>\n",
              "      <td>1</td>\n",
              "      <td>2009</td>\n",
              "      <td>2</td>\n",
              "      <td>5</td>\n",
              "      <td>28</td>\n",
              "      <td>4</td>\n",
              "      <td>2009-05-28</td>\n",
              "      <td>FL</td>\n",
              "      <td>20437</td>\n",
              "      <td>FL</td>\n",
              "      <td>...</td>\n",
              "      <td>NaN</td>\n",
              "      <td>NaN</td>\n",
              "      <td>NaN</td>\n",
              "      <td>NaN</td>\n",
              "      <td>NaN</td>\n",
              "      <td>NaN</td>\n",
              "      <td>NaN</td>\n",
              "      <td>NaN</td>\n",
              "      <td>NaN</td>\n",
              "      <td>NaN</td>\n",
              "    </tr>\n",
              "    <tr>\n",
              "      <th>2</th>\n",
              "      <td>2</td>\n",
              "      <td>2013</td>\n",
              "      <td>2</td>\n",
              "      <td>6</td>\n",
              "      <td>29</td>\n",
              "      <td>6</td>\n",
              "      <td>2013-06-29</td>\n",
              "      <td>MQ</td>\n",
              "      <td>20398</td>\n",
              "      <td>MQ</td>\n",
              "      <td>...</td>\n",
              "      <td>NaN</td>\n",
              "      <td>NaN</td>\n",
              "      <td>NaN</td>\n",
              "      <td>NaN</td>\n",
              "      <td>NaN</td>\n",
              "      <td>NaN</td>\n",
              "      <td>NaN</td>\n",
              "      <td>NaN</td>\n",
              "      <td>NaN</td>\n",
              "      <td>NaN</td>\n",
              "    </tr>\n",
              "    <tr>\n",
              "      <th>3</th>\n",
              "      <td>3</td>\n",
              "      <td>2010</td>\n",
              "      <td>3</td>\n",
              "      <td>8</td>\n",
              "      <td>31</td>\n",
              "      <td>2</td>\n",
              "      <td>2010-08-31</td>\n",
              "      <td>DL</td>\n",
              "      <td>19790</td>\n",
              "      <td>DL</td>\n",
              "      <td>...</td>\n",
              "      <td>NaN</td>\n",
              "      <td>NaN</td>\n",
              "      <td>NaN</td>\n",
              "      <td>NaN</td>\n",
              "      <td>NaN</td>\n",
              "      <td>NaN</td>\n",
              "      <td>NaN</td>\n",
              "      <td>NaN</td>\n",
              "      <td>NaN</td>\n",
              "      <td>NaN</td>\n",
              "    </tr>\n",
              "    <tr>\n",
              "      <th>4</th>\n",
              "      <td>4</td>\n",
              "      <td>2006</td>\n",
              "      <td>1</td>\n",
              "      <td>1</td>\n",
              "      <td>15</td>\n",
              "      <td>7</td>\n",
              "      <td>2006-01-15</td>\n",
              "      <td>US</td>\n",
              "      <td>20355</td>\n",
              "      <td>US</td>\n",
              "      <td>...</td>\n",
              "      <td>NaN</td>\n",
              "      <td>NaN</td>\n",
              "      <td>NaN</td>\n",
              "      <td>NaN</td>\n",
              "      <td>NaN</td>\n",
              "      <td>NaN</td>\n",
              "      <td>NaN</td>\n",
              "      <td>NaN</td>\n",
              "      <td>NaN</td>\n",
              "      <td>NaN</td>\n",
              "    </tr>\n",
              "    <tr>\n",
              "      <th>...</th>\n",
              "      <td>...</td>\n",
              "      <td>...</td>\n",
              "      <td>...</td>\n",
              "      <td>...</td>\n",
              "      <td>...</td>\n",
              "      <td>...</td>\n",
              "      <td>...</td>\n",
              "      <td>...</td>\n",
              "      <td>...</td>\n",
              "      <td>...</td>\n",
              "      <td>...</td>\n",
              "      <td>...</td>\n",
              "      <td>...</td>\n",
              "      <td>...</td>\n",
              "      <td>...</td>\n",
              "      <td>...</td>\n",
              "      <td>...</td>\n",
              "      <td>...</td>\n",
              "      <td>...</td>\n",
              "      <td>...</td>\n",
              "      <td>...</td>\n",
              "    </tr>\n",
              "    <tr>\n",
              "      <th>49996</th>\n",
              "      <td>49996</td>\n",
              "      <td>1999</td>\n",
              "      <td>4</td>\n",
              "      <td>10</td>\n",
              "      <td>12</td>\n",
              "      <td>2</td>\n",
              "      <td>1999-10-12</td>\n",
              "      <td>WN</td>\n",
              "      <td>19393</td>\n",
              "      <td>WN</td>\n",
              "      <td>...</td>\n",
              "      <td>NaN</td>\n",
              "      <td>NaN</td>\n",
              "      <td>NaN</td>\n",
              "      <td>NaN</td>\n",
              "      <td>NaN</td>\n",
              "      <td>NaN</td>\n",
              "      <td>NaN</td>\n",
              "      <td>NaN</td>\n",
              "      <td>NaN</td>\n",
              "      <td>NaN</td>\n",
              "    </tr>\n",
              "    <tr>\n",
              "      <th>49997</th>\n",
              "      <td>49997</td>\n",
              "      <td>2010</td>\n",
              "      <td>4</td>\n",
              "      <td>11</td>\n",
              "      <td>1</td>\n",
              "      <td>1</td>\n",
              "      <td>2010-11-01</td>\n",
              "      <td>OH</td>\n",
              "      <td>20417</td>\n",
              "      <td>OH</td>\n",
              "      <td>...</td>\n",
              "      <td>NaN</td>\n",
              "      <td>NaN</td>\n",
              "      <td>NaN</td>\n",
              "      <td>NaN</td>\n",
              "      <td>NaN</td>\n",
              "      <td>NaN</td>\n",
              "      <td>NaN</td>\n",
              "      <td>NaN</td>\n",
              "      <td>NaN</td>\n",
              "      <td>NaN</td>\n",
              "    </tr>\n",
              "    <tr>\n",
              "      <th>49998</th>\n",
              "      <td>49998</td>\n",
              "      <td>2006</td>\n",
              "      <td>2</td>\n",
              "      <td>4</td>\n",
              "      <td>30</td>\n",
              "      <td>7</td>\n",
              "      <td>2006-04-30</td>\n",
              "      <td>UA</td>\n",
              "      <td>19977</td>\n",
              "      <td>UA</td>\n",
              "      <td>...</td>\n",
              "      <td>NaN</td>\n",
              "      <td>NaN</td>\n",
              "      <td>NaN</td>\n",
              "      <td>NaN</td>\n",
              "      <td>NaN</td>\n",
              "      <td>NaN</td>\n",
              "      <td>NaN</td>\n",
              "      <td>NaN</td>\n",
              "      <td>NaN</td>\n",
              "      <td>NaN</td>\n",
              "    </tr>\n",
              "    <tr>\n",
              "      <th>49999</th>\n",
              "      <td>49999</td>\n",
              "      <td>2009</td>\n",
              "      <td>3</td>\n",
              "      <td>7</td>\n",
              "      <td>8</td>\n",
              "      <td>3</td>\n",
              "      <td>2009-07-08</td>\n",
              "      <td>F9</td>\n",
              "      <td>20436</td>\n",
              "      <td>F9</td>\n",
              "      <td>...</td>\n",
              "      <td>NaN</td>\n",
              "      <td>NaN</td>\n",
              "      <td>NaN</td>\n",
              "      <td>NaN</td>\n",
              "      <td>NaN</td>\n",
              "      <td>NaN</td>\n",
              "      <td>NaN</td>\n",
              "      <td>NaN</td>\n",
              "      <td>NaN</td>\n",
              "      <td>NaN</td>\n",
              "    </tr>\n",
              "    <tr>\n",
              "      <th>50000</th>\n",
              "      <td>50000</td>\n",
              "      <td>2006</td>\n",
              "      <td>2</td>\n",
              "      <td>5</td>\n",
              "      <td>17</td>\n",
              "      <td>3</td>\n",
              "      <td>2006-05-17</td>\n",
              "      <td>AA</td>\n",
              "      <td>19805</td>\n",
              "      <td>AA</td>\n",
              "      <td>...</td>\n",
              "      <td>NaN</td>\n",
              "      <td>NaN</td>\n",
              "      <td>NaN</td>\n",
              "      <td>NaN</td>\n",
              "      <td>NaN</td>\n",
              "      <td>NaN</td>\n",
              "      <td>NaN</td>\n",
              "      <td>NaN</td>\n",
              "      <td>NaN</td>\n",
              "      <td>NaN</td>\n",
              "    </tr>\n",
              "  </tbody>\n",
              "</table>\n",
              "<p>50001 rows × 110 columns</p>\n",
              "</div>\n",
              "      <button class=\"colab-df-convert\" onclick=\"convertToInteractive('df-47ad9323-fddf-4a27-8838-987128adf2ae')\"\n",
              "              title=\"Convert this dataframe to an interactive table.\"\n",
              "              style=\"display:none;\">\n",
              "        \n",
              "  <svg xmlns=\"http://www.w3.org/2000/svg\" height=\"24px\"viewBox=\"0 0 24 24\"\n",
              "       width=\"24px\">\n",
              "    <path d=\"M0 0h24v24H0V0z\" fill=\"none\"/>\n",
              "    <path d=\"M18.56 5.44l.94 2.06.94-2.06 2.06-.94-2.06-.94-.94-2.06-.94 2.06-2.06.94zm-11 1L8.5 8.5l.94-2.06 2.06-.94-2.06-.94L8.5 2.5l-.94 2.06-2.06.94zm10 10l.94 2.06.94-2.06 2.06-.94-2.06-.94-.94-2.06-.94 2.06-2.06.94z\"/><path d=\"M17.41 7.96l-1.37-1.37c-.4-.4-.92-.59-1.43-.59-.52 0-1.04.2-1.43.59L10.3 9.45l-7.72 7.72c-.78.78-.78 2.05 0 2.83L4 21.41c.39.39.9.59 1.41.59.51 0 1.02-.2 1.41-.59l7.78-7.78 2.81-2.81c.8-.78.8-2.07 0-2.86zM5.41 20L4 18.59l7.72-7.72 1.47 1.35L5.41 20z\"/>\n",
              "  </svg>\n",
              "      </button>\n",
              "      \n",
              "  <style>\n",
              "    .colab-df-container {\n",
              "      display:flex;\n",
              "      flex-wrap:wrap;\n",
              "      gap: 12px;\n",
              "    }\n",
              "\n",
              "    .colab-df-convert {\n",
              "      background-color: #E8F0FE;\n",
              "      border: none;\n",
              "      border-radius: 50%;\n",
              "      cursor: pointer;\n",
              "      display: none;\n",
              "      fill: #1967D2;\n",
              "      height: 32px;\n",
              "      padding: 0 0 0 0;\n",
              "      width: 32px;\n",
              "    }\n",
              "\n",
              "    .colab-df-convert:hover {\n",
              "      background-color: #E2EBFA;\n",
              "      box-shadow: 0px 1px 2px rgba(60, 64, 67, 0.3), 0px 1px 3px 1px rgba(60, 64, 67, 0.15);\n",
              "      fill: #174EA6;\n",
              "    }\n",
              "\n",
              "    [theme=dark] .colab-df-convert {\n",
              "      background-color: #3B4455;\n",
              "      fill: #D2E3FC;\n",
              "    }\n",
              "\n",
              "    [theme=dark] .colab-df-convert:hover {\n",
              "      background-color: #434B5C;\n",
              "      box-shadow: 0px 1px 3px 1px rgba(0, 0, 0, 0.15);\n",
              "      filter: drop-shadow(0px 1px 2px rgba(0, 0, 0, 0.3));\n",
              "      fill: #FFFFFF;\n",
              "    }\n",
              "  </style>\n",
              "\n",
              "      <script>\n",
              "        const buttonEl =\n",
              "          document.querySelector('#df-47ad9323-fddf-4a27-8838-987128adf2ae button.colab-df-convert');\n",
              "        buttonEl.style.display =\n",
              "          google.colab.kernel.accessAllowed ? 'block' : 'none';\n",
              "\n",
              "        async function convertToInteractive(key) {\n",
              "          const element = document.querySelector('#df-47ad9323-fddf-4a27-8838-987128adf2ae');\n",
              "          const dataTable =\n",
              "            await google.colab.kernel.invokeFunction('convertToInteractive',\n",
              "                                                     [key], {});\n",
              "          if (!dataTable) return;\n",
              "\n",
              "          const docLinkHtml = 'Like what you see? Visit the ' +\n",
              "            '<a target=\"_blank\" href=https://colab.research.google.com/notebooks/data_table.ipynb>data table notebook</a>'\n",
              "            + ' to learn more about interactive tables.';\n",
              "          element.innerHTML = '';\n",
              "          dataTable['output_type'] = 'display_data';\n",
              "          await google.colab.output.renderOutput(dataTable, element);\n",
              "          const docLink = document.createElement('div');\n",
              "          docLink.innerHTML = docLinkHtml;\n",
              "          element.appendChild(docLink);\n",
              "        }\n",
              "      </script>\n",
              "    </div>\n",
              "  </div>\n",
              "  "
            ]
          },
          "metadata": {},
          "execution_count": 220
        }
      ]
    },
    {
      "cell_type": "code",
      "source": [
        "#Casting all the columns to string type to avoid datatype conversion issues in pandas\n",
        "sparkDF = spark.createDataFrame(rawDF.astype(str))"
      ],
      "metadata": {
        "id": "dKHTNy_ENhoN"
      },
      "execution_count": 221,
      "outputs": []
    },
    {
      "cell_type": "code",
      "source": [
        "sparkDF.printSchema()"
      ],
      "metadata": {
        "colab": {
          "base_uri": "https://localhost:8080/"
        },
        "id": "DjFeNWBrNzFX",
        "outputId": "6c6d143b-ada7-475e-91ae-7c93c12122ec"
      },
      "execution_count": 222,
      "outputs": [
        {
          "output_type": "stream",
          "name": "stdout",
          "text": [
            "root\n",
            " |-- Unnamed: 0: string (nullable = true)\n",
            " |-- Year: string (nullable = true)\n",
            " |-- Quarter: string (nullable = true)\n",
            " |-- Month: string (nullable = true)\n",
            " |-- DayofMonth: string (nullable = true)\n",
            " |-- DayOfWeek: string (nullable = true)\n",
            " |-- FlightDate: string (nullable = true)\n",
            " |-- Reporting_Airline: string (nullable = true)\n",
            " |-- DOT_ID_Reporting_Airline: string (nullable = true)\n",
            " |-- IATA_CODE_Reporting_Airline: string (nullable = true)\n",
            " |-- Tail_Number: string (nullable = true)\n",
            " |-- Flight_Number_Reporting_Airline: string (nullable = true)\n",
            " |-- OriginAirportID: string (nullable = true)\n",
            " |-- OriginAirportSeqID: string (nullable = true)\n",
            " |-- OriginCityMarketID: string (nullable = true)\n",
            " |-- Origin: string (nullable = true)\n",
            " |-- OriginCityName: string (nullable = true)\n",
            " |-- OriginState: string (nullable = true)\n",
            " |-- OriginStateFips: string (nullable = true)\n",
            " |-- OriginStateName: string (nullable = true)\n",
            " |-- OriginWac: string (nullable = true)\n",
            " |-- DestAirportID: string (nullable = true)\n",
            " |-- DestAirportSeqID: string (nullable = true)\n",
            " |-- DestCityMarketID: string (nullable = true)\n",
            " |-- Dest: string (nullable = true)\n",
            " |-- DestCityName: string (nullable = true)\n",
            " |-- DestState: string (nullable = true)\n",
            " |-- DestStateFips: string (nullable = true)\n",
            " |-- DestStateName: string (nullable = true)\n",
            " |-- DestWac: string (nullable = true)\n",
            " |-- CRSDepTime: string (nullable = true)\n",
            " |-- DepTime: string (nullable = true)\n",
            " |-- DepDelay: string (nullable = true)\n",
            " |-- DepDelayMinutes: string (nullable = true)\n",
            " |-- DepDel15: string (nullable = true)\n",
            " |-- DepartureDelayGroups: string (nullable = true)\n",
            " |-- DepTimeBlk: string (nullable = true)\n",
            " |-- TaxiOut: string (nullable = true)\n",
            " |-- WheelsOff: string (nullable = true)\n",
            " |-- WheelsOn: string (nullable = true)\n",
            " |-- TaxiIn: string (nullable = true)\n",
            " |-- CRSArrTime: string (nullable = true)\n",
            " |-- ArrTime: string (nullable = true)\n",
            " |-- ArrDelay: string (nullable = true)\n",
            " |-- ArrDelayMinutes: string (nullable = true)\n",
            " |-- ArrDel15: string (nullable = true)\n",
            " |-- ArrivalDelayGroups: string (nullable = true)\n",
            " |-- ArrTimeBlk: string (nullable = true)\n",
            " |-- Cancelled: string (nullable = true)\n",
            " |-- CancellationCode: string (nullable = true)\n",
            " |-- Diverted: string (nullable = true)\n",
            " |-- CRSElapsedTime: string (nullable = true)\n",
            " |-- ActualElapsedTime: string (nullable = true)\n",
            " |-- AirTime: string (nullable = true)\n",
            " |-- Flights: string (nullable = true)\n",
            " |-- Distance: string (nullable = true)\n",
            " |-- DistanceGroup: string (nullable = true)\n",
            " |-- CarrierDelay: string (nullable = true)\n",
            " |-- WeatherDelay: string (nullable = true)\n",
            " |-- NASDelay: string (nullable = true)\n",
            " |-- SecurityDelay: string (nullable = true)\n",
            " |-- LateAircraftDelay: string (nullable = true)\n",
            " |-- FirstDepTime: string (nullable = true)\n",
            " |-- TotalAddGTime: string (nullable = true)\n",
            " |-- LongestAddGTime: string (nullable = true)\n",
            " |-- DivAirportLandings: string (nullable = true)\n",
            " |-- DivReachedDest: string (nullable = true)\n",
            " |-- DivActualElapsedTime: string (nullable = true)\n",
            " |-- DivArrDelay: string (nullable = true)\n",
            " |-- DivDistance: string (nullable = true)\n",
            " |-- Div1Airport: string (nullable = true)\n",
            " |-- Div1AirportID: string (nullable = true)\n",
            " |-- Div1AirportSeqID: string (nullable = true)\n",
            " |-- Div1WheelsOn: string (nullable = true)\n",
            " |-- Div1TotalGTime: string (nullable = true)\n",
            " |-- Div1LongestGTime: string (nullable = true)\n",
            " |-- Div1WheelsOff: string (nullable = true)\n",
            " |-- Div1TailNum: string (nullable = true)\n",
            " |-- Div2Airport: string (nullable = true)\n",
            " |-- Div2AirportID: string (nullable = true)\n",
            " |-- Div2AirportSeqID: string (nullable = true)\n",
            " |-- Div2WheelsOn: string (nullable = true)\n",
            " |-- Div2TotalGTime: string (nullable = true)\n",
            " |-- Div2LongestGTime: string (nullable = true)\n",
            " |-- Div2WheelsOff: string (nullable = true)\n",
            " |-- Div2TailNum: string (nullable = true)\n",
            " |-- Div3Airport: string (nullable = true)\n",
            " |-- Div3AirportID: string (nullable = true)\n",
            " |-- Div3AirportSeqID: string (nullable = true)\n",
            " |-- Div3WheelsOn: string (nullable = true)\n",
            " |-- Div3TotalGTime: string (nullable = true)\n",
            " |-- Div3LongestGTime: string (nullable = true)\n",
            " |-- Div3WheelsOff: string (nullable = true)\n",
            " |-- Div3TailNum: string (nullable = true)\n",
            " |-- Div4Airport: string (nullable = true)\n",
            " |-- Div4AirportID: string (nullable = true)\n",
            " |-- Div4AirportSeqID: string (nullable = true)\n",
            " |-- Div4WheelsOn: string (nullable = true)\n",
            " |-- Div4TotalGTime: string (nullable = true)\n",
            " |-- Div4LongestGTime: string (nullable = true)\n",
            " |-- Div4WheelsOff: string (nullable = true)\n",
            " |-- Div4TailNum: string (nullable = true)\n",
            " |-- Div5Airport: string (nullable = true)\n",
            " |-- Div5AirportID: string (nullable = true)\n",
            " |-- Div5AirportSeqID: string (nullable = true)\n",
            " |-- Div5WheelsOn: string (nullable = true)\n",
            " |-- Div5TotalGTime: string (nullable = true)\n",
            " |-- Div5LongestGTime: string (nullable = true)\n",
            " |-- Div5WheelsOff: string (nullable = true)\n",
            " |-- Div5TailNum: string (nullable = true)\n",
            "\n"
          ]
        }
      ]
    },
    {
      "cell_type": "code",
      "source": [
        "sparkDF.show()"
      ],
      "metadata": {
        "colab": {
          "base_uri": "https://localhost:8080/"
        },
        "id": "2rTp_Bt7OXJw",
        "outputId": "6a6f7c3b-cf29-47d9-e370-87a11febc4f4"
      },
      "execution_count": 223,
      "outputs": [
        {
          "output_type": "stream",
          "name": "stdout",
          "text": [
            "+----------+----+-------+-----+----------+---------+----------+-----------------+------------------------+---------------------------+-----------+-------------------------------+---------------+------------------+------------------+------+--------------------+-----------+---------------+---------------+---------+-------------+----------------+----------------+----+--------------------+---------+-------------+--------------+-------+----------+-------+--------+---------------+--------+--------------------+----------+-------+---------+--------+------+----------+-------+--------+---------------+--------+------------------+----------+---------+----------------+--------+--------------+-----------------+-------+-------+--------+-------------+------------+------------+--------+-------------+-----------------+------------+-------------+---------------+------------------+--------------+--------------------+-----------+-----------+-----------+-------------+----------------+------------+--------------+----------------+-------------+-----------+-----------+-------------+----------------+------------+--------------+----------------+-------------+-----------+-----------+-------------+----------------+------------+--------------+----------------+-------------+-----------+-----------+-------------+----------------+------------+--------------+----------------+-------------+-----------+-----------+-------------+----------------+------------+--------------+----------------+-------------+-----------+\n",
            "|Unnamed: 0|Year|Quarter|Month|DayofMonth|DayOfWeek|FlightDate|Reporting_Airline|DOT_ID_Reporting_Airline|IATA_CODE_Reporting_Airline|Tail_Number|Flight_Number_Reporting_Airline|OriginAirportID|OriginAirportSeqID|OriginCityMarketID|Origin|      OriginCityName|OriginState|OriginStateFips|OriginStateName|OriginWac|DestAirportID|DestAirportSeqID|DestCityMarketID|Dest|        DestCityName|DestState|DestStateFips| DestStateName|DestWac|CRSDepTime|DepTime|DepDelay|DepDelayMinutes|DepDel15|DepartureDelayGroups|DepTimeBlk|TaxiOut|WheelsOff|WheelsOn|TaxiIn|CRSArrTime|ArrTime|ArrDelay|ArrDelayMinutes|ArrDel15|ArrivalDelayGroups|ArrTimeBlk|Cancelled|CancellationCode|Diverted|CRSElapsedTime|ActualElapsedTime|AirTime|Flights|Distance|DistanceGroup|CarrierDelay|WeatherDelay|NASDelay|SecurityDelay|LateAircraftDelay|FirstDepTime|TotalAddGTime|LongestAddGTime|DivAirportLandings|DivReachedDest|DivActualElapsedTime|DivArrDelay|DivDistance|Div1Airport|Div1AirportID|Div1AirportSeqID|Div1WheelsOn|Div1TotalGTime|Div1LongestGTime|Div1WheelsOff|Div1TailNum|Div2Airport|Div2AirportID|Div2AirportSeqID|Div2WheelsOn|Div2TotalGTime|Div2LongestGTime|Div2WheelsOff|Div2TailNum|Div3Airport|Div3AirportID|Div3AirportSeqID|Div3WheelsOn|Div3TotalGTime|Div3LongestGTime|Div3WheelsOff|Div3TailNum|Div4Airport|Div4AirportID|Div4AirportSeqID|Div4WheelsOn|Div4TotalGTime|Div4LongestGTime|Div4WheelsOff|Div4TailNum|Div5Airport|Div5AirportID|Div5AirportSeqID|Div5WheelsOn|Div5TotalGTime|Div5LongestGTime|Div5WheelsOff|Div5TailNum|\n",
            "+----------+----+-------+-----+----------+---------+----------+-----------------+------------------------+---------------------------+-----------+-------------------------------+---------------+------------------+------------------+------+--------------------+-----------+---------------+---------------+---------+-------------+----------------+----------------+----+--------------------+---------+-------------+--------------+-------+----------+-------+--------+---------------+--------+--------------------+----------+-------+---------+--------+------+----------+-------+--------+---------------+--------+------------------+----------+---------+----------------+--------+--------------+-----------------+-------+-------+--------+-------------+------------+------------+--------+-------------+-----------------+------------+-------------+---------------+------------------+--------------+--------------------+-----------+-----------+-----------+-------------+----------------+------------+--------------+----------------+-------------+-----------+-----------+-------------+----------------+------------+--------------+----------------+-------------+-----------+-----------+-------------+----------------+------------+--------------+----------------+-------------+-----------+-----------+-------------+----------------+------------+--------------+----------------+-------------+-----------+-----------+-------------+----------------+------------+--------------+----------------+-------------+-----------+\n",
            "|         0|1998|      1|    1|         2|        5|1998-01-02|               NW|                   19386|                         NW|     N297US|                            675|          13487|           1348701|             31650|   MSP|     Minneapolis, MN|         MN|           27.0|      Minnesota|       63|        14869|         1486902|           34614| SLC|  Salt Lake City, UT|       UT|         49.0|          Utah|     87|      1640| 1659.0|    19.0|           19.0|     1.0|                 1.0| 1600-1659|   24.0|   1723.0|  1856.0|   3.0|      1836| 1859.0|    23.0|           23.0|     1.0|               1.0| 1800-1859|      0.0|             nan|     0.0|         176.0|            180.0|  153.0|    1.0|   991.0|            4|         nan|         nan|     nan|          nan|              nan|         nan|          nan|            nan|               nan|           nan|                 nan|        nan|        nan|        nan|          nan|             nan|         nan|           nan|             nan|          nan|        nan|        nan|          nan|             nan|         nan|           nan|             nan|          nan|        nan|        nan|          nan|             nan|         nan|           nan|             nan|          nan|        nan|        nan|          nan|             nan|         nan|           nan|             nan|          nan|        nan|        nan|          nan|             nan|         nan|           nan|             nan|          nan|        nan|\n",
            "|         1|2009|      2|    5|        28|        4|2009-05-28|               FL|                   20437|                         FL|     N946AT|                            671|          13342|           1334202|             33342|   MKE|       Milwaukee, WI|         WI|           55.0|      Wisconsin|       45|        13204|         1320401|           31454| MCO|         Orlando, FL|       FL|         12.0|       Florida|     33|      1204| 1202.0|    -2.0|            0.0|     0.0|                -1.0| 1200-1259|   10.0|   1212.0|  1533.0|   8.0|      1541| 1541.0|     0.0|            0.0|     0.0|               0.0| 1500-1559|      0.0|             nan|     0.0|         157.0|            159.0|  141.0|    1.0|  1066.0|            5|         nan|         nan|     nan|          nan|              nan|         nan|          nan|            nan|               0.0|           nan|                 nan|        nan|        nan|        nan|          nan|             nan|         nan|           nan|             nan|          nan|        nan|        nan|          nan|             nan|         nan|           nan|             nan|          nan|        nan|        nan|          nan|             nan|         nan|           nan|             nan|          nan|        nan|        nan|          nan|             nan|         nan|           nan|             nan|          nan|        nan|        nan|          nan|             nan|         nan|           nan|             nan|          nan|        nan|\n",
            "|         2|2013|      2|    6|        29|        6|2013-06-29|               MQ|                   20398|                         MQ|     N665MQ|                           3297|          11921|           1192102|             31921|   GJT|  Grand Junction, CO|         CO|            8.0|       Colorado|       82|        11298|         1129803|           30194| DFW|Dallas/Fort Worth...|       TX|         48.0|         Texas|     74|      1630| 1644.0|    14.0|           14.0|     0.0|                 0.0| 1600-1659|    9.0|   1653.0|  1936.0|   6.0|      1945| 1942.0|    -3.0|            0.0|     0.0|              -1.0| 1900-1959|      0.0|             nan|     0.0|         135.0|            118.0|  103.0|    1.0|   773.0|            4|         nan|         nan|     nan|          nan|              nan|         nan|          nan|            nan|               0.0|           nan|                 nan|        nan|        nan|        nan|          nan|             nan|         nan|           nan|             nan|          nan|        nan|        nan|          nan|             nan|         nan|           nan|             nan|          nan|        nan|        nan|          nan|             nan|         nan|           nan|             nan|          nan|        nan|        nan|          nan|             nan|         nan|           nan|             nan|          nan|        nan|        nan|          nan|             nan|         nan|           nan|             nan|          nan|        nan|\n",
            "|         3|2010|      3|    8|        31|        2|2010-08-31|               DL|                   19790|                         DL|     N6705Y|                           1806|          12892|           1289201|             32575|   LAX|     Los Angeles, CA|         CA|            6.0|     California|       91|        11433|         1143301|           31295| DTW|         Detroit, MI|       MI|         26.0|      Michigan|     43|      1305| 1305.0|     0.0|            0.0|     0.0|                 0.0| 1300-1359|   23.0|   1328.0|  2008.0|   7.0|      2035| 2015.0|   -20.0|            0.0|     0.0|              -2.0| 2000-2059|      0.0|             nan|     0.0|         270.0|            250.0|  220.0|    1.0|  1979.0|            8|         nan|         nan|     nan|          nan|              nan|         nan|          nan|            nan|               0.0|           nan|                 nan|        nan|        nan|        nan|          nan|             nan|         nan|           nan|             nan|          nan|        nan|        nan|          nan|             nan|         nan|           nan|             nan|          nan|        nan|        nan|          nan|             nan|         nan|           nan|             nan|          nan|        nan|        nan|          nan|             nan|         nan|           nan|             nan|          nan|        nan|        nan|          nan|             nan|         nan|           nan|             nan|          nan|        nan|\n",
            "|         4|2006|      1|    1|        15|        7|2006-01-15|               US|                   20355|                         US|     N504AU|                            465|          11618|           1161801|             31703|   EWR|          Newark, NJ|         NJ|           34.0|     New Jersey|       21|        11057|         1105702|           31057| CLT|       Charlotte, NC|       NC|         37.0|North Carolina|     36|      1820| 1911.0|    51.0|           51.0|     1.0|                 3.0| 1800-1859|   19.0|   1930.0|  2050.0|   8.0|      2026| 2058.0|    32.0|           32.0|     1.0|               2.0| 2000-2059|      0.0|             nan|     0.0|         126.0|            107.0|   80.0|    1.0|   529.0|            3|         0.0|         0.0|     0.0|          0.0|             32.0|         nan|          nan|            nan|               nan|           nan|                 nan|        nan|        nan|        nan|          nan|             nan|         nan|           nan|             nan|          nan|        nan|        nan|          nan|             nan|         nan|           nan|             nan|          nan|        nan|        nan|          nan|             nan|         nan|           nan|             nan|          nan|        nan|        nan|          nan|             nan|         nan|           nan|             nan|          nan|        nan|        nan|          nan|             nan|         nan|           nan|             nan|          nan|        nan|\n",
            "|         5|1995|      4|   11|        29|        3|1995-11-29|               DL|                   19790|                         DL|     N925DL|                           1198|          11298|           1129802|             30194|   DFW|Dallas/Fort Worth...|         TX|           48.0|          Texas|       74|        14814|         1481401|           30476| SHV|      Shreveport, LA|       LA|         22.0|     Louisiana|     72|       639|  639.0|     0.0|            0.0|     0.0|                 0.0| 0600-0659|   29.0|    708.0|   736.0|   5.0|       730|  741.0|    11.0|           11.0|     0.0|               0.0| 0700-0759|      0.0|             nan|     0.0|          51.0|             62.0|   28.0|    1.0|   190.0|            1|         nan|         nan|     nan|          nan|              nan|         nan|          nan|            nan|               nan|           nan|                 nan|        nan|        nan|        nan|          nan|             nan|         nan|           nan|             nan|          nan|        nan|        nan|          nan|             nan|         nan|           nan|             nan|          nan|        nan|        nan|          nan|             nan|         nan|           nan|             nan|          nan|        nan|        nan|          nan|             nan|         nan|           nan|             nan|          nan|        nan|        nan|          nan|             nan|         nan|           nan|             nan|          nan|        nan|\n",
            "|         6|2006|      3|    8|         7|        1|2006-08-07|               CO|                   19704|                         CO|     N27724|                           1431|          10721|           1072101|             30721|   BOS|          Boston, MA|         MA|           25.0|  Massachusetts|       13|        11042|         1104201|           30647| CLE|       Cleveland, OH|       OH|         39.0|          Ohio|     44|      1755| 1751.0|    -4.0|            0.0|     0.0|                -1.0| 1700-1759|   33.0|   1824.0|  1958.0|   4.0|      2000| 2002.0|     2.0|            2.0|     0.0|               0.0| 2000-2059|      0.0|             nan|     0.0|         125.0|            131.0|   94.0|    1.0|   563.0|            3|         nan|         nan|     nan|          nan|              nan|         nan|          nan|            nan|               nan|           nan|                 nan|        nan|        nan|        nan|          nan|             nan|         nan|           nan|             nan|          nan|        nan|        nan|          nan|             nan|         nan|           nan|             nan|          nan|        nan|        nan|          nan|             nan|         nan|           nan|             nan|          nan|        nan|        nan|          nan|             nan|         nan|           nan|             nan|          nan|        nan|        nan|          nan|             nan|         nan|           nan|             nan|          nan|        nan|\n",
            "|         7|2019|      2|    6|        11|        2|2019-06-11|               9E|                   20363|                         9E|     N927XJ|                           3459|          10397|           1039707|             30397|   ATL|         Atlanta, GA|         GA|           13.0|        Georgia|       34|        10868|         1086803|           30868| CAE|        Columbia, SC|       SC|         45.0|South Carolina|     37|      1950| 2331.0|   221.0|          221.0|     1.0|                12.0| 1900-1959|   19.0|   2350.0|    25.0|   6.0|      2057|   31.0|   214.0|          214.0|     1.0|              12.0| 2000-2059|      0.0|             nan|     0.0|          67.0|             60.0|   35.0|    1.0|   192.0|            1|         0.0|         0.0|     0.0|          0.0|            214.0|         nan|          nan|            nan|               0.0|           nan|                 nan|        nan|        nan|        nan|          nan|             nan|         nan|           nan|             nan|          nan|        nan|        nan|          nan|             nan|         nan|           nan|             nan|          nan|        nan|        nan|          nan|             nan|         nan|           nan|             nan|          nan|        nan|        nan|          nan|             nan|         nan|           nan|             nan|          nan|        nan|        nan|          nan|             nan|         nan|           nan|             nan|          nan|        nan|\n",
            "|         8|2008|      3|    8|         3|        7|2008-08-03|               YV|                   20378|                         YV|     N522LR|                           7233|          13930|           1393001|             30977|   ORD|         Chicago, IL|         IL|           17.0|       Illinois|       41|        11042|         1104201|           30647| CLE|       Cleveland, OH|       OH|         39.0|          Ohio|     44|      1550| 1552.0|     2.0|            2.0|     0.0|                 0.0| 1500-1559|   26.0|   1618.0|  1817.0|   3.0|      1810| 1820.0|    10.0|           10.0|     0.0|               0.0| 1800-1859|      0.0|             nan|     0.0|          80.0|             88.0|   59.0|    1.0|   316.0|            2|         nan|         nan|     nan|          nan|              nan|         nan|          nan|            nan|               nan|           nan|                 nan|        nan|        nan|        nan|          nan|             nan|         nan|           nan|             nan|          nan|        nan|        nan|          nan|             nan|         nan|           nan|             nan|          nan|        nan|        nan|          nan|             nan|         nan|           nan|             nan|          nan|        nan|        nan|          nan|             nan|         nan|           nan|             nan|          nan|        nan|        nan|          nan|             nan|         nan|           nan|             nan|          nan|        nan|\n",
            "|         9|2018|      1|    2|         8|        4|2018-02-08|               WN|                   19393|                         WN|     N8688J|                           5932|          13232|           1323202|             30977|   MDW|         Chicago, IL|         IL|           17.0|       Illinois|       41|        11259|         1125903|           30194| DAL|          Dallas, TX|       TX|         48.0|         Texas|     74|      2030| 2046.0|    16.0|           16.0|     1.0|                 1.0| 2000-2059|   34.0|   2120.0|  2314.0|   5.0|      2250| 2319.0|    29.0|           29.0|     1.0|               1.0| 2200-2259|      0.0|             nan|     0.0|         140.0|            153.0|  114.0|    1.0|   793.0|            4|         0.0|         0.0|    13.0|          0.0|             16.0|         nan|          nan|            nan|               0.0|           nan|                 nan|        nan|        nan|        nan|          nan|             nan|         nan|           nan|             nan|          nan|        nan|        nan|          nan|             nan|         nan|           nan|             nan|          nan|        nan|        nan|          nan|             nan|         nan|           nan|             nan|          nan|        nan|        nan|          nan|             nan|         nan|           nan|             nan|          nan|        nan|        nan|          nan|             nan|         nan|           nan|             nan|          nan|        nan|\n",
            "|        10|1991|      4|   11|        21|        4|1991-11-21|               US|                   20355|                         US|        nan|                           2135|          14679|           1467902|             33570|   SAN|       San Diego, CA|         CA|            6.0|     California|       91|        12892|         1289201|           32575| LAX|     Los Angeles, CA|       CA|          6.0|    California|     91|      1245| 1247.0|     2.0|            2.0|     0.0|                 0.0| 1200-1259|    nan|      nan|     nan|   nan|      1325| 1331.0|     6.0|            6.0|     0.0|               0.0| 1300-1359|      0.0|             nan|     0.0|          40.0|             44.0|    nan|    1.0|   109.0|            1|         nan|         nan|     nan|          nan|              nan|         nan|          nan|            nan|               nan|           nan|                 nan|        nan|        nan|        nan|          nan|             nan|         nan|           nan|             nan|          nan|        nan|        nan|          nan|             nan|         nan|           nan|             nan|          nan|        nan|        nan|          nan|             nan|         nan|           nan|             nan|          nan|        nan|        nan|          nan|             nan|         nan|           nan|             nan|          nan|        nan|        nan|          nan|             nan|         nan|           nan|             nan|          nan|        nan|\n",
            "|        11|2014|      2|    4|         3|        4|2014-04-03|               WN|                   19393|                         WN|     N374SW|                           1463|          11540|           1154003|             30615|   ELP|         El Paso, TX|         TX|           48.0|          Texas|       74|        11259|         1125903|           30194| DAL|          Dallas, TX|       TX|         48.0|         Texas|     74|      1025| 1025.0|     0.0|            0.0|     0.0|                 0.0| 1000-1059|   10.0|   1035.0|  1252.0|   3.0|      1300| 1255.0|    -5.0|            0.0|     0.0|              -1.0| 1300-1359|      0.0|             nan|     0.0|          95.0|             90.0|   77.0|    1.0|   562.0|            3|         nan|         nan|     nan|          nan|              nan|         nan|          nan|            nan|               0.0|           nan|                 nan|        nan|        nan|        nan|          nan|             nan|         nan|           nan|             nan|          nan|        nan|        nan|          nan|             nan|         nan|           nan|             nan|          nan|        nan|        nan|          nan|             nan|         nan|           nan|             nan|          nan|        nan|        nan|          nan|             nan|         nan|           nan|             nan|          nan|        nan|        nan|          nan|             nan|         nan|           nan|             nan|          nan|        nan|\n",
            "|        12|1994|      3|    7|        24|        7|1994-07-24|               AA|                   19805|                         AA|        nan|                            830|          14843|           1484302|             34819|   SJU|        San Juan, PR|         PR|           72.0|    Puerto Rico|        3|        13303|         1330302|           32467| MIA|           Miami, FL|       FL|         12.0|       Florida|     33|      1245| 1242.0|    -3.0|            0.0|     0.0|                -1.0| 1200-1259|    nan|      nan|     nan|   nan|      1521| 1511.0|   -10.0|            0.0|     0.0|              -1.0| 1500-1559|      0.0|             nan|     0.0|         156.0|            149.0|    nan|    1.0|  1045.0|            5|         nan|         nan|     nan|          nan|              nan|         nan|          nan|            nan|               nan|           nan|                 nan|        nan|        nan|        nan|          nan|             nan|         nan|           nan|             nan|          nan|        nan|        nan|          nan|             nan|         nan|           nan|             nan|          nan|        nan|        nan|          nan|             nan|         nan|           nan|             nan|          nan|        nan|        nan|          nan|             nan|         nan|           nan|             nan|          nan|        nan|        nan|          nan|             nan|         nan|           nan|             nan|          nan|        nan|\n",
            "|        13|2013|      2|    6|        30|        7|2013-06-30|               OO|                   20304|                         OO|     N947SW|                           6474|          10140|           1014002|             30140|   ABQ|     Albuquerque, NM|         NM|           35.0|     New Mexico|       86|        12892|         1289203|           32575| LAX|     Los Angeles, CA|       CA|          6.0|    California|     91|      1601| 1557.0|    -4.0|            0.0|     0.0|                -1.0| 1600-1659|    6.0|   1603.0|  1638.0|   8.0|      1705| 1646.0|   -19.0|            0.0|     0.0|              -2.0| 1700-1759|      0.0|             nan|     0.0|         124.0|            109.0|   95.0|    1.0|   677.0|            3|         nan|         nan|     nan|          nan|              nan|         nan|          nan|            nan|               0.0|           nan|                 nan|        nan|        nan|        nan|          nan|             nan|         nan|           nan|             nan|          nan|        nan|        nan|          nan|             nan|         nan|           nan|             nan|          nan|        nan|        nan|          nan|             nan|         nan|           nan|             nan|          nan|        nan|        nan|          nan|             nan|         nan|           nan|             nan|          nan|        nan|        nan|          nan|             nan|         nan|           nan|             nan|          nan|        nan|\n",
            "|        14|2003|      4|   11|        21|        5|2003-11-21|               UA|                   19977|                         UA|     N308UA|                            674|          13930|           1393001|             30977|   ORD|         Chicago, IL|         IL|           17.0|       Illinois|       41|        12953|         1295301|           31703| LGA|        New York, NY|       NY|         36.0|      New York|     22|       900|  855.0|    -5.0|            0.0|     0.0|                -1.0| 0900-0959|   14.0|    909.0|  1148.0|   2.0|      1206| 1150.0|   -16.0|            0.0|     0.0|              -2.0| 1200-1259|      0.0|             nan|     0.0|         126.0|            115.0|   99.0|    1.0|   733.0|            3|         nan|         nan|     nan|          nan|              nan|         nan|          nan|            nan|               nan|           nan|                 nan|        nan|        nan|        nan|          nan|             nan|         nan|           nan|             nan|          nan|        nan|        nan|          nan|             nan|         nan|           nan|             nan|          nan|        nan|        nan|          nan|             nan|         nan|           nan|             nan|          nan|        nan|        nan|          nan|             nan|         nan|           nan|             nan|          nan|        nan|        nan|          nan|             nan|         nan|           nan|             nan|          nan|        nan|\n",
            "|        15|1988|      2|    4|         4|        1|1988-04-04|               PI|                   19822|                         PI|        nan|                            362|          11995|           1199501|             31995|   GSO|Greensboro/High P...|         NC|           37.0| North Carolina|       36|        10821|         1082102|           30852| BWI|       Baltimore, MD|       MD|         24.0|      Maryland|     35|       630|  631.0|     1.0|            1.0|     0.0|                 0.0| 0600-0659|    nan|      nan|     nan|   nan|       728|  737.0|     9.0|            9.0|     0.0|               0.0| 0700-0759|      0.0|             nan|     0.0|          58.0|             66.0|    nan|    1.0|   278.0|            2|         nan|         nan|     nan|          nan|              nan|         nan|          nan|            nan|               nan|           nan|                 nan|        nan|        nan|        nan|          nan|             nan|         nan|           nan|             nan|          nan|        nan|        nan|          nan|             nan|         nan|           nan|             nan|          nan|        nan|        nan|          nan|             nan|         nan|           nan|             nan|          nan|        nan|        nan|          nan|             nan|         nan|           nan|             nan|          nan|        nan|        nan|          nan|             nan|         nan|           nan|             nan|          nan|        nan|\n",
            "|        16|2007|      3|    9|         5|        3|2007-09-05|               NW|                   19386|                         NW|     N8928E|                           1678|          11433|           1143301|             31295|   DTW|         Detroit, MI|         MI|           26.0|       Michigan|       43|        13184|         1318402|           33184| MBS|Saginaw/Bay City/...|       MI|         26.0|      Michigan|     43|      1201| 1150.0|   -11.0|            0.0|     0.0|                -1.0| 1200-1259|   20.0|   1210.0|  1234.0|   5.0|      1246| 1239.0|    -7.0|            0.0|     0.0|              -1.0| 1200-1259|      0.0|             nan|     0.0|          45.0|             49.0|   24.0|    1.0|    98.0|            1|         nan|         nan|     nan|          nan|              nan|         nan|          nan|            nan|               nan|           nan|                 nan|        nan|        nan|        nan|          nan|             nan|         nan|           nan|             nan|          nan|        nan|        nan|          nan|             nan|         nan|           nan|             nan|          nan|        nan|        nan|          nan|             nan|         nan|           nan|             nan|          nan|        nan|        nan|          nan|             nan|         nan|           nan|             nan|          nan|        nan|        nan|          nan|             nan|         nan|           nan|             nan|          nan|        nan|\n",
            "|        17|2015|      3|    9|         5|        6|2015-09-05|               AS|                   19930|                         AS|     N589AS|                            413|          14869|           1486903|             34614|   SLC|  Salt Lake City, UT|         UT|           49.0|           Utah|       87|        14747|         1474703|           30559| SEA|         Seattle, WA|       WA|         53.0|    Washington|     93|      1745| 1733.0|   -12.0|            0.0|     0.0|                -1.0| 1700-1759|    9.0|   1742.0|  1824.0|   8.0|      1855| 1832.0|   -23.0|            0.0|     0.0|              -2.0| 1800-1859|      0.0|             nan|     0.0|         130.0|            119.0|  102.0|    1.0|   689.0|            3|         nan|         nan|     nan|          nan|              nan|         nan|          nan|            nan|               0.0|           nan|                 nan|        nan|        nan|        nan|          nan|             nan|         nan|           nan|             nan|          nan|        nan|        nan|          nan|             nan|         nan|           nan|             nan|          nan|        nan|        nan|          nan|             nan|         nan|           nan|             nan|          nan|        nan|        nan|          nan|             nan|         nan|           nan|             nan|          nan|        nan|        nan|          nan|             nan|         nan|           nan|             nan|          nan|        nan|\n",
            "|        18|2006|      1|    1|        28|        6|2006-01-28|               UA|                   19977|                         UA|     N426UA|                            210|          12892|           1289201|             32575|   LAX|     Los Angeles, CA|         CA|            6.0|     California|       91|        12264|         1226401|           30852| IAD|      Washington, DC|       VA|         51.0|      Virginia|     38|      1545| 1542.0|    -3.0|            0.0|     0.0|                -1.0| 1500-1559|   11.0|   1553.0|  2308.0|   5.0|      2327| 2313.0|   -14.0|            0.0|     0.0|              -1.0| 2300-2359|      0.0|             nan|     0.0|         282.0|            271.0|  255.0|    1.0|  2288.0|           10|         nan|         nan|     nan|          nan|              nan|         nan|          nan|            nan|               nan|           nan|                 nan|        nan|        nan|        nan|          nan|             nan|         nan|           nan|             nan|          nan|        nan|        nan|          nan|             nan|         nan|           nan|             nan|          nan|        nan|        nan|          nan|             nan|         nan|           nan|             nan|          nan|        nan|        nan|          nan|             nan|         nan|           nan|             nan|          nan|        nan|        nan|          nan|             nan|         nan|           nan|             nan|          nan|        nan|\n",
            "|        19|2017|      3|    7|        26|        3|2017-07-26|               WN|                   19393|                         WN|     N252WN|                            995|          14893|           1489302|             33192|   SMF|      Sacramento, CA|         CA|            6.0|     California|       91|        12892|         1289205|           32575| LAX|     Los Angeles, CA|       CA|          6.0|    California|     91|      1535|    nan|     nan|            nan|     nan|                 nan| 1500-1559|    nan|      nan|     nan|   nan|      1700|    nan|     nan|            nan|     nan|               nan| 1700-1759|      1.0|               A|     0.0|          85.0|              nan|    nan|    1.0|   373.0|            2|         nan|         nan|     nan|          nan|              nan|         nan|          nan|            nan|               0.0|           nan|                 nan|        nan|        nan|        nan|          nan|             nan|         nan|           nan|             nan|          nan|        nan|        nan|          nan|             nan|         nan|           nan|             nan|          nan|        nan|        nan|          nan|             nan|         nan|           nan|             nan|          nan|        nan|        nan|          nan|             nan|         nan|           nan|             nan|          nan|        nan|        nan|          nan|             nan|         nan|           nan|             nan|          nan|        nan|\n",
            "+----------+----+-------+-----+----------+---------+----------+-----------------+------------------------+---------------------------+-----------+-------------------------------+---------------+------------------+------------------+------+--------------------+-----------+---------------+---------------+---------+-------------+----------------+----------------+----+--------------------+---------+-------------+--------------+-------+----------+-------+--------+---------------+--------+--------------------+----------+-------+---------+--------+------+----------+-------+--------+---------------+--------+------------------+----------+---------+----------------+--------+--------------+-----------------+-------+-------+--------+-------------+------------+------------+--------+-------------+-----------------+------------+-------------+---------------+------------------+--------------+--------------------+-----------+-----------+-----------+-------------+----------------+------------+--------------+----------------+-------------+-----------+-----------+-------------+----------------+------------+--------------+----------------+-------------+-----------+-----------+-------------+----------------+------------+--------------+----------------+-------------+-----------+-----------+-------------+----------------+------------+--------------+----------------+-------------+-----------+-----------+-------------+----------------+------------+--------------+----------------+-------------+-----------+\n",
            "only showing top 20 rows\n",
            "\n"
          ]
        }
      ]
    },
    {
      "cell_type": "code",
      "source": [
        "sparknewDF = sparkDF.select(\"Year\", \"Month\", \"DayofMonth\" , \"FlightDate\",\"Tail_Number\", \"Flight_Number_Reporting_Airline\" )"
      ],
      "metadata": {
        "id": "ydoQmRFkObIm"
      },
      "execution_count": 224,
      "outputs": []
    },
    {
      "cell_type": "code",
      "source": [
        "sparknewDF.show()"
      ],
      "metadata": {
        "colab": {
          "base_uri": "https://localhost:8080/"
        },
        "id": "g-Z6SB7oOp59",
        "outputId": "fcff29c9-69f2-4615-b50b-7cec1883605b"
      },
      "execution_count": 225,
      "outputs": [
        {
          "output_type": "stream",
          "name": "stdout",
          "text": [
            "+----+-----+----------+----------+-----------+-------------------------------+\n",
            "|Year|Month|DayofMonth|FlightDate|Tail_Number|Flight_Number_Reporting_Airline|\n",
            "+----+-----+----------+----------+-----------+-------------------------------+\n",
            "|1998|    1|         2|1998-01-02|     N297US|                            675|\n",
            "|2009|    5|        28|2009-05-28|     N946AT|                            671|\n",
            "|2013|    6|        29|2013-06-29|     N665MQ|                           3297|\n",
            "|2010|    8|        31|2010-08-31|     N6705Y|                           1806|\n",
            "|2006|    1|        15|2006-01-15|     N504AU|                            465|\n",
            "|1995|   11|        29|1995-11-29|     N925DL|                           1198|\n",
            "|2006|    8|         7|2006-08-07|     N27724|                           1431|\n",
            "|2019|    6|        11|2019-06-11|     N927XJ|                           3459|\n",
            "|2008|    8|         3|2008-08-03|     N522LR|                           7233|\n",
            "|2018|    2|         8|2018-02-08|     N8688J|                           5932|\n",
            "|1991|   11|        21|1991-11-21|        nan|                           2135|\n",
            "|2014|    4|         3|2014-04-03|     N374SW|                           1463|\n",
            "|1994|    7|        24|1994-07-24|        nan|                            830|\n",
            "|2013|    6|        30|2013-06-30|     N947SW|                           6474|\n",
            "|2003|   11|        21|2003-11-21|     N308UA|                            674|\n",
            "|1988|    4|         4|1988-04-04|        nan|                            362|\n",
            "|2007|    9|         5|2007-09-05|     N8928E|                           1678|\n",
            "|2015|    9|         5|2015-09-05|     N589AS|                            413|\n",
            "|2006|    1|        28|2006-01-28|     N426UA|                            210|\n",
            "|2017|    7|        26|2017-07-26|     N252WN|                            995|\n",
            "+----+-----+----------+----------+-----------+-------------------------------+\n",
            "only showing top 20 rows\n",
            "\n"
          ]
        }
      ]
    },
    {
      "cell_type": "code",
      "source": [
        "pdf = sparknewDF.toPandas()"
      ],
      "metadata": {
        "id": "K9d_eaklOsr0"
      },
      "execution_count": 226,
      "outputs": []
    },
    {
      "cell_type": "code",
      "source": [
        "from pyspark.sql.functions import date_format, format_string, date_add, to_timestamp, to_json"
      ],
      "metadata": {
        "id": "eDu5YXKROztR"
      },
      "execution_count": 227,
      "outputs": []
    },
    {
      "cell_type": "code",
      "source": [
        "pdf"
      ],
      "metadata": {
        "colab": {
          "base_uri": "https://localhost:8080/",
          "height": 424
        },
        "id": "dtrw382oPFb-",
        "outputId": "3fe897cc-0bfc-4ca0-ce24-1efe10598611"
      },
      "execution_count": 228,
      "outputs": [
        {
          "output_type": "execute_result",
          "data": {
            "text/plain": [
              "       Year Month DayofMonth  FlightDate Tail_Number  \\\n",
              "0      1998     1          2  1998-01-02      N297US   \n",
              "1      2009     5         28  2009-05-28      N946AT   \n",
              "2      2013     6         29  2013-06-29      N665MQ   \n",
              "3      2010     8         31  2010-08-31      N6705Y   \n",
              "4      2006     1         15  2006-01-15      N504AU   \n",
              "...     ...   ...        ...         ...         ...   \n",
              "49996  1999    10         12  1999-10-12        N311   \n",
              "49997  2010    11          1  2010-11-01      N940CA   \n",
              "49998  2006     4         30  2006-04-30      N509UA   \n",
              "49999  2009     7          8  2009-07-08      N804FR   \n",
              "50000  2006     5         17  2006-05-17      N388AA   \n",
              "\n",
              "      Flight_Number_Reporting_Airline  \n",
              "0                                 675  \n",
              "1                                 671  \n",
              "2                                3297  \n",
              "3                                1806  \n",
              "4                                 465  \n",
              "...                               ...  \n",
              "49996                            1723  \n",
              "49997                            6601  \n",
              "49998                             493  \n",
              "49999                             573  \n",
              "50000                            2401  \n",
              "\n",
              "[50001 rows x 6 columns]"
            ],
            "text/html": [
              "\n",
              "  <div id=\"df-5f50a687-05e0-48a8-a26a-c99597e881d5\">\n",
              "    <div class=\"colab-df-container\">\n",
              "      <div>\n",
              "<style scoped>\n",
              "    .dataframe tbody tr th:only-of-type {\n",
              "        vertical-align: middle;\n",
              "    }\n",
              "\n",
              "    .dataframe tbody tr th {\n",
              "        vertical-align: top;\n",
              "    }\n",
              "\n",
              "    .dataframe thead th {\n",
              "        text-align: right;\n",
              "    }\n",
              "</style>\n",
              "<table border=\"1\" class=\"dataframe\">\n",
              "  <thead>\n",
              "    <tr style=\"text-align: right;\">\n",
              "      <th></th>\n",
              "      <th>Year</th>\n",
              "      <th>Month</th>\n",
              "      <th>DayofMonth</th>\n",
              "      <th>FlightDate</th>\n",
              "      <th>Tail_Number</th>\n",
              "      <th>Flight_Number_Reporting_Airline</th>\n",
              "    </tr>\n",
              "  </thead>\n",
              "  <tbody>\n",
              "    <tr>\n",
              "      <th>0</th>\n",
              "      <td>1998</td>\n",
              "      <td>1</td>\n",
              "      <td>2</td>\n",
              "      <td>1998-01-02</td>\n",
              "      <td>N297US</td>\n",
              "      <td>675</td>\n",
              "    </tr>\n",
              "    <tr>\n",
              "      <th>1</th>\n",
              "      <td>2009</td>\n",
              "      <td>5</td>\n",
              "      <td>28</td>\n",
              "      <td>2009-05-28</td>\n",
              "      <td>N946AT</td>\n",
              "      <td>671</td>\n",
              "    </tr>\n",
              "    <tr>\n",
              "      <th>2</th>\n",
              "      <td>2013</td>\n",
              "      <td>6</td>\n",
              "      <td>29</td>\n",
              "      <td>2013-06-29</td>\n",
              "      <td>N665MQ</td>\n",
              "      <td>3297</td>\n",
              "    </tr>\n",
              "    <tr>\n",
              "      <th>3</th>\n",
              "      <td>2010</td>\n",
              "      <td>8</td>\n",
              "      <td>31</td>\n",
              "      <td>2010-08-31</td>\n",
              "      <td>N6705Y</td>\n",
              "      <td>1806</td>\n",
              "    </tr>\n",
              "    <tr>\n",
              "      <th>4</th>\n",
              "      <td>2006</td>\n",
              "      <td>1</td>\n",
              "      <td>15</td>\n",
              "      <td>2006-01-15</td>\n",
              "      <td>N504AU</td>\n",
              "      <td>465</td>\n",
              "    </tr>\n",
              "    <tr>\n",
              "      <th>...</th>\n",
              "      <td>...</td>\n",
              "      <td>...</td>\n",
              "      <td>...</td>\n",
              "      <td>...</td>\n",
              "      <td>...</td>\n",
              "      <td>...</td>\n",
              "    </tr>\n",
              "    <tr>\n",
              "      <th>49996</th>\n",
              "      <td>1999</td>\n",
              "      <td>10</td>\n",
              "      <td>12</td>\n",
              "      <td>1999-10-12</td>\n",
              "      <td>N311</td>\n",
              "      <td>1723</td>\n",
              "    </tr>\n",
              "    <tr>\n",
              "      <th>49997</th>\n",
              "      <td>2010</td>\n",
              "      <td>11</td>\n",
              "      <td>1</td>\n",
              "      <td>2010-11-01</td>\n",
              "      <td>N940CA</td>\n",
              "      <td>6601</td>\n",
              "    </tr>\n",
              "    <tr>\n",
              "      <th>49998</th>\n",
              "      <td>2006</td>\n",
              "      <td>4</td>\n",
              "      <td>30</td>\n",
              "      <td>2006-04-30</td>\n",
              "      <td>N509UA</td>\n",
              "      <td>493</td>\n",
              "    </tr>\n",
              "    <tr>\n",
              "      <th>49999</th>\n",
              "      <td>2009</td>\n",
              "      <td>7</td>\n",
              "      <td>8</td>\n",
              "      <td>2009-07-08</td>\n",
              "      <td>N804FR</td>\n",
              "      <td>573</td>\n",
              "    </tr>\n",
              "    <tr>\n",
              "      <th>50000</th>\n",
              "      <td>2006</td>\n",
              "      <td>5</td>\n",
              "      <td>17</td>\n",
              "      <td>2006-05-17</td>\n",
              "      <td>N388AA</td>\n",
              "      <td>2401</td>\n",
              "    </tr>\n",
              "  </tbody>\n",
              "</table>\n",
              "<p>50001 rows × 6 columns</p>\n",
              "</div>\n",
              "      <button class=\"colab-df-convert\" onclick=\"convertToInteractive('df-5f50a687-05e0-48a8-a26a-c99597e881d5')\"\n",
              "              title=\"Convert this dataframe to an interactive table.\"\n",
              "              style=\"display:none;\">\n",
              "        \n",
              "  <svg xmlns=\"http://www.w3.org/2000/svg\" height=\"24px\"viewBox=\"0 0 24 24\"\n",
              "       width=\"24px\">\n",
              "    <path d=\"M0 0h24v24H0V0z\" fill=\"none\"/>\n",
              "    <path d=\"M18.56 5.44l.94 2.06.94-2.06 2.06-.94-2.06-.94-.94-2.06-.94 2.06-2.06.94zm-11 1L8.5 8.5l.94-2.06 2.06-.94-2.06-.94L8.5 2.5l-.94 2.06-2.06.94zm10 10l.94 2.06.94-2.06 2.06-.94-2.06-.94-.94-2.06-.94 2.06-2.06.94z\"/><path d=\"M17.41 7.96l-1.37-1.37c-.4-.4-.92-.59-1.43-.59-.52 0-1.04.2-1.43.59L10.3 9.45l-7.72 7.72c-.78.78-.78 2.05 0 2.83L4 21.41c.39.39.9.59 1.41.59.51 0 1.02-.2 1.41-.59l7.78-7.78 2.81-2.81c.8-.78.8-2.07 0-2.86zM5.41 20L4 18.59l7.72-7.72 1.47 1.35L5.41 20z\"/>\n",
              "  </svg>\n",
              "      </button>\n",
              "      \n",
              "  <style>\n",
              "    .colab-df-container {\n",
              "      display:flex;\n",
              "      flex-wrap:wrap;\n",
              "      gap: 12px;\n",
              "    }\n",
              "\n",
              "    .colab-df-convert {\n",
              "      background-color: #E8F0FE;\n",
              "      border: none;\n",
              "      border-radius: 50%;\n",
              "      cursor: pointer;\n",
              "      display: none;\n",
              "      fill: #1967D2;\n",
              "      height: 32px;\n",
              "      padding: 0 0 0 0;\n",
              "      width: 32px;\n",
              "    }\n",
              "\n",
              "    .colab-df-convert:hover {\n",
              "      background-color: #E2EBFA;\n",
              "      box-shadow: 0px 1px 2px rgba(60, 64, 67, 0.3), 0px 1px 3px 1px rgba(60, 64, 67, 0.15);\n",
              "      fill: #174EA6;\n",
              "    }\n",
              "\n",
              "    [theme=dark] .colab-df-convert {\n",
              "      background-color: #3B4455;\n",
              "      fill: #D2E3FC;\n",
              "    }\n",
              "\n",
              "    [theme=dark] .colab-df-convert:hover {\n",
              "      background-color: #434B5C;\n",
              "      box-shadow: 0px 1px 3px 1px rgba(0, 0, 0, 0.15);\n",
              "      filter: drop-shadow(0px 1px 2px rgba(0, 0, 0, 0.3));\n",
              "      fill: #FFFFFF;\n",
              "    }\n",
              "  </style>\n",
              "\n",
              "      <script>\n",
              "        const buttonEl =\n",
              "          document.querySelector('#df-5f50a687-05e0-48a8-a26a-c99597e881d5 button.colab-df-convert');\n",
              "        buttonEl.style.display =\n",
              "          google.colab.kernel.accessAllowed ? 'block' : 'none';\n",
              "\n",
              "        async function convertToInteractive(key) {\n",
              "          const element = document.querySelector('#df-5f50a687-05e0-48a8-a26a-c99597e881d5');\n",
              "          const dataTable =\n",
              "            await google.colab.kernel.invokeFunction('convertToInteractive',\n",
              "                                                     [key], {});\n",
              "          if (!dataTable) return;\n",
              "\n",
              "          const docLinkHtml = 'Like what you see? Visit the ' +\n",
              "            '<a target=\"_blank\" href=https://colab.research.google.com/notebooks/data_table.ipynb>data table notebook</a>'\n",
              "            + ' to learn more about interactive tables.';\n",
              "          element.innerHTML = '';\n",
              "          dataTable['output_type'] = 'display_data';\n",
              "          await google.colab.output.renderOutput(dataTable, element);\n",
              "          const docLink = document.createElement('div');\n",
              "          docLink.innerHTML = docLinkHtml;\n",
              "          element.appendChild(docLink);\n",
              "        }\n",
              "      </script>\n",
              "    </div>\n",
              "  </div>\n",
              "  "
            ]
          },
          "metadata": {},
          "execution_count": 228
        }
      ]
    },
    {
      "cell_type": "code",
      "source": [
        "#Creating dataframe from external dataset\n",
        "df = spark.read.option(\"header\",\"true\").csv(\"/content/airlines1.csv\")"
      ],
      "metadata": {
        "id": "T8CyoyYlPJmC"
      },
      "execution_count": 229,
      "outputs": []
    },
    {
      "cell_type": "code",
      "source": [
        "df.show()"
      ],
      "metadata": {
        "colab": {
          "base_uri": "https://localhost:8080/"
        },
        "id": "YXHoMfIrPVpv",
        "outputId": "d2424560-f4d6-4c9b-ac45-fe8320a8b23f"
      },
      "execution_count": 230,
      "outputs": [
        {
          "output_type": "stream",
          "name": "stdout",
          "text": [
            "+---+----+-------+-----+----------+---------+----------+-----------------+------------------------+---------------------------+-----------+-------------------------------+---------------+------------------+------------------+------+--------------------+-----------+---------------+---------------+---------+-------------+----------------+----------------+----+--------------------+---------+-------------+--------------+-------+----------+-------+--------+---------------+--------+--------------------+----------+-------+---------+--------+------+----------+-------+--------+---------------+--------+------------------+----------+---------+----------------+--------+--------------+-----------------+-------+-------+--------+-------------+------------+------------+--------+-------------+-----------------+------------+-------------+---------------+------------------+--------------+--------------------+-----------+-----------+-----------+-------------+----------------+------------+--------------+----------------+-------------+-----------+-----------+-------------+----------------+------------+--------------+----------------+-------------+-----------+-----------+-------------+----------------+------------+--------------+----------------+-------------+-----------+-----------+-------------+----------------+------------+--------------+----------------+-------------+-----------+-----------+-------------+----------------+------------+--------------+----------------+-------------+-----------+\n",
            "|_c0|Year|Quarter|Month|DayofMonth|DayOfWeek|FlightDate|Reporting_Airline|DOT_ID_Reporting_Airline|IATA_CODE_Reporting_Airline|Tail_Number|Flight_Number_Reporting_Airline|OriginAirportID|OriginAirportSeqID|OriginCityMarketID|Origin|      OriginCityName|OriginState|OriginStateFips|OriginStateName|OriginWac|DestAirportID|DestAirportSeqID|DestCityMarketID|Dest|        DestCityName|DestState|DestStateFips| DestStateName|DestWac|CRSDepTime|DepTime|DepDelay|DepDelayMinutes|DepDel15|DepartureDelayGroups|DepTimeBlk|TaxiOut|WheelsOff|WheelsOn|TaxiIn|CRSArrTime|ArrTime|ArrDelay|ArrDelayMinutes|ArrDel15|ArrivalDelayGroups|ArrTimeBlk|Cancelled|CancellationCode|Diverted|CRSElapsedTime|ActualElapsedTime|AirTime|Flights|Distance|DistanceGroup|CarrierDelay|WeatherDelay|NASDelay|SecurityDelay|LateAircraftDelay|FirstDepTime|TotalAddGTime|LongestAddGTime|DivAirportLandings|DivReachedDest|DivActualElapsedTime|DivArrDelay|DivDistance|Div1Airport|Div1AirportID|Div1AirportSeqID|Div1WheelsOn|Div1TotalGTime|Div1LongestGTime|Div1WheelsOff|Div1TailNum|Div2Airport|Div2AirportID|Div2AirportSeqID|Div2WheelsOn|Div2TotalGTime|Div2LongestGTime|Div2WheelsOff|Div2TailNum|Div3Airport|Div3AirportID|Div3AirportSeqID|Div3WheelsOn|Div3TotalGTime|Div3LongestGTime|Div3WheelsOff|Div3TailNum|Div4Airport|Div4AirportID|Div4AirportSeqID|Div4WheelsOn|Div4TotalGTime|Div4LongestGTime|Div4WheelsOff|Div4TailNum|Div5Airport|Div5AirportID|Div5AirportSeqID|Div5WheelsOn|Div5TotalGTime|Div5LongestGTime|Div5WheelsOff|Div5TailNum|\n",
            "+---+----+-------+-----+----------+---------+----------+-----------------+------------------------+---------------------------+-----------+-------------------------------+---------------+------------------+------------------+------+--------------------+-----------+---------------+---------------+---------+-------------+----------------+----------------+----+--------------------+---------+-------------+--------------+-------+----------+-------+--------+---------------+--------+--------------------+----------+-------+---------+--------+------+----------+-------+--------+---------------+--------+------------------+----------+---------+----------------+--------+--------------+-----------------+-------+-------+--------+-------------+------------+------------+--------+-------------+-----------------+------------+-------------+---------------+------------------+--------------+--------------------+-----------+-----------+-----------+-------------+----------------+------------+--------------+----------------+-------------+-----------+-----------+-------------+----------------+------------+--------------+----------------+-------------+-----------+-----------+-------------+----------------+------------+--------------+----------------+-------------+-----------+-----------+-------------+----------------+------------+--------------+----------------+-------------+-----------+-----------+-------------+----------------+------------+--------------+----------------+-------------+-----------+\n",
            "|  0|1998|      1|    1|         2|        5|1998-01-02|               NW|                   19386|                         NW|     N297US|                            675|          13487|           1348701|             31650|   MSP|     Minneapolis, MN|         MN|           27.0|      Minnesota|       63|        14869|         1486902|           34614| SLC|  Salt Lake City, UT|       UT|         49.0|          Utah|     87|      1640| 1659.0|    19.0|           19.0|     1.0|                 1.0| 1600-1659|   24.0|   1723.0|  1856.0|   3.0|      1836| 1859.0|    23.0|           23.0|     1.0|               1.0| 1800-1859|      0.0|            null|     0.0|         176.0|            180.0|  153.0|    1.0|   991.0|            4|        null|        null|    null|         null|             null|        null|         null|           null|              null|          null|                null|       null|       null|       null|         null|            null|        null|          null|            null|         null|       null|       null|         null|            null|        null|          null|            null|         null|       null|       null|         null|            null|        null|          null|            null|         null|       null|       null|         null|            null|        null|          null|            null|         null|       null|       null|         null|            null|        null|          null|            null|         null|       null|\n",
            "|  1|2009|      2|    5|        28|        4|2009-05-28|               FL|                   20437|                         FL|     N946AT|                            671|          13342|           1334202|             33342|   MKE|       Milwaukee, WI|         WI|           55.0|      Wisconsin|       45|        13204|         1320401|           31454| MCO|         Orlando, FL|       FL|         12.0|       Florida|     33|      1204| 1202.0|    -2.0|            0.0|     0.0|                -1.0| 1200-1259|   10.0|   1212.0|  1533.0|   8.0|      1541| 1541.0|     0.0|            0.0|     0.0|               0.0| 1500-1559|      0.0|            null|     0.0|         157.0|            159.0|  141.0|    1.0|  1066.0|            5|        null|        null|    null|         null|             null|        null|         null|           null|               0.0|          null|                null|       null|       null|       null|         null|            null|        null|          null|            null|         null|       null|       null|         null|            null|        null|          null|            null|         null|       null|       null|         null|            null|        null|          null|            null|         null|       null|       null|         null|            null|        null|          null|            null|         null|       null|       null|         null|            null|        null|          null|            null|         null|       null|\n",
            "|  2|2013|      2|    6|        29|        6|2013-06-29|               MQ|                   20398|                         MQ|     N665MQ|                           3297|          11921|           1192102|             31921|   GJT|  Grand Junction, CO|         CO|            8.0|       Colorado|       82|        11298|         1129803|           30194| DFW|Dallas/Fort Worth...|       TX|         48.0|         Texas|     74|      1630| 1644.0|    14.0|           14.0|     0.0|                 0.0| 1600-1659|    9.0|   1653.0|  1936.0|   6.0|      1945| 1942.0|    -3.0|            0.0|     0.0|              -1.0| 1900-1959|      0.0|            null|     0.0|         135.0|            118.0|  103.0|    1.0|   773.0|            4|        null|        null|    null|         null|             null|        null|         null|           null|               0.0|          null|                null|       null|       null|       null|         null|            null|        null|          null|            null|         null|       null|       null|         null|            null|        null|          null|            null|         null|       null|       null|         null|            null|        null|          null|            null|         null|       null|       null|         null|            null|        null|          null|            null|         null|       null|       null|         null|            null|        null|          null|            null|         null|       null|\n",
            "|  3|2010|      3|    8|        31|        2|2010-08-31|               DL|                   19790|                         DL|     N6705Y|                           1806|          12892|           1289201|             32575|   LAX|     Los Angeles, CA|         CA|            6.0|     California|       91|        11433|         1143301|           31295| DTW|         Detroit, MI|       MI|         26.0|      Michigan|     43|      1305| 1305.0|     0.0|            0.0|     0.0|                 0.0| 1300-1359|   23.0|   1328.0|  2008.0|   7.0|      2035| 2015.0|   -20.0|            0.0|     0.0|              -2.0| 2000-2059|      0.0|            null|     0.0|         270.0|            250.0|  220.0|    1.0|  1979.0|            8|        null|        null|    null|         null|             null|        null|         null|           null|               0.0|          null|                null|       null|       null|       null|         null|            null|        null|          null|            null|         null|       null|       null|         null|            null|        null|          null|            null|         null|       null|       null|         null|            null|        null|          null|            null|         null|       null|       null|         null|            null|        null|          null|            null|         null|       null|       null|         null|            null|        null|          null|            null|         null|       null|\n",
            "|  4|2006|      1|    1|        15|        7|2006-01-15|               US|                   20355|                         US|     N504AU|                            465|          11618|           1161801|             31703|   EWR|          Newark, NJ|         NJ|           34.0|     New Jersey|       21|        11057|         1105702|           31057| CLT|       Charlotte, NC|       NC|         37.0|North Carolina|     36|      1820| 1911.0|    51.0|           51.0|     1.0|                 3.0| 1800-1859|   19.0|   1930.0|  2050.0|   8.0|      2026| 2058.0|    32.0|           32.0|     1.0|               2.0| 2000-2059|      0.0|            null|     0.0|         126.0|            107.0|   80.0|    1.0|   529.0|            3|         0.0|         0.0|     0.0|          0.0|             32.0|        null|         null|           null|              null|          null|                null|       null|       null|       null|         null|            null|        null|          null|            null|         null|       null|       null|         null|            null|        null|          null|            null|         null|       null|       null|         null|            null|        null|          null|            null|         null|       null|       null|         null|            null|        null|          null|            null|         null|       null|       null|         null|            null|        null|          null|            null|         null|       null|\n",
            "|  5|1995|      4|   11|        29|        3|1995-11-29|               DL|                   19790|                         DL|     N925DL|                           1198|          11298|           1129802|             30194|   DFW|Dallas/Fort Worth...|         TX|           48.0|          Texas|       74|        14814|         1481401|           30476| SHV|      Shreveport, LA|       LA|         22.0|     Louisiana|     72|       639|  639.0|     0.0|            0.0|     0.0|                 0.0| 0600-0659|   29.0|    708.0|   736.0|   5.0|       730|  741.0|    11.0|           11.0|     0.0|               0.0| 0700-0759|      0.0|            null|     0.0|          51.0|             62.0|   28.0|    1.0|   190.0|            1|        null|        null|    null|         null|             null|        null|         null|           null|              null|          null|                null|       null|       null|       null|         null|            null|        null|          null|            null|         null|       null|       null|         null|            null|        null|          null|            null|         null|       null|       null|         null|            null|        null|          null|            null|         null|       null|       null|         null|            null|        null|          null|            null|         null|       null|       null|         null|            null|        null|          null|            null|         null|       null|\n",
            "|  6|2006|      3|    8|         7|        1|2006-08-07|               CO|                   19704|                         CO|     N27724|                           1431|          10721|           1072101|             30721|   BOS|          Boston, MA|         MA|           25.0|  Massachusetts|       13|        11042|         1104201|           30647| CLE|       Cleveland, OH|       OH|         39.0|          Ohio|     44|      1755| 1751.0|    -4.0|            0.0|     0.0|                -1.0| 1700-1759|   33.0|   1824.0|  1958.0|   4.0|      2000| 2002.0|     2.0|            2.0|     0.0|               0.0| 2000-2059|      0.0|            null|     0.0|         125.0|            131.0|   94.0|    1.0|   563.0|            3|        null|        null|    null|         null|             null|        null|         null|           null|              null|          null|                null|       null|       null|       null|         null|            null|        null|          null|            null|         null|       null|       null|         null|            null|        null|          null|            null|         null|       null|       null|         null|            null|        null|          null|            null|         null|       null|       null|         null|            null|        null|          null|            null|         null|       null|       null|         null|            null|        null|          null|            null|         null|       null|\n",
            "|  7|2019|      2|    6|        11|        2|2019-06-11|               9E|                   20363|                         9E|     N927XJ|                           3459|          10397|           1039707|             30397|   ATL|         Atlanta, GA|         GA|           13.0|        Georgia|       34|        10868|         1086803|           30868| CAE|        Columbia, SC|       SC|         45.0|South Carolina|     37|      1950| 2331.0|   221.0|          221.0|     1.0|                12.0| 1900-1959|   19.0|   2350.0|    25.0|   6.0|      2057|   31.0|   214.0|          214.0|     1.0|              12.0| 2000-2059|      0.0|            null|     0.0|          67.0|             60.0|   35.0|    1.0|   192.0|            1|         0.0|         0.0|     0.0|          0.0|            214.0|        null|         null|           null|               0.0|          null|                null|       null|       null|       null|         null|            null|        null|          null|            null|         null|       null|       null|         null|            null|        null|          null|            null|         null|       null|       null|         null|            null|        null|          null|            null|         null|       null|       null|         null|            null|        null|          null|            null|         null|       null|       null|         null|            null|        null|          null|            null|         null|       null|\n",
            "|  8|2008|      3|    8|         3|        7|2008-08-03|               YV|                   20378|                         YV|     N522LR|                           7233|          13930|           1393001|             30977|   ORD|         Chicago, IL|         IL|           17.0|       Illinois|       41|        11042|         1104201|           30647| CLE|       Cleveland, OH|       OH|         39.0|          Ohio|     44|      1550| 1552.0|     2.0|            2.0|     0.0|                 0.0| 1500-1559|   26.0|   1618.0|  1817.0|   3.0|      1810| 1820.0|    10.0|           10.0|     0.0|               0.0| 1800-1859|      0.0|            null|     0.0|          80.0|             88.0|   59.0|    1.0|   316.0|            2|        null|        null|    null|         null|             null|        null|         null|           null|              null|          null|                null|       null|       null|       null|         null|            null|        null|          null|            null|         null|       null|       null|         null|            null|        null|          null|            null|         null|       null|       null|         null|            null|        null|          null|            null|         null|       null|       null|         null|            null|        null|          null|            null|         null|       null|       null|         null|            null|        null|          null|            null|         null|       null|\n",
            "|  9|2018|      1|    2|         8|        4|2018-02-08|               WN|                   19393|                         WN|     N8688J|                           5932|          13232|           1323202|             30977|   MDW|         Chicago, IL|         IL|           17.0|       Illinois|       41|        11259|         1125903|           30194| DAL|          Dallas, TX|       TX|         48.0|         Texas|     74|      2030| 2046.0|    16.0|           16.0|     1.0|                 1.0| 2000-2059|   34.0|   2120.0|  2314.0|   5.0|      2250| 2319.0|    29.0|           29.0|     1.0|               1.0| 2200-2259|      0.0|            null|     0.0|         140.0|            153.0|  114.0|    1.0|   793.0|            4|         0.0|         0.0|    13.0|          0.0|             16.0|        null|         null|           null|               0.0|          null|                null|       null|       null|       null|         null|            null|        null|          null|            null|         null|       null|       null|         null|            null|        null|          null|            null|         null|       null|       null|         null|            null|        null|          null|            null|         null|       null|       null|         null|            null|        null|          null|            null|         null|       null|       null|         null|            null|        null|          null|            null|         null|       null|\n",
            "| 10|1991|      4|   11|        21|        4|1991-11-21|               US|                   20355|                         US|       null|                           2135|          14679|           1467902|             33570|   SAN|       San Diego, CA|         CA|            6.0|     California|       91|        12892|         1289201|           32575| LAX|     Los Angeles, CA|       CA|          6.0|    California|     91|      1245| 1247.0|     2.0|            2.0|     0.0|                 0.0| 1200-1259|   null|     null|    null|  null|      1325| 1331.0|     6.0|            6.0|     0.0|               0.0| 1300-1359|      0.0|            null|     0.0|          40.0|             44.0|   null|    1.0|   109.0|            1|        null|        null|    null|         null|             null|        null|         null|           null|              null|          null|                null|       null|       null|       null|         null|            null|        null|          null|            null|         null|       null|       null|         null|            null|        null|          null|            null|         null|       null|       null|         null|            null|        null|          null|            null|         null|       null|       null|         null|            null|        null|          null|            null|         null|       null|       null|         null|            null|        null|          null|            null|         null|       null|\n",
            "| 11|2014|      2|    4|         3|        4|2014-04-03|               WN|                   19393|                         WN|     N374SW|                           1463|          11540|           1154003|             30615|   ELP|         El Paso, TX|         TX|           48.0|          Texas|       74|        11259|         1125903|           30194| DAL|          Dallas, TX|       TX|         48.0|         Texas|     74|      1025| 1025.0|     0.0|            0.0|     0.0|                 0.0| 1000-1059|   10.0|   1035.0|  1252.0|   3.0|      1300| 1255.0|    -5.0|            0.0|     0.0|              -1.0| 1300-1359|      0.0|            null|     0.0|          95.0|             90.0|   77.0|    1.0|   562.0|            3|        null|        null|    null|         null|             null|        null|         null|           null|               0.0|          null|                null|       null|       null|       null|         null|            null|        null|          null|            null|         null|       null|       null|         null|            null|        null|          null|            null|         null|       null|       null|         null|            null|        null|          null|            null|         null|       null|       null|         null|            null|        null|          null|            null|         null|       null|       null|         null|            null|        null|          null|            null|         null|       null|\n",
            "| 12|1994|      3|    7|        24|        7|1994-07-24|               AA|                   19805|                         AA|       null|                            830|          14843|           1484302|             34819|   SJU|        San Juan, PR|         PR|           72.0|    Puerto Rico|        3|        13303|         1330302|           32467| MIA|           Miami, FL|       FL|         12.0|       Florida|     33|      1245| 1242.0|    -3.0|            0.0|     0.0|                -1.0| 1200-1259|   null|     null|    null|  null|      1521| 1511.0|   -10.0|            0.0|     0.0|              -1.0| 1500-1559|      0.0|            null|     0.0|         156.0|            149.0|   null|    1.0|  1045.0|            5|        null|        null|    null|         null|             null|        null|         null|           null|              null|          null|                null|       null|       null|       null|         null|            null|        null|          null|            null|         null|       null|       null|         null|            null|        null|          null|            null|         null|       null|       null|         null|            null|        null|          null|            null|         null|       null|       null|         null|            null|        null|          null|            null|         null|       null|       null|         null|            null|        null|          null|            null|         null|       null|\n",
            "| 13|2013|      2|    6|        30|        7|2013-06-30|               OO|                   20304|                         OO|     N947SW|                           6474|          10140|           1014002|             30140|   ABQ|     Albuquerque, NM|         NM|           35.0|     New Mexico|       86|        12892|         1289203|           32575| LAX|     Los Angeles, CA|       CA|          6.0|    California|     91|      1601| 1557.0|    -4.0|            0.0|     0.0|                -1.0| 1600-1659|    6.0|   1603.0|  1638.0|   8.0|      1705| 1646.0|   -19.0|            0.0|     0.0|              -2.0| 1700-1759|      0.0|            null|     0.0|         124.0|            109.0|   95.0|    1.0|   677.0|            3|        null|        null|    null|         null|             null|        null|         null|           null|               0.0|          null|                null|       null|       null|       null|         null|            null|        null|          null|            null|         null|       null|       null|         null|            null|        null|          null|            null|         null|       null|       null|         null|            null|        null|          null|            null|         null|       null|       null|         null|            null|        null|          null|            null|         null|       null|       null|         null|            null|        null|          null|            null|         null|       null|\n",
            "| 14|2003|      4|   11|        21|        5|2003-11-21|               UA|                   19977|                         UA|     N308UA|                            674|          13930|           1393001|             30977|   ORD|         Chicago, IL|         IL|           17.0|       Illinois|       41|        12953|         1295301|           31703| LGA|        New York, NY|       NY|         36.0|      New York|     22|       900|  855.0|    -5.0|            0.0|     0.0|                -1.0| 0900-0959|   14.0|    909.0|  1148.0|   2.0|      1206| 1150.0|   -16.0|            0.0|     0.0|              -2.0| 1200-1259|      0.0|            null|     0.0|         126.0|            115.0|   99.0|    1.0|   733.0|            3|        null|        null|    null|         null|             null|        null|         null|           null|              null|          null|                null|       null|       null|       null|         null|            null|        null|          null|            null|         null|       null|       null|         null|            null|        null|          null|            null|         null|       null|       null|         null|            null|        null|          null|            null|         null|       null|       null|         null|            null|        null|          null|            null|         null|       null|       null|         null|            null|        null|          null|            null|         null|       null|\n",
            "| 15|1988|      2|    4|         4|        1|1988-04-04|               PI|                   19822|                         PI|       null|                            362|          11995|           1199501|             31995|   GSO|Greensboro/High P...|         NC|           37.0| North Carolina|       36|        10821|         1082102|           30852| BWI|       Baltimore, MD|       MD|         24.0|      Maryland|     35|       630|  631.0|     1.0|            1.0|     0.0|                 0.0| 0600-0659|   null|     null|    null|  null|       728|  737.0|     9.0|            9.0|     0.0|               0.0| 0700-0759|      0.0|            null|     0.0|          58.0|             66.0|   null|    1.0|   278.0|            2|        null|        null|    null|         null|             null|        null|         null|           null|              null|          null|                null|       null|       null|       null|         null|            null|        null|          null|            null|         null|       null|       null|         null|            null|        null|          null|            null|         null|       null|       null|         null|            null|        null|          null|            null|         null|       null|       null|         null|            null|        null|          null|            null|         null|       null|       null|         null|            null|        null|          null|            null|         null|       null|\n",
            "| 16|2007|      3|    9|         5|        3|2007-09-05|               NW|                   19386|                         NW|     N8928E|                           1678|          11433|           1143301|             31295|   DTW|         Detroit, MI|         MI|           26.0|       Michigan|       43|        13184|         1318402|           33184| MBS|Saginaw/Bay City/...|       MI|         26.0|      Michigan|     43|      1201| 1150.0|   -11.0|            0.0|     0.0|                -1.0| 1200-1259|   20.0|   1210.0|  1234.0|   5.0|      1246| 1239.0|    -7.0|            0.0|     0.0|              -1.0| 1200-1259|      0.0|            null|     0.0|          45.0|             49.0|   24.0|    1.0|    98.0|            1|        null|        null|    null|         null|             null|        null|         null|           null|              null|          null|                null|       null|       null|       null|         null|            null|        null|          null|            null|         null|       null|       null|         null|            null|        null|          null|            null|         null|       null|       null|         null|            null|        null|          null|            null|         null|       null|       null|         null|            null|        null|          null|            null|         null|       null|       null|         null|            null|        null|          null|            null|         null|       null|\n",
            "| 17|2015|      3|    9|         5|        6|2015-09-05|               AS|                   19930|                         AS|     N589AS|                            413|          14869|           1486903|             34614|   SLC|  Salt Lake City, UT|         UT|           49.0|           Utah|       87|        14747|         1474703|           30559| SEA|         Seattle, WA|       WA|         53.0|    Washington|     93|      1745| 1733.0|   -12.0|            0.0|     0.0|                -1.0| 1700-1759|    9.0|   1742.0|  1824.0|   8.0|      1855| 1832.0|   -23.0|            0.0|     0.0|              -2.0| 1800-1859|      0.0|            null|     0.0|         130.0|            119.0|  102.0|    1.0|   689.0|            3|        null|        null|    null|         null|             null|        null|         null|           null|               0.0|          null|                null|       null|       null|       null|         null|            null|        null|          null|            null|         null|       null|       null|         null|            null|        null|          null|            null|         null|       null|       null|         null|            null|        null|          null|            null|         null|       null|       null|         null|            null|        null|          null|            null|         null|       null|       null|         null|            null|        null|          null|            null|         null|       null|\n",
            "| 18|2006|      1|    1|        28|        6|2006-01-28|               UA|                   19977|                         UA|     N426UA|                            210|          12892|           1289201|             32575|   LAX|     Los Angeles, CA|         CA|            6.0|     California|       91|        12264|         1226401|           30852| IAD|      Washington, DC|       VA|         51.0|      Virginia|     38|      1545| 1542.0|    -3.0|            0.0|     0.0|                -1.0| 1500-1559|   11.0|   1553.0|  2308.0|   5.0|      2327| 2313.0|   -14.0|            0.0|     0.0|              -1.0| 2300-2359|      0.0|            null|     0.0|         282.0|            271.0|  255.0|    1.0|  2288.0|           10|        null|        null|    null|         null|             null|        null|         null|           null|              null|          null|                null|       null|       null|       null|         null|            null|        null|          null|            null|         null|       null|       null|         null|            null|        null|          null|            null|         null|       null|       null|         null|            null|        null|          null|            null|         null|       null|       null|         null|            null|        null|          null|            null|         null|       null|       null|         null|            null|        null|          null|            null|         null|       null|\n",
            "| 19|2017|      3|    7|        26|        3|2017-07-26|               WN|                   19393|                         WN|     N252WN|                            995|          14893|           1489302|             33192|   SMF|      Sacramento, CA|         CA|            6.0|     California|       91|        12892|         1289205|           32575| LAX|     Los Angeles, CA|       CA|          6.0|    California|     91|      1535|   null|    null|           null|    null|                null| 1500-1559|   null|     null|    null|  null|      1700|   null|    null|           null|    null|              null| 1700-1759|      1.0|               A|     0.0|          85.0|             null|   null|    1.0|   373.0|            2|        null|        null|    null|         null|             null|        null|         null|           null|               0.0|          null|                null|       null|       null|       null|         null|            null|        null|          null|            null|         null|       null|       null|         null|            null|        null|          null|            null|         null|       null|       null|         null|            null|        null|          null|            null|         null|       null|       null|         null|            null|        null|          null|            null|         null|       null|       null|         null|            null|        null|          null|            null|         null|       null|\n",
            "+---+----+-------+-----+----------+---------+----------+-----------------+------------------------+---------------------------+-----------+-------------------------------+---------------+------------------+------------------+------+--------------------+-----------+---------------+---------------+---------+-------------+----------------+----------------+----+--------------------+---------+-------------+--------------+-------+----------+-------+--------+---------------+--------+--------------------+----------+-------+---------+--------+------+----------+-------+--------+---------------+--------+------------------+----------+---------+----------------+--------+--------------+-----------------+-------+-------+--------+-------------+------------+------------+--------+-------------+-----------------+------------+-------------+---------------+------------------+--------------+--------------------+-----------+-----------+-----------+-------------+----------------+------------+--------------+----------------+-------------+-----------+-----------+-------------+----------------+------------+--------------+----------------+-------------+-----------+-----------+-------------+----------------+------------+--------------+----------------+-------------+-----------+-----------+-------------+----------------+------------+--------------+----------------+-------------+-----------+-----------+-------------+----------------+------------+--------------+----------------+-------------+-----------+\n",
            "only showing top 20 rows\n",
            "\n"
          ]
        }
      ]
    },
    {
      "cell_type": "code",
      "source": [
        "df.columns"
      ],
      "metadata": {
        "colab": {
          "base_uri": "https://localhost:8080/"
        },
        "id": "0p6FCCL7PZyf",
        "outputId": "4a608d75-0a2a-4daf-8e21-f366f6f71a91"
      },
      "execution_count": 231,
      "outputs": [
        {
          "output_type": "execute_result",
          "data": {
            "text/plain": [
              "['_c0',\n",
              " 'Year',\n",
              " 'Quarter',\n",
              " 'Month',\n",
              " 'DayofMonth',\n",
              " 'DayOfWeek',\n",
              " 'FlightDate',\n",
              " 'Reporting_Airline',\n",
              " 'DOT_ID_Reporting_Airline',\n",
              " 'IATA_CODE_Reporting_Airline',\n",
              " 'Tail_Number',\n",
              " 'Flight_Number_Reporting_Airline',\n",
              " 'OriginAirportID',\n",
              " 'OriginAirportSeqID',\n",
              " 'OriginCityMarketID',\n",
              " 'Origin',\n",
              " 'OriginCityName',\n",
              " 'OriginState',\n",
              " 'OriginStateFips',\n",
              " 'OriginStateName',\n",
              " 'OriginWac',\n",
              " 'DestAirportID',\n",
              " 'DestAirportSeqID',\n",
              " 'DestCityMarketID',\n",
              " 'Dest',\n",
              " 'DestCityName',\n",
              " 'DestState',\n",
              " 'DestStateFips',\n",
              " 'DestStateName',\n",
              " 'DestWac',\n",
              " 'CRSDepTime',\n",
              " 'DepTime',\n",
              " 'DepDelay',\n",
              " 'DepDelayMinutes',\n",
              " 'DepDel15',\n",
              " 'DepartureDelayGroups',\n",
              " 'DepTimeBlk',\n",
              " 'TaxiOut',\n",
              " 'WheelsOff',\n",
              " 'WheelsOn',\n",
              " 'TaxiIn',\n",
              " 'CRSArrTime',\n",
              " 'ArrTime',\n",
              " 'ArrDelay',\n",
              " 'ArrDelayMinutes',\n",
              " 'ArrDel15',\n",
              " 'ArrivalDelayGroups',\n",
              " 'ArrTimeBlk',\n",
              " 'Cancelled',\n",
              " 'CancellationCode',\n",
              " 'Diverted',\n",
              " 'CRSElapsedTime',\n",
              " 'ActualElapsedTime',\n",
              " 'AirTime',\n",
              " 'Flights',\n",
              " 'Distance',\n",
              " 'DistanceGroup',\n",
              " 'CarrierDelay',\n",
              " 'WeatherDelay',\n",
              " 'NASDelay',\n",
              " 'SecurityDelay',\n",
              " 'LateAircraftDelay',\n",
              " 'FirstDepTime',\n",
              " 'TotalAddGTime',\n",
              " 'LongestAddGTime',\n",
              " 'DivAirportLandings',\n",
              " 'DivReachedDest',\n",
              " 'DivActualElapsedTime',\n",
              " 'DivArrDelay',\n",
              " 'DivDistance',\n",
              " 'Div1Airport',\n",
              " 'Div1AirportID',\n",
              " 'Div1AirportSeqID',\n",
              " 'Div1WheelsOn',\n",
              " 'Div1TotalGTime',\n",
              " 'Div1LongestGTime',\n",
              " 'Div1WheelsOff',\n",
              " 'Div1TailNum',\n",
              " 'Div2Airport',\n",
              " 'Div2AirportID',\n",
              " 'Div2AirportSeqID',\n",
              " 'Div2WheelsOn',\n",
              " 'Div2TotalGTime',\n",
              " 'Div2LongestGTime',\n",
              " 'Div2WheelsOff',\n",
              " 'Div2TailNum',\n",
              " 'Div3Airport',\n",
              " 'Div3AirportID',\n",
              " 'Div3AirportSeqID',\n",
              " 'Div3WheelsOn',\n",
              " 'Div3TotalGTime',\n",
              " 'Div3LongestGTime',\n",
              " 'Div3WheelsOff',\n",
              " 'Div3TailNum',\n",
              " 'Div4Airport',\n",
              " 'Div4AirportID',\n",
              " 'Div4AirportSeqID',\n",
              " 'Div4WheelsOn',\n",
              " 'Div4TotalGTime',\n",
              " 'Div4LongestGTime',\n",
              " 'Div4WheelsOff',\n",
              " 'Div4TailNum',\n",
              " 'Div5Airport',\n",
              " 'Div5AirportID',\n",
              " 'Div5AirportSeqID',\n",
              " 'Div5WheelsOn',\n",
              " 'Div5TotalGTime',\n",
              " 'Div5LongestGTime',\n",
              " 'Div5WheelsOff',\n",
              " 'Div5TailNum']"
            ]
          },
          "metadata": {},
          "execution_count": 231
        }
      ]
    },
    {
      "cell_type": "code",
      "source": [
        "Flight_Details = df.select(\"_c0\",\"Year\", \"Month\", \"DayofMonth\" , \"FlightDate\",\"Tail_Number\", \"Flight_Number_Reporting_Airline\")"
      ],
      "metadata": {
        "id": "_lztl_CIPmy5"
      },
      "execution_count": 232,
      "outputs": []
    },
    {
      "cell_type": "code",
      "source": [
        "\n",
        "#Count total number of records in each year\n",
        "Flight_Details.select(\"Year\").groupBy(\"Year\").count().show()"
      ],
      "metadata": {
        "colab": {
          "base_uri": "https://localhost:8080/"
        },
        "id": "DlKpRWTePu56",
        "outputId": "0ad20320-5c7c-4743-c96c-72ce3be5d9cf"
      },
      "execution_count": 233,
      "outputs": [
        {
          "output_type": "stream",
          "name": "stdout",
          "text": [
            "+----+-----+\n",
            "|Year|count|\n",
            "+----+-----+\n",
            "|1987|  339|\n",
            "|2016| 1502|\n",
            "|2020|  462|\n",
            "|2012| 1519|\n",
            "|1988| 1310|\n",
            "|2019| 1900|\n",
            "|2017| 1449|\n",
            "|2014| 1513|\n",
            "|2013| 1690|\n",
            "|2005| 1812|\n",
            "|2000| 1477|\n",
            "|2002| 1371|\n",
            "|2009| 1604|\n",
            "|2018| 1862|\n",
            "|1995| 1377|\n",
            "|2006| 1900|\n",
            "|2004| 1847|\n",
            "|2011| 1551|\n",
            "|1989| 1288|\n",
            "|1992| 1335|\n",
            "+----+-----+\n",
            "only showing top 20 rows\n",
            "\n"
          ]
        }
      ]
    },
    {
      "cell_type": "code",
      "source": [
        "#Count total number of records in each month\n",
        "Flight_Details.select(\"Month\").groupBy(\"Month\").count().show()"
      ],
      "metadata": {
        "colab": {
          "base_uri": "https://localhost:8080/"
        },
        "id": "lw15gST8P2BW",
        "outputId": "b9706cfd-0873-4d97-a6fd-8cf23b4eb5cc"
      },
      "execution_count": 234,
      "outputs": [
        {
          "output_type": "stream",
          "name": "stdout",
          "text": [
            "+-----+-----+\n",
            "|Month|count|\n",
            "+-----+-----+\n",
            "|    7| 4267|\n",
            "|   11| 3997|\n",
            "|    3| 4396|\n",
            "|    8| 4414|\n",
            "|    5| 4167|\n",
            "|    6| 4078|\n",
            "|    9| 3954|\n",
            "|    1| 4362|\n",
            "|   10| 4264|\n",
            "|    4| 3969|\n",
            "|   12| 4232|\n",
            "|    2| 3901|\n",
            "+-----+-----+\n",
            "\n"
          ]
        }
      ]
    },
    {
      "cell_type": "code",
      "source": [
        "#Count total number of cancelled flights in each year\n",
        "df.select(\"Year\").filter(\"cancelled = 1\").groupBy(\"Year\").count().show()"
      ],
      "metadata": {
        "colab": {
          "base_uri": "https://localhost:8080/"
        },
        "id": "AzRML-wLP9ax",
        "outputId": "440dbfe4-c605-4f2e-8b31-ef50d4dffcdb"
      },
      "execution_count": 235,
      "outputs": [
        {
          "output_type": "stream",
          "name": "stdout",
          "text": [
            "+----+-----+\n",
            "|Year|count|\n",
            "+----+-----+\n",
            "|1987|    3|\n",
            "|2016|   17|\n",
            "|2012|   20|\n",
            "|2020|   24|\n",
            "|1988|   15|\n",
            "|2019|   34|\n",
            "|2017|   22|\n",
            "|2014|   31|\n",
            "|2013|   22|\n",
            "|2005|   33|\n",
            "|2000|   42|\n",
            "|2002|   11|\n",
            "|2018|   24|\n",
            "|2009|   19|\n",
            "|1995|   22|\n",
            "|2006|   30|\n",
            "|2004|   29|\n",
            "|2011|   29|\n",
            "|1989|   26|\n",
            "|1992|   14|\n",
            "+----+-----+\n",
            "only showing top 20 rows\n",
            "\n"
          ]
        }
      ]
    },
    {
      "cell_type": "code",
      "source": [
        "#Count total number of cancelled flights in each month\n",
        "df.select(\"Month\").filter(\"cancelled = 1\").groupBy(\"Month\").count().show()"
      ],
      "metadata": {
        "colab": {
          "base_uri": "https://localhost:8080/"
        },
        "id": "KzwNH6C4QMza",
        "outputId": "8b273a8c-cabe-4504-baf9-121831f6c977"
      },
      "execution_count": 236,
      "outputs": [
        {
          "output_type": "stream",
          "name": "stdout",
          "text": [
            "+-----+-----+\n",
            "|Month|count|\n",
            "+-----+-----+\n",
            "|    7|   60|\n",
            "|   11|   46|\n",
            "|    3|  106|\n",
            "|    8|   75|\n",
            "|    5|   39|\n",
            "|    6|   60|\n",
            "|    9|  101|\n",
            "|    1|  132|\n",
            "|   10|   57|\n",
            "|    4|   44|\n",
            "|   12|   68|\n",
            "|    2|   90|\n",
            "+-----+-----+\n",
            "\n"
          ]
        }
      ]
    },
    {
      "cell_type": "code",
      "source": [
        "#Count total number of flights by each airport\n",
        "df.select(\"Origin\").groupBy(\"Origin\").count().show()"
      ],
      "metadata": {
        "colab": {
          "base_uri": "https://localhost:8080/"
        },
        "id": "OlfJs4rdQaG3",
        "outputId": "757af75e-b58a-4c1a-f5f2-af5855714cb8"
      },
      "execution_count": 237,
      "outputs": [
        {
          "output_type": "stream",
          "name": "stdout",
          "text": [
            "+------+-----+\n",
            "|Origin|count|\n",
            "+------+-----+\n",
            "|   BGM|   11|\n",
            "|   INL|    1|\n",
            "|   PSE|    3|\n",
            "|   MSY|  383|\n",
            "|   PPG|    1|\n",
            "|   GEG|  118|\n",
            "|   BUR|  222|\n",
            "|   SNA|  339|\n",
            "|   GRB|   42|\n",
            "|   GTF|   27|\n",
            "|   IDA|   17|\n",
            "|   GRR|  106|\n",
            "|   PVU|    2|\n",
            "|   EUG|   34|\n",
            "|   PSG|   11|\n",
            "|   GSO|  124|\n",
            "|   PVD|  141|\n",
            "|   MYR|   41|\n",
            "|   OAK|  435|\n",
            "|   MSN|   81|\n",
            "+------+-----+\n",
            "only showing top 20 rows\n",
            "\n"
          ]
        }
      ]
    },
    {
      "cell_type": "code",
      "source": [
        "#Count total number of flights without delay\n",
        "df.select(\"Year\").filter(\"DepDelay <= 0 \").groupBy(\"Year\").count().show()"
      ],
      "metadata": {
        "colab": {
          "base_uri": "https://localhost:8080/"
        },
        "id": "H3anzGrqQjKB",
        "outputId": "b66852a5-1802-4390-bb1c-0df0a3f9baf8"
      },
      "execution_count": 238,
      "outputs": [
        {
          "output_type": "stream",
          "name": "stdout",
          "text": [
            "+----+-----+\n",
            "|Year|count|\n",
            "+----+-----+\n",
            "|1987|  187|\n",
            "|2016|  978|\n",
            "|2012|  949|\n",
            "|2020|  320|\n",
            "|1988|  775|\n",
            "|2019| 1171|\n",
            "|2017|  911|\n",
            "|2014|  885|\n",
            "|2013| 1011|\n",
            "|2005| 1122|\n",
            "|2000|  812|\n",
            "|2002|  891|\n",
            "|2009|  996|\n",
            "|2018| 1214|\n",
            "|1995|  648|\n",
            "|2006| 1116|\n",
            "|2004| 1226|\n",
            "|2011|  955|\n",
            "|1989|  705|\n",
            "|1992|  721|\n",
            "+----+-----+\n",
            "only showing top 20 rows\n",
            "\n"
          ]
        }
      ]
    },
    {
      "cell_type": "code",
      "source": [
        "#Count total number of delayed flights by year\n",
        "df.select(\"Year\").filter(\"DepDelay > 0 \").groupBy(\"Year\").count().show()"
      ],
      "metadata": {
        "colab": {
          "base_uri": "https://localhost:8080/"
        },
        "id": "BUr6sIDjQsgR",
        "outputId": "ef56094d-945b-4bed-bcde-336dad91c087"
      },
      "execution_count": 239,
      "outputs": [
        {
          "output_type": "stream",
          "name": "stdout",
          "text": [
            "+----+-----+\n",
            "|Year|count|\n",
            "+----+-----+\n",
            "|1987|  149|\n",
            "|2016|  507|\n",
            "|2020|  118|\n",
            "|2012|  551|\n",
            "|1988|  520|\n",
            "|2019|  695|\n",
            "|2017|  516|\n",
            "|2014|  597|\n",
            "|2013|  659|\n",
            "|2005|  657|\n",
            "|2000|  623|\n",
            "|2002|  469|\n",
            "|2018|  622|\n",
            "|2009|  590|\n",
            "|1995|  707|\n",
            "|2006|  754|\n",
            "|2004|  592|\n",
            "|2011|  569|\n",
            "|1989|  557|\n",
            "|1992|  600|\n",
            "+----+-----+\n",
            "only showing top 20 rows\n",
            "\n"
          ]
        }
      ]
    },
    {
      "cell_type": "code",
      "source": [
        "#Count total number on time flights by year\n",
        "df.select(\"Year\").filter((df.DepDelay <= 0) & (df.ArrDelay <= 0)).groupBy(\"Year\").count().show()"
      ],
      "metadata": {
        "colab": {
          "base_uri": "https://localhost:8080/"
        },
        "id": "RfUGOtr7Qufj",
        "outputId": "b42cb369-fc7d-4cb1-d24b-02bc5f09abda"
      },
      "execution_count": 240,
      "outputs": [
        {
          "output_type": "stream",
          "name": "stdout",
          "text": [
            "+----+-----+\n",
            "|Year|count|\n",
            "+----+-----+\n",
            "|1987|   96|\n",
            "|2016|  840|\n",
            "|2012|  782|\n",
            "|2020|  280|\n",
            "|1988|  474|\n",
            "|2019|  982|\n",
            "|2017|  739|\n",
            "|2014|  726|\n",
            "|2013|  829|\n",
            "|2005|  845|\n",
            "|2000|  579|\n",
            "|2002|  695|\n",
            "|2009|  793|\n",
            "|2018| 1032|\n",
            "|1995|  444|\n",
            "|2006|  821|\n",
            "|2004|  921|\n",
            "|1989|  453|\n",
            "|2011|  757|\n",
            "|1992|  501|\n",
            "+----+-----+\n",
            "only showing top 20 rows\n",
            "\n"
          ]
        }
      ]
    },
    {
      "cell_type": "code",
      "source": [
        ""
      ],
      "metadata": {
        "id": "0XwhZD4qmYC0"
      },
      "execution_count": 240,
      "outputs": []
    },
    {
      "cell_type": "markdown",
      "source": [
        "###We create segments of data "
      ],
      "metadata": {
        "id": "s9YbF3qdmaXo"
      }
    },
    {
      "cell_type": "code",
      "source": [
        "Flight_Origin= df.select(\"_c0\",\"OriginAirportID\", \"OriginAirportSeqID\", \"OriginCityMarketID\",\"Origin\", \"OriginCityName\",\"OriginState\", \"OriginStateName\")"
      ],
      "metadata": {
        "id": "-967EPL1Q2fV"
      },
      "execution_count": 241,
      "outputs": []
    },
    {
      "cell_type": "code",
      "source": [
        "Flight_Destination = df.select(\"_c0\",\"DestAirportID\", \"DestAirportSeqID\", \"Dest\", \"DestCityName\",\"DestState\",\"DestStateName\")"
      ],
      "metadata": {
        "id": "vSHdAwcwRDcF"
      },
      "execution_count": 242,
      "outputs": []
    },
    {
      "cell_type": "code",
      "source": [
        "Flight_arr_dep = df.select(\"_c0\",\"CRSArrTime\",\"ArrTime\", \"CRSDepTime\",\"DepTime\")"
      ],
      "metadata": {
        "id": "_UhdJKNXRE-v"
      },
      "execution_count": 243,
      "outputs": []
    },
    {
      "cell_type": "code",
      "source": [
        "DelayDF= df.select(\"_c0\",\"CarrierDelay\",\"WeatherDelay\", \"NASDelay\",\"SecurityDelay\",\"LateAircraftDelay\")"
      ],
      "metadata": {
        "id": "O-gxaZKWRIOj"
      },
      "execution_count": 244,
      "outputs": []
    },
    {
      "cell_type": "code",
      "source": [
        "Flight_cancel = df.select(\"_c0\",\"Cancelled\",\"CancellationCode\",\"Diverted\",\"Flights\")"
      ],
      "metadata": {
        "id": "HA3aabogRKF0"
      },
      "execution_count": 245,
      "outputs": []
    },
    {
      "cell_type": "code",
      "source": [
        "Flight_cancel = Flight_cancel.withColumnRenamed(\"_c0\", \"ID\")"
      ],
      "metadata": {
        "id": "oUGKkMkHRLwE"
      },
      "execution_count": 246,
      "outputs": []
    },
    {
      "cell_type": "markdown",
      "source": [
        "###Data Cleaning (Handling null values)"
      ],
      "metadata": {
        "id": "6vlm-2Fjmm7o"
      }
    },
    {
      "cell_type": "code",
      "source": [
        "Flight_cancel.show()"
      ],
      "metadata": {
        "colab": {
          "base_uri": "https://localhost:8080/"
        },
        "id": "f5ncFNrYRT_b",
        "outputId": "912b806a-fae8-458e-f938-5b9800cddaa4"
      },
      "execution_count": 247,
      "outputs": [
        {
          "output_type": "stream",
          "name": "stdout",
          "text": [
            "+---+---------+----------------+--------+-------+\n",
            "| ID|Cancelled|CancellationCode|Diverted|Flights|\n",
            "+---+---------+----------------+--------+-------+\n",
            "|  0|      0.0|            null|     0.0|    1.0|\n",
            "|  1|      0.0|            null|     0.0|    1.0|\n",
            "|  2|      0.0|            null|     0.0|    1.0|\n",
            "|  3|      0.0|            null|     0.0|    1.0|\n",
            "|  4|      0.0|            null|     0.0|    1.0|\n",
            "|  5|      0.0|            null|     0.0|    1.0|\n",
            "|  6|      0.0|            null|     0.0|    1.0|\n",
            "|  7|      0.0|            null|     0.0|    1.0|\n",
            "|  8|      0.0|            null|     0.0|    1.0|\n",
            "|  9|      0.0|            null|     0.0|    1.0|\n",
            "| 10|      0.0|            null|     0.0|    1.0|\n",
            "| 11|      0.0|            null|     0.0|    1.0|\n",
            "| 12|      0.0|            null|     0.0|    1.0|\n",
            "| 13|      0.0|            null|     0.0|    1.0|\n",
            "| 14|      0.0|            null|     0.0|    1.0|\n",
            "| 15|      0.0|            null|     0.0|    1.0|\n",
            "| 16|      0.0|            null|     0.0|    1.0|\n",
            "| 17|      0.0|            null|     0.0|    1.0|\n",
            "| 18|      0.0|            null|     0.0|    1.0|\n",
            "| 19|      1.0|               A|     0.0|    1.0|\n",
            "+---+---------+----------------+--------+-------+\n",
            "only showing top 20 rows\n",
            "\n"
          ]
        }
      ]
    },
    {
      "cell_type": "code",
      "source": [
        "Flight_cancel.na.drop(how=\"any\").show()"
      ],
      "metadata": {
        "colab": {
          "base_uri": "https://localhost:8080/"
        },
        "id": "puBELtWvRWtc",
        "outputId": "066520ba-70a7-48c8-d750-ede7e265b2ec"
      },
      "execution_count": 248,
      "outputs": [
        {
          "output_type": "stream",
          "name": "stdout",
          "text": [
            "+----+---------+----------------+--------+-------+\n",
            "|  ID|Cancelled|CancellationCode|Diverted|Flights|\n",
            "+----+---------+----------------+--------+-------+\n",
            "|  19|      1.0|               A|     0.0|    1.0|\n",
            "| 146|      1.0|               B|     0.0|    1.0|\n",
            "| 197|      1.0|               C|     0.0|    1.0|\n",
            "| 554|      1.0|               A|     0.0|    1.0|\n",
            "| 680|      1.0|               A|     0.0|    1.0|\n",
            "| 841|      1.0|               A|     0.0|    1.0|\n",
            "| 905|      1.0|               B|     0.0|    1.0|\n",
            "| 911|      1.0|               B|     0.0|    1.0|\n",
            "| 965|      1.0|               B|     0.0|    1.0|\n",
            "|1082|      1.0|               C|     0.0|    1.0|\n",
            "|1246|      1.0|               A|     0.0|    1.0|\n",
            "|1443|      1.0|               B|     0.0|    1.0|\n",
            "|1450|      1.0|               A|     0.0|    1.0|\n",
            "|1633|      1.0|               A|     0.0|    1.0|\n",
            "|1730|      1.0|               B|     0.0|    1.0|\n",
            "|1773|      1.0|               C|     0.0|    1.0|\n",
            "|1904|      1.0|               B|     0.0|    1.0|\n",
            "|1908|      1.0|               B|     0.0|    1.0|\n",
            "|1913|      1.0|               A|     0.0|    1.0|\n",
            "|2450|      1.0|               A|     0.0|    1.0|\n",
            "+----+---------+----------------+--------+-------+\n",
            "only showing top 20 rows\n",
            "\n"
          ]
        }
      ]
    },
    {
      "cell_type": "code",
      "source": [
        "Flight_cancel.na.fill(\"Yes\").show()"
      ],
      "metadata": {
        "colab": {
          "base_uri": "https://localhost:8080/"
        },
        "id": "auPCK6lvReE-",
        "outputId": "996ed08b-96ba-46ec-e285-f5af4e559ee3"
      },
      "execution_count": 249,
      "outputs": [
        {
          "output_type": "stream",
          "name": "stdout",
          "text": [
            "+---+---------+----------------+--------+-------+\n",
            "| ID|Cancelled|CancellationCode|Diverted|Flights|\n",
            "+---+---------+----------------+--------+-------+\n",
            "|  0|      0.0|             Yes|     0.0|    1.0|\n",
            "|  1|      0.0|             Yes|     0.0|    1.0|\n",
            "|  2|      0.0|             Yes|     0.0|    1.0|\n",
            "|  3|      0.0|             Yes|     0.0|    1.0|\n",
            "|  4|      0.0|             Yes|     0.0|    1.0|\n",
            "|  5|      0.0|             Yes|     0.0|    1.0|\n",
            "|  6|      0.0|             Yes|     0.0|    1.0|\n",
            "|  7|      0.0|             Yes|     0.0|    1.0|\n",
            "|  8|      0.0|             Yes|     0.0|    1.0|\n",
            "|  9|      0.0|             Yes|     0.0|    1.0|\n",
            "| 10|      0.0|             Yes|     0.0|    1.0|\n",
            "| 11|      0.0|             Yes|     0.0|    1.0|\n",
            "| 12|      0.0|             Yes|     0.0|    1.0|\n",
            "| 13|      0.0|             Yes|     0.0|    1.0|\n",
            "| 14|      0.0|             Yes|     0.0|    1.0|\n",
            "| 15|      0.0|             Yes|     0.0|    1.0|\n",
            "| 16|      0.0|             Yes|     0.0|    1.0|\n",
            "| 17|      0.0|             Yes|     0.0|    1.0|\n",
            "| 18|      0.0|             Yes|     0.0|    1.0|\n",
            "| 19|      1.0|               A|     0.0|    1.0|\n",
            "+---+---------+----------------+--------+-------+\n",
            "only showing top 20 rows\n",
            "\n"
          ]
        }
      ]
    },
    {
      "cell_type": "markdown",
      "source": [
        "###Apply pyspark windows function"
      ],
      "metadata": {
        "id": "znzdoZHBmuOO"
      }
    },
    {
      "cell_type": "code",
      "source": [
        "from pyspark.sql.window import Window\n",
        "from pyspark.sql.functions import row_number"
      ],
      "metadata": {
        "id": "rvzzX4BURoiW"
      },
      "execution_count": 250,
      "outputs": []
    },
    {
      "cell_type": "code",
      "source": [
        "ndf = Window.partitionBy(\"OriginState\").orderBy(\"OriginAirportID\")\n",
        "Flight_Origin.withColumn(\"row_number\", row_number().over(ndf)).show()"
      ],
      "metadata": {
        "colab": {
          "base_uri": "https://localhost:8080/"
        },
        "id": "htyS6s5IR3xK",
        "outputId": "ee9b9691-1d2c-4988-8d08-b7988b50c3d0"
      },
      "execution_count": 251,
      "outputs": [
        {
          "output_type": "stream",
          "name": "stdout",
          "text": [
            "+-----+---------------+------------------+------------------+------+--------------------+-----------+---------------+----------+\n",
            "|  _c0|OriginAirportID|OriginAirportSeqID|OriginCityMarketID|Origin|      OriginCityName|OriginState|OriginStateName|row_number|\n",
            "+-----+---------------+------------------+------------------+------+--------------------+-----------+---------------+----------+\n",
            "|22201|          12016|           1201601|             32016|   GUM|          Guam, Guam|       null|           null|         1|\n",
            "|32252|          12016|           1201601|             32016|   GUM|          Guam, Guam|       null|           null|         2|\n",
            "|47945|          14583|           1458301|             34583|   ROR|Koror, Palau Dist...|       null|           null|         3|\n",
            "| 4406|          14843|           1484301|             34819|   SJU|San Juan, Puerto ...|       null|           null|         4|\n",
            "|11056|          14843|           1484301|             34819|   SJU|San Juan, Puerto ...|       null|           null|         5|\n",
            "|11127|          14843|           1484301|             34819|   SJU|San Juan, Puerto ...|       null|           null|         6|\n",
            "|17268|          14843|           1484301|             34819|   SJU|San Juan, Puerto ...|       null|           null|         7|\n",
            "|19012|          14843|           1484301|             34819|   SJU|San Juan, Puerto ...|       null|           null|         8|\n",
            "|20504|          14843|           1484301|             34819|   SJU|San Juan, Puerto ...|       null|           null|         9|\n",
            "|21724|          14843|           1484301|             34819|   SJU|San Juan, Puerto ...|       null|           null|        10|\n",
            "|27784|          14843|           1484301|             34819|   SJU|San Juan, Puerto ...|       null|           null|        11|\n",
            "|31525|          14843|           1484301|             34819|   SJU|San Juan, Puerto ...|       null|           null|        12|\n",
            "|39618|          14843|           1484301|             34819|   SJU|San Juan, Puerto ...|       null|           null|        13|\n",
            "|18173|          14955|           1495501|             34955|   SPN|Saipan, Northern ...|       null|           null|        14|\n",
            "|22928|          15024|           1502402|             34945|   STT|Charlotte Amalie,...|       null|           null|        15|\n",
            "|27212|          15024|           1502402|             34945|   STT|Charlotte Amalie,...|       null|           null|        16|\n",
            "|29420|          15024|           1502402|             34945|   STT|Charlotte Amalie,...|       null|           null|        17|\n",
            "|37516|          15024|           1502402|             34945|   STT|Charlotte Amalie,...|       null|           null|        18|\n",
            "|40192|          15024|           1502402|             34945|   STT|Charlotte Amalie,...|       null|           null|        19|\n",
            "|45635|          15027|           1502701|             34992|   STX|Christiansted, Vi...|       null|           null|        20|\n",
            "+-----+---------------+------------------+------------------+------+--------------------+-----------+---------------+----------+\n",
            "only showing top 20 rows\n",
            "\n"
          ]
        }
      ]
    },
    {
      "cell_type": "code",
      "source": [
        "#Use rank function\n",
        "from pyspark.sql.functions import rank\n",
        "Flight_Origin.withColumn(\"rank\", rank().over(ndf)).show()"
      ],
      "metadata": {
        "colab": {
          "base_uri": "https://localhost:8080/"
        },
        "id": "ShoXYgj5ScQP",
        "outputId": "42a14506-c3d8-409f-b2fa-4a9879ad5a45"
      },
      "execution_count": 252,
      "outputs": [
        {
          "output_type": "stream",
          "name": "stdout",
          "text": [
            "+-----+---------------+------------------+------------------+------+--------------------+-----------+---------------+----+\n",
            "|  _c0|OriginAirportID|OriginAirportSeqID|OriginCityMarketID|Origin|      OriginCityName|OriginState|OriginStateName|rank|\n",
            "+-----+---------------+------------------+------------------+------+--------------------+-----------+---------------+----+\n",
            "|22201|          12016|           1201601|             32016|   GUM|          Guam, Guam|       null|           null|   1|\n",
            "|32252|          12016|           1201601|             32016|   GUM|          Guam, Guam|       null|           null|   1|\n",
            "|47945|          14583|           1458301|             34583|   ROR|Koror, Palau Dist...|       null|           null|   3|\n",
            "| 4406|          14843|           1484301|             34819|   SJU|San Juan, Puerto ...|       null|           null|   4|\n",
            "|11056|          14843|           1484301|             34819|   SJU|San Juan, Puerto ...|       null|           null|   4|\n",
            "|11127|          14843|           1484301|             34819|   SJU|San Juan, Puerto ...|       null|           null|   4|\n",
            "|17268|          14843|           1484301|             34819|   SJU|San Juan, Puerto ...|       null|           null|   4|\n",
            "|19012|          14843|           1484301|             34819|   SJU|San Juan, Puerto ...|       null|           null|   4|\n",
            "|20504|          14843|           1484301|             34819|   SJU|San Juan, Puerto ...|       null|           null|   4|\n",
            "|21724|          14843|           1484301|             34819|   SJU|San Juan, Puerto ...|       null|           null|   4|\n",
            "|27784|          14843|           1484301|             34819|   SJU|San Juan, Puerto ...|       null|           null|   4|\n",
            "|31525|          14843|           1484301|             34819|   SJU|San Juan, Puerto ...|       null|           null|   4|\n",
            "|39618|          14843|           1484301|             34819|   SJU|San Juan, Puerto ...|       null|           null|   4|\n",
            "|18173|          14955|           1495501|             34955|   SPN|Saipan, Northern ...|       null|           null|  14|\n",
            "|22928|          15024|           1502402|             34945|   STT|Charlotte Amalie,...|       null|           null|  15|\n",
            "|27212|          15024|           1502402|             34945|   STT|Charlotte Amalie,...|       null|           null|  15|\n",
            "|29420|          15024|           1502402|             34945|   STT|Charlotte Amalie,...|       null|           null|  15|\n",
            "|37516|          15024|           1502402|             34945|   STT|Charlotte Amalie,...|       null|           null|  15|\n",
            "|40192|          15024|           1502402|             34945|   STT|Charlotte Amalie,...|       null|           null|  15|\n",
            "|45635|          15027|           1502701|             34992|   STX|Christiansted, Vi...|       null|           null|  20|\n",
            "+-----+---------------+------------------+------------------+------+--------------------+-----------+---------------+----+\n",
            "only showing top 20 rows\n",
            "\n"
          ]
        }
      ]
    },
    {
      "cell_type": "code",
      "source": [
        "#Sorting data by using sortBy\n",
        "Flight_Origin.sort(\"Origin\",\"OriginState\").show()"
      ],
      "metadata": {
        "colab": {
          "base_uri": "https://localhost:8080/"
        },
        "id": "vxwbV7reTUmB",
        "outputId": "0f5605cc-c05b-495b-f73b-c5a8120c1d6c"
      },
      "execution_count": 253,
      "outputs": [
        {
          "output_type": "stream",
          "name": "stdout",
          "text": [
            "+-----+---------------+------------------+------------------+------+--------------------+-----------+---------------+\n",
            "|  _c0|OriginAirportID|OriginAirportSeqID|OriginCityMarketID|Origin|      OriginCityName|OriginState|OriginStateName|\n",
            "+-----+---------------+------------------+------------------+------+--------------------+-----------+---------------+\n",
            "| 6277|          10135|           1013501|             30135|   ABE|Allentown/Bethleh...|         PA|   Pennsylvania|\n",
            "| 5819|          10135|           1013501|             30135|   ABE|Allentown/Bethleh...|         PA|   Pennsylvania|\n",
            "|33085|          10135|           1013501|             30135|   ABE|Allentown/Bethleh...|         PA|   Pennsylvania|\n",
            "|20102|          10135|           1013501|             30135|   ABE|Allentown/Bethleh...|         PA|   Pennsylvania|\n",
            "| 1590|          10135|           1013501|             30135|   ABE|Allentown/Bethleh...|         PA|   Pennsylvania|\n",
            "|38459|          10135|           1013501|             30135|   ABE|Allentown/Bethleh...|         PA|   Pennsylvania|\n",
            "|31673|          10135|           1013503|             30135|   ABE|Allentown/Bethleh...|         PA|   Pennsylvania|\n",
            "|31493|          10135|           1013501|             30135|   ABE|Allentown/Bethleh...|         PA|   Pennsylvania|\n",
            "| 5113|          10135|           1013502|             30135|   ABE|Allentown/Bethleh...|         PA|   Pennsylvania|\n",
            "| 5403|          10135|           1013505|             30135|   ABE|Allentown/Bethleh...|         PA|   Pennsylvania|\n",
            "|44533|          10135|           1013501|             30135|   ABE|Allentown/Bethleh...|         PA|   Pennsylvania|\n",
            "|45933|          10135|           1013501|             30135|   ABE|Allentown/Bethleh...|         PA|   Pennsylvania|\n",
            "|46502|          10135|           1013501|             30135|   ABE|Allentown/Bethleh...|         PA|   Pennsylvania|\n",
            "|46998|          10135|           1013501|             30135|   ABE|Allentown/Bethleh...|         PA|   Pennsylvania|\n",
            "|39459|          10135|           1013501|             30135|   ABE|Allentown/Bethleh...|         PA|   Pennsylvania|\n",
            "|40523|          10135|           1013501|             30135|   ABE|Allentown/Bethleh...|         PA|   Pennsylvania|\n",
            "|33877|          10135|           1013501|             30135|   ABE|Allentown/Bethleh...|         PA|   Pennsylvania|\n",
            "|42080|          10135|           1013501|             30135|   ABE|Allentown/Bethleh...|         PA|   Pennsylvania|\n",
            "|34386|          10135|           1013501|             30135|   ABE|Allentown/Bethleh...|         PA|   Pennsylvania|\n",
            "|42910|          10135|           1013501|             30135|   ABE|Allentown/Bethleh...|         PA|   Pennsylvania|\n",
            "+-----+---------------+------------------+------------------+------+--------------------+-----------+---------------+\n",
            "only showing top 20 rows\n",
            "\n"
          ]
        }
      ]
    },
    {
      "cell_type": "code",
      "source": [
        "#Sorting dta by using orderBy\n",
        "Flight_Origin.orderBy(\"Origin\", \"OriginState\").show()"
      ],
      "metadata": {
        "colab": {
          "base_uri": "https://localhost:8080/"
        },
        "id": "g8i-UCh_TljH",
        "outputId": "c5d7f88a-34c6-4beb-a4c2-c8e6c9cfe68d"
      },
      "execution_count": 254,
      "outputs": [
        {
          "output_type": "stream",
          "name": "stdout",
          "text": [
            "+-----+---------------+------------------+------------------+------+--------------------+-----------+---------------+\n",
            "|  _c0|OriginAirportID|OriginAirportSeqID|OriginCityMarketID|Origin|      OriginCityName|OriginState|OriginStateName|\n",
            "+-----+---------------+------------------+------------------+------+--------------------+-----------+---------------+\n",
            "| 6277|          10135|           1013501|             30135|   ABE|Allentown/Bethleh...|         PA|   Pennsylvania|\n",
            "| 5819|          10135|           1013501|             30135|   ABE|Allentown/Bethleh...|         PA|   Pennsylvania|\n",
            "|33085|          10135|           1013501|             30135|   ABE|Allentown/Bethleh...|         PA|   Pennsylvania|\n",
            "|20102|          10135|           1013501|             30135|   ABE|Allentown/Bethleh...|         PA|   Pennsylvania|\n",
            "| 1590|          10135|           1013501|             30135|   ABE|Allentown/Bethleh...|         PA|   Pennsylvania|\n",
            "|38459|          10135|           1013501|             30135|   ABE|Allentown/Bethleh...|         PA|   Pennsylvania|\n",
            "|31673|          10135|           1013503|             30135|   ABE|Allentown/Bethleh...|         PA|   Pennsylvania|\n",
            "|31493|          10135|           1013501|             30135|   ABE|Allentown/Bethleh...|         PA|   Pennsylvania|\n",
            "| 5113|          10135|           1013502|             30135|   ABE|Allentown/Bethleh...|         PA|   Pennsylvania|\n",
            "| 5403|          10135|           1013505|             30135|   ABE|Allentown/Bethleh...|         PA|   Pennsylvania|\n",
            "|44533|          10135|           1013501|             30135|   ABE|Allentown/Bethleh...|         PA|   Pennsylvania|\n",
            "|45933|          10135|           1013501|             30135|   ABE|Allentown/Bethleh...|         PA|   Pennsylvania|\n",
            "|46502|          10135|           1013501|             30135|   ABE|Allentown/Bethleh...|         PA|   Pennsylvania|\n",
            "|46998|          10135|           1013501|             30135|   ABE|Allentown/Bethleh...|         PA|   Pennsylvania|\n",
            "|39459|          10135|           1013501|             30135|   ABE|Allentown/Bethleh...|         PA|   Pennsylvania|\n",
            "|40523|          10135|           1013501|             30135|   ABE|Allentown/Bethleh...|         PA|   Pennsylvania|\n",
            "|33877|          10135|           1013501|             30135|   ABE|Allentown/Bethleh...|         PA|   Pennsylvania|\n",
            "|42080|          10135|           1013501|             30135|   ABE|Allentown/Bethleh...|         PA|   Pennsylvania|\n",
            "|34386|          10135|           1013501|             30135|   ABE|Allentown/Bethleh...|         PA|   Pennsylvania|\n",
            "|42910|          10135|           1013501|             30135|   ABE|Allentown/Bethleh...|         PA|   Pennsylvania|\n",
            "+-----+---------------+------------------+------------------+------+--------------------+-----------+---------------+\n",
            "only showing top 20 rows\n",
            "\n"
          ]
        }
      ]
    },
    {
      "cell_type": "code",
      "source": [
        "from pyspark.sql.types import StructType,StructField, StringType, IntegerType \n",
        "from pyspark.sql.types import ArrayType, DoubleType, BooleanType\n",
        "from pyspark.sql.functions import col,array_contains"
      ],
      "metadata": {
        "id": "AVJiBAjxTy5-"
      },
      "execution_count": 255,
      "outputs": []
    },
    {
      "cell_type": "code",
      "source": [
        "Flight_Destination.show()"
      ],
      "metadata": {
        "colab": {
          "base_uri": "https://localhost:8080/"
        },
        "id": "WWZ5VBPmT7zw",
        "outputId": "0a22edb5-0b93-4a9d-95b5-28e5e3bb137e"
      },
      "execution_count": 256,
      "outputs": [
        {
          "output_type": "stream",
          "name": "stdout",
          "text": [
            "+---+-------------+----------------+----+--------------------+---------+--------------+\n",
            "|_c0|DestAirportID|DestAirportSeqID|Dest|        DestCityName|DestState| DestStateName|\n",
            "+---+-------------+----------------+----+--------------------+---------+--------------+\n",
            "|  0|        14869|         1486902| SLC|  Salt Lake City, UT|       UT|          Utah|\n",
            "|  1|        13204|         1320401| MCO|         Orlando, FL|       FL|       Florida|\n",
            "|  2|        11298|         1129803| DFW|Dallas/Fort Worth...|       TX|         Texas|\n",
            "|  3|        11433|         1143301| DTW|         Detroit, MI|       MI|      Michigan|\n",
            "|  4|        11057|         1105702| CLT|       Charlotte, NC|       NC|North Carolina|\n",
            "|  5|        14814|         1481401| SHV|      Shreveport, LA|       LA|     Louisiana|\n",
            "|  6|        11042|         1104201| CLE|       Cleveland, OH|       OH|          Ohio|\n",
            "|  7|        10868|         1086803| CAE|        Columbia, SC|       SC|South Carolina|\n",
            "|  8|        11042|         1104201| CLE|       Cleveland, OH|       OH|          Ohio|\n",
            "|  9|        11259|         1125903| DAL|          Dallas, TX|       TX|         Texas|\n",
            "| 10|        12892|         1289201| LAX|     Los Angeles, CA|       CA|    California|\n",
            "| 11|        11259|         1125903| DAL|          Dallas, TX|       TX|         Texas|\n",
            "| 12|        13303|         1330302| MIA|           Miami, FL|       FL|       Florida|\n",
            "| 13|        12892|         1289203| LAX|     Los Angeles, CA|       CA|    California|\n",
            "| 14|        12953|         1295301| LGA|        New York, NY|       NY|      New York|\n",
            "| 15|        10821|         1082102| BWI|       Baltimore, MD|       MD|      Maryland|\n",
            "| 16|        13184|         1318402| MBS|Saginaw/Bay City/...|       MI|      Michigan|\n",
            "| 17|        14747|         1474703| SEA|         Seattle, WA|       WA|    Washington|\n",
            "| 18|        12264|         1226401| IAD|      Washington, DC|       VA|      Virginia|\n",
            "| 19|        12892|         1289205| LAX|     Los Angeles, CA|       CA|    California|\n",
            "+---+-------------+----------------+----+--------------------+---------+--------------+\n",
            "only showing top 20 rows\n",
            "\n"
          ]
        }
      ]
    },
    {
      "cell_type": "code",
      "source": [
        "ndf = Window.partitionBy(\"DestState\").orderBy(\"DestAirportID\")\n",
        "Flight_Destination.withColumn(\"row_number\", row_number().over(ndf)).show()"
      ],
      "metadata": {
        "colab": {
          "base_uri": "https://localhost:8080/"
        },
        "id": "V99mXHImT9ma",
        "outputId": "ff13e6d5-6bf5-471b-f04a-3476e190e556"
      },
      "execution_count": 257,
      "outputs": [
        {
          "output_type": "stream",
          "name": "stdout",
          "text": [
            "+-----+-------------+----------------+----+--------------------+---------+-------------+----------+\n",
            "|  _c0|DestAirportID|DestAirportSeqID|Dest|        DestCityName|DestState|DestStateName|row_number|\n",
            "+-----+-------------+----------------+----+--------------------+---------+-------------+----------+\n",
            "|18173|        12016|         1201601| GUM|          Guam, Guam|     null|         null|         1|\n",
            "|47945|        12016|         1201601| GUM|          Guam, Guam|     null|         null|         2|\n",
            "| 1859|        14843|         1484301| SJU|San Juan, Puerto ...|     null|         null|         3|\n",
            "|13437|        14843|         1484301| SJU|San Juan, Puerto ...|     null|         null|         4|\n",
            "|15898|        14843|         1484301| SJU|San Juan, Puerto ...|     null|         null|         5|\n",
            "|20319|        14843|         1484301| SJU|San Juan, Puerto ...|     null|         null|         6|\n",
            "|26159|        14843|         1484301| SJU|San Juan, Puerto ...|     null|         null|         7|\n",
            "|29420|        14843|         1484301| SJU|San Juan, Puerto ...|     null|         null|         8|\n",
            "|37547|        14843|         1484301| SJU|San Juan, Puerto ...|     null|         null|         9|\n",
            "|46585|        14843|         1484301| SJU|San Juan, Puerto ...|     null|         null|        10|\n",
            "|46884|        14843|         1484301| SJU|San Juan, Puerto ...|     null|         null|        11|\n",
            "|22201|        14955|         1495501| SPN|Saipan, Northern ...|     null|         null|        12|\n",
            "|32252|        14955|         1495501| SPN|Saipan, Northern ...|     null|         null|        13|\n",
            "| 7673|        15024|         1502402| STT|Charlotte Amalie,...|     null|         null|        14|\n",
            "|40704|        15024|         1502402| STT|Charlotte Amalie,...|     null|         null|        15|\n",
            "|45635|        15024|         1502402| STT|Charlotte Amalie,...|     null|         null|        16|\n",
            "|22928|        15027|         1502701| STX|Christiansted, Vi...|     null|         null|        17|\n",
            "|27212|        15027|         1502701| STX|Christiansted, Vi...|     null|         null|        18|\n",
            "|37516|        15027|         1502701| STX|Christiansted, Vi...|     null|         null|        19|\n",
            "|40192|        15027|         1502701| STX|Christiansted, Vi...|     null|         null|        20|\n",
            "+-----+-------------+----------------+----+--------------------+---------+-------------+----------+\n",
            "only showing top 20 rows\n",
            "\n"
          ]
        }
      ]
    },
    {
      "cell_type": "code",
      "source": [
        "from pyspark.sql.functions import rank\n",
        "Flight_Destination.withColumn(\"rank\", rank().over(ndf)).show()"
      ],
      "metadata": {
        "colab": {
          "base_uri": "https://localhost:8080/"
        },
        "id": "ATkpkhOgUKxv",
        "outputId": "3a3da2f5-7d19-48f1-afc0-50bc200847e1"
      },
      "execution_count": 258,
      "outputs": [
        {
          "output_type": "stream",
          "name": "stdout",
          "text": [
            "+-----+-------------+----------------+----+--------------------+---------+-------------+----+\n",
            "|  _c0|DestAirportID|DestAirportSeqID|Dest|        DestCityName|DestState|DestStateName|rank|\n",
            "+-----+-------------+----------------+----+--------------------+---------+-------------+----+\n",
            "|18173|        12016|         1201601| GUM|          Guam, Guam|     null|         null|   1|\n",
            "|47945|        12016|         1201601| GUM|          Guam, Guam|     null|         null|   1|\n",
            "| 1859|        14843|         1484301| SJU|San Juan, Puerto ...|     null|         null|   3|\n",
            "|13437|        14843|         1484301| SJU|San Juan, Puerto ...|     null|         null|   3|\n",
            "|15898|        14843|         1484301| SJU|San Juan, Puerto ...|     null|         null|   3|\n",
            "|20319|        14843|         1484301| SJU|San Juan, Puerto ...|     null|         null|   3|\n",
            "|26159|        14843|         1484301| SJU|San Juan, Puerto ...|     null|         null|   3|\n",
            "|29420|        14843|         1484301| SJU|San Juan, Puerto ...|     null|         null|   3|\n",
            "|37547|        14843|         1484301| SJU|San Juan, Puerto ...|     null|         null|   3|\n",
            "|46585|        14843|         1484301| SJU|San Juan, Puerto ...|     null|         null|   3|\n",
            "|46884|        14843|         1484301| SJU|San Juan, Puerto ...|     null|         null|   3|\n",
            "|22201|        14955|         1495501| SPN|Saipan, Northern ...|     null|         null|  12|\n",
            "|32252|        14955|         1495501| SPN|Saipan, Northern ...|     null|         null|  12|\n",
            "| 7673|        15024|         1502402| STT|Charlotte Amalie,...|     null|         null|  14|\n",
            "|40704|        15024|         1502402| STT|Charlotte Amalie,...|     null|         null|  14|\n",
            "|45635|        15024|         1502402| STT|Charlotte Amalie,...|     null|         null|  14|\n",
            "|22928|        15027|         1502701| STX|Christiansted, Vi...|     null|         null|  17|\n",
            "|27212|        15027|         1502701| STX|Christiansted, Vi...|     null|         null|  17|\n",
            "|37516|        15027|         1502701| STX|Christiansted, Vi...|     null|         null|  17|\n",
            "|40192|        15027|         1502701| STX|Christiansted, Vi...|     null|         null|  17|\n",
            "+-----+-------------+----------------+----+--------------------+---------+-------------+----+\n",
            "only showing top 20 rows\n",
            "\n"
          ]
        }
      ]
    },
    {
      "cell_type": "code",
      "source": [
        "from pyspark.sql.functions import udf"
      ],
      "metadata": {
        "id": "oa8eTHiWUhGa"
      },
      "execution_count": 259,
      "outputs": []
    },
    {
      "cell_type": "code",
      "source": [
        "from pyspark.sql.functions import col"
      ],
      "metadata": {
        "id": "tx_xYwriUlun"
      },
      "execution_count": 260,
      "outputs": []
    },
    {
      "cell_type": "code",
      "source": [
        "def destination(str):\n",
        "  resStr = \"\"\n",
        "  arr =str.split(\",\")\n",
        "  for x in arr:\n",
        "    resStr = arr[0]\n",
        "  return resStr\n"
      ],
      "metadata": {
        "id": "-uo4QE-oUta_"
      },
      "execution_count": 261,
      "outputs": []
    },
    {
      "cell_type": "code",
      "source": [
        "#Converting python function to UDF\n",
        "destinationUDF = udf(lambda z: destination(z))"
      ],
      "metadata": {
        "id": "0KgMnEaDVA9m"
      },
      "execution_count": 262,
      "outputs": []
    },
    {
      "cell_type": "code",
      "source": [
        "df.select(col(\"Dest\"),destinationUDF(col(\"DestCityName\")).alias(\"DestCityName\") ).show(truncate=False)"
      ],
      "metadata": {
        "colab": {
          "base_uri": "https://localhost:8080/"
        },
        "id": "YvGRNN6_VH_x",
        "outputId": "b764dc6f-a8b4-47af-d520-2c02ae7dbe7f"
      },
      "execution_count": 263,
      "outputs": [
        {
          "output_type": "stream",
          "name": "stdout",
          "text": [
            "+----+------------------------+\n",
            "|Dest|DestCityName            |\n",
            "+----+------------------------+\n",
            "|SLC |Salt Lake City          |\n",
            "|MCO |Orlando                 |\n",
            "|DFW |Dallas/Fort Worth       |\n",
            "|DTW |Detroit                 |\n",
            "|CLT |Charlotte               |\n",
            "|SHV |Shreveport              |\n",
            "|CLE |Cleveland               |\n",
            "|CAE |Columbia                |\n",
            "|CLE |Cleveland               |\n",
            "|DAL |Dallas                  |\n",
            "|LAX |Los Angeles             |\n",
            "|DAL |Dallas                  |\n",
            "|MIA |Miami                   |\n",
            "|LAX |Los Angeles             |\n",
            "|LGA |New York                |\n",
            "|BWI |Baltimore               |\n",
            "|MBS |Saginaw/Bay City/Midland|\n",
            "|SEA |Seattle                 |\n",
            "|IAD |Washington              |\n",
            "|LAX |Los Angeles             |\n",
            "+----+------------------------+\n",
            "only showing top 20 rows\n",
            "\n"
          ]
        }
      ]
    },
    {
      "cell_type": "code",
      "source": [
        "Flight_Destination.show()"
      ],
      "metadata": {
        "colab": {
          "base_uri": "https://localhost:8080/"
        },
        "id": "OXbgO3pfVJ_p",
        "outputId": "1dc01ab1-986f-4725-b457-9d97ef982ab9"
      },
      "execution_count": 264,
      "outputs": [
        {
          "output_type": "stream",
          "name": "stdout",
          "text": [
            "+---+-------------+----------------+----+--------------------+---------+--------------+\n",
            "|_c0|DestAirportID|DestAirportSeqID|Dest|        DestCityName|DestState| DestStateName|\n",
            "+---+-------------+----------------+----+--------------------+---------+--------------+\n",
            "|  0|        14869|         1486902| SLC|  Salt Lake City, UT|       UT|          Utah|\n",
            "|  1|        13204|         1320401| MCO|         Orlando, FL|       FL|       Florida|\n",
            "|  2|        11298|         1129803| DFW|Dallas/Fort Worth...|       TX|         Texas|\n",
            "|  3|        11433|         1143301| DTW|         Detroit, MI|       MI|      Michigan|\n",
            "|  4|        11057|         1105702| CLT|       Charlotte, NC|       NC|North Carolina|\n",
            "|  5|        14814|         1481401| SHV|      Shreveport, LA|       LA|     Louisiana|\n",
            "|  6|        11042|         1104201| CLE|       Cleveland, OH|       OH|          Ohio|\n",
            "|  7|        10868|         1086803| CAE|        Columbia, SC|       SC|South Carolina|\n",
            "|  8|        11042|         1104201| CLE|       Cleveland, OH|       OH|          Ohio|\n",
            "|  9|        11259|         1125903| DAL|          Dallas, TX|       TX|         Texas|\n",
            "| 10|        12892|         1289201| LAX|     Los Angeles, CA|       CA|    California|\n",
            "| 11|        11259|         1125903| DAL|          Dallas, TX|       TX|         Texas|\n",
            "| 12|        13303|         1330302| MIA|           Miami, FL|       FL|       Florida|\n",
            "| 13|        12892|         1289203| LAX|     Los Angeles, CA|       CA|    California|\n",
            "| 14|        12953|         1295301| LGA|        New York, NY|       NY|      New York|\n",
            "| 15|        10821|         1082102| BWI|       Baltimore, MD|       MD|      Maryland|\n",
            "| 16|        13184|         1318402| MBS|Saginaw/Bay City/...|       MI|      Michigan|\n",
            "| 17|        14747|         1474703| SEA|         Seattle, WA|       WA|    Washington|\n",
            "| 18|        12264|         1226401| IAD|      Washington, DC|       VA|      Virginia|\n",
            "| 19|        12892|         1289205| LAX|     Los Angeles, CA|       CA|    California|\n",
            "+---+-------------+----------------+----+--------------------+---------+--------------+\n",
            "only showing top 20 rows\n",
            "\n"
          ]
        }
      ]
    },
    {
      "cell_type": "code",
      "source": [
        ""
      ],
      "metadata": {
        "id": "38UptebOVTB6"
      },
      "execution_count": 264,
      "outputs": []
    },
    {
      "cell_type": "code",
      "source": [
        "AirlineDF = spark.read.option(\"header\",\"true\").csv(\"/content/airlines1.csv\")"
      ],
      "metadata": {
        "id": "GmcrRjxhVYVB"
      },
      "execution_count": 265,
      "outputs": []
    },
    {
      "cell_type": "code",
      "source": [
        "AirlineDF.show()"
      ],
      "metadata": {
        "colab": {
          "base_uri": "https://localhost:8080/"
        },
        "id": "ZF84Gh5TV0mb",
        "outputId": "371f5a20-086b-4104-c2e5-4b35f5f6652b"
      },
      "execution_count": 266,
      "outputs": [
        {
          "output_type": "stream",
          "name": "stdout",
          "text": [
            "+---+----+-------+-----+----------+---------+----------+-----------------+------------------------+---------------------------+-----------+-------------------------------+---------------+------------------+------------------+------+--------------------+-----------+---------------+---------------+---------+-------------+----------------+----------------+----+--------------------+---------+-------------+--------------+-------+----------+-------+--------+---------------+--------+--------------------+----------+-------+---------+--------+------+----------+-------+--------+---------------+--------+------------------+----------+---------+----------------+--------+--------------+-----------------+-------+-------+--------+-------------+------------+------------+--------+-------------+-----------------+------------+-------------+---------------+------------------+--------------+--------------------+-----------+-----------+-----------+-------------+----------------+------------+--------------+----------------+-------------+-----------+-----------+-------------+----------------+------------+--------------+----------------+-------------+-----------+-----------+-------------+----------------+------------+--------------+----------------+-------------+-----------+-----------+-------------+----------------+------------+--------------+----------------+-------------+-----------+-----------+-------------+----------------+------------+--------------+----------------+-------------+-----------+\n",
            "|_c0|Year|Quarter|Month|DayofMonth|DayOfWeek|FlightDate|Reporting_Airline|DOT_ID_Reporting_Airline|IATA_CODE_Reporting_Airline|Tail_Number|Flight_Number_Reporting_Airline|OriginAirportID|OriginAirportSeqID|OriginCityMarketID|Origin|      OriginCityName|OriginState|OriginStateFips|OriginStateName|OriginWac|DestAirportID|DestAirportSeqID|DestCityMarketID|Dest|        DestCityName|DestState|DestStateFips| DestStateName|DestWac|CRSDepTime|DepTime|DepDelay|DepDelayMinutes|DepDel15|DepartureDelayGroups|DepTimeBlk|TaxiOut|WheelsOff|WheelsOn|TaxiIn|CRSArrTime|ArrTime|ArrDelay|ArrDelayMinutes|ArrDel15|ArrivalDelayGroups|ArrTimeBlk|Cancelled|CancellationCode|Diverted|CRSElapsedTime|ActualElapsedTime|AirTime|Flights|Distance|DistanceGroup|CarrierDelay|WeatherDelay|NASDelay|SecurityDelay|LateAircraftDelay|FirstDepTime|TotalAddGTime|LongestAddGTime|DivAirportLandings|DivReachedDest|DivActualElapsedTime|DivArrDelay|DivDistance|Div1Airport|Div1AirportID|Div1AirportSeqID|Div1WheelsOn|Div1TotalGTime|Div1LongestGTime|Div1WheelsOff|Div1TailNum|Div2Airport|Div2AirportID|Div2AirportSeqID|Div2WheelsOn|Div2TotalGTime|Div2LongestGTime|Div2WheelsOff|Div2TailNum|Div3Airport|Div3AirportID|Div3AirportSeqID|Div3WheelsOn|Div3TotalGTime|Div3LongestGTime|Div3WheelsOff|Div3TailNum|Div4Airport|Div4AirportID|Div4AirportSeqID|Div4WheelsOn|Div4TotalGTime|Div4LongestGTime|Div4WheelsOff|Div4TailNum|Div5Airport|Div5AirportID|Div5AirportSeqID|Div5WheelsOn|Div5TotalGTime|Div5LongestGTime|Div5WheelsOff|Div5TailNum|\n",
            "+---+----+-------+-----+----------+---------+----------+-----------------+------------------------+---------------------------+-----------+-------------------------------+---------------+------------------+------------------+------+--------------------+-----------+---------------+---------------+---------+-------------+----------------+----------------+----+--------------------+---------+-------------+--------------+-------+----------+-------+--------+---------------+--------+--------------------+----------+-------+---------+--------+------+----------+-------+--------+---------------+--------+------------------+----------+---------+----------------+--------+--------------+-----------------+-------+-------+--------+-------------+------------+------------+--------+-------------+-----------------+------------+-------------+---------------+------------------+--------------+--------------------+-----------+-----------+-----------+-------------+----------------+------------+--------------+----------------+-------------+-----------+-----------+-------------+----------------+------------+--------------+----------------+-------------+-----------+-----------+-------------+----------------+------------+--------------+----------------+-------------+-----------+-----------+-------------+----------------+------------+--------------+----------------+-------------+-----------+-----------+-------------+----------------+------------+--------------+----------------+-------------+-----------+\n",
            "|  0|1998|      1|    1|         2|        5|1998-01-02|               NW|                   19386|                         NW|     N297US|                            675|          13487|           1348701|             31650|   MSP|     Minneapolis, MN|         MN|           27.0|      Minnesota|       63|        14869|         1486902|           34614| SLC|  Salt Lake City, UT|       UT|         49.0|          Utah|     87|      1640| 1659.0|    19.0|           19.0|     1.0|                 1.0| 1600-1659|   24.0|   1723.0|  1856.0|   3.0|      1836| 1859.0|    23.0|           23.0|     1.0|               1.0| 1800-1859|      0.0|            null|     0.0|         176.0|            180.0|  153.0|    1.0|   991.0|            4|        null|        null|    null|         null|             null|        null|         null|           null|              null|          null|                null|       null|       null|       null|         null|            null|        null|          null|            null|         null|       null|       null|         null|            null|        null|          null|            null|         null|       null|       null|         null|            null|        null|          null|            null|         null|       null|       null|         null|            null|        null|          null|            null|         null|       null|       null|         null|            null|        null|          null|            null|         null|       null|\n",
            "|  1|2009|      2|    5|        28|        4|2009-05-28|               FL|                   20437|                         FL|     N946AT|                            671|          13342|           1334202|             33342|   MKE|       Milwaukee, WI|         WI|           55.0|      Wisconsin|       45|        13204|         1320401|           31454| MCO|         Orlando, FL|       FL|         12.0|       Florida|     33|      1204| 1202.0|    -2.0|            0.0|     0.0|                -1.0| 1200-1259|   10.0|   1212.0|  1533.0|   8.0|      1541| 1541.0|     0.0|            0.0|     0.0|               0.0| 1500-1559|      0.0|            null|     0.0|         157.0|            159.0|  141.0|    1.0|  1066.0|            5|        null|        null|    null|         null|             null|        null|         null|           null|               0.0|          null|                null|       null|       null|       null|         null|            null|        null|          null|            null|         null|       null|       null|         null|            null|        null|          null|            null|         null|       null|       null|         null|            null|        null|          null|            null|         null|       null|       null|         null|            null|        null|          null|            null|         null|       null|       null|         null|            null|        null|          null|            null|         null|       null|\n",
            "|  2|2013|      2|    6|        29|        6|2013-06-29|               MQ|                   20398|                         MQ|     N665MQ|                           3297|          11921|           1192102|             31921|   GJT|  Grand Junction, CO|         CO|            8.0|       Colorado|       82|        11298|         1129803|           30194| DFW|Dallas/Fort Worth...|       TX|         48.0|         Texas|     74|      1630| 1644.0|    14.0|           14.0|     0.0|                 0.0| 1600-1659|    9.0|   1653.0|  1936.0|   6.0|      1945| 1942.0|    -3.0|            0.0|     0.0|              -1.0| 1900-1959|      0.0|            null|     0.0|         135.0|            118.0|  103.0|    1.0|   773.0|            4|        null|        null|    null|         null|             null|        null|         null|           null|               0.0|          null|                null|       null|       null|       null|         null|            null|        null|          null|            null|         null|       null|       null|         null|            null|        null|          null|            null|         null|       null|       null|         null|            null|        null|          null|            null|         null|       null|       null|         null|            null|        null|          null|            null|         null|       null|       null|         null|            null|        null|          null|            null|         null|       null|\n",
            "|  3|2010|      3|    8|        31|        2|2010-08-31|               DL|                   19790|                         DL|     N6705Y|                           1806|          12892|           1289201|             32575|   LAX|     Los Angeles, CA|         CA|            6.0|     California|       91|        11433|         1143301|           31295| DTW|         Detroit, MI|       MI|         26.0|      Michigan|     43|      1305| 1305.0|     0.0|            0.0|     0.0|                 0.0| 1300-1359|   23.0|   1328.0|  2008.0|   7.0|      2035| 2015.0|   -20.0|            0.0|     0.0|              -2.0| 2000-2059|      0.0|            null|     0.0|         270.0|            250.0|  220.0|    1.0|  1979.0|            8|        null|        null|    null|         null|             null|        null|         null|           null|               0.0|          null|                null|       null|       null|       null|         null|            null|        null|          null|            null|         null|       null|       null|         null|            null|        null|          null|            null|         null|       null|       null|         null|            null|        null|          null|            null|         null|       null|       null|         null|            null|        null|          null|            null|         null|       null|       null|         null|            null|        null|          null|            null|         null|       null|\n",
            "|  4|2006|      1|    1|        15|        7|2006-01-15|               US|                   20355|                         US|     N504AU|                            465|          11618|           1161801|             31703|   EWR|          Newark, NJ|         NJ|           34.0|     New Jersey|       21|        11057|         1105702|           31057| CLT|       Charlotte, NC|       NC|         37.0|North Carolina|     36|      1820| 1911.0|    51.0|           51.0|     1.0|                 3.0| 1800-1859|   19.0|   1930.0|  2050.0|   8.0|      2026| 2058.0|    32.0|           32.0|     1.0|               2.0| 2000-2059|      0.0|            null|     0.0|         126.0|            107.0|   80.0|    1.0|   529.0|            3|         0.0|         0.0|     0.0|          0.0|             32.0|        null|         null|           null|              null|          null|                null|       null|       null|       null|         null|            null|        null|          null|            null|         null|       null|       null|         null|            null|        null|          null|            null|         null|       null|       null|         null|            null|        null|          null|            null|         null|       null|       null|         null|            null|        null|          null|            null|         null|       null|       null|         null|            null|        null|          null|            null|         null|       null|\n",
            "|  5|1995|      4|   11|        29|        3|1995-11-29|               DL|                   19790|                         DL|     N925DL|                           1198|          11298|           1129802|             30194|   DFW|Dallas/Fort Worth...|         TX|           48.0|          Texas|       74|        14814|         1481401|           30476| SHV|      Shreveport, LA|       LA|         22.0|     Louisiana|     72|       639|  639.0|     0.0|            0.0|     0.0|                 0.0| 0600-0659|   29.0|    708.0|   736.0|   5.0|       730|  741.0|    11.0|           11.0|     0.0|               0.0| 0700-0759|      0.0|            null|     0.0|          51.0|             62.0|   28.0|    1.0|   190.0|            1|        null|        null|    null|         null|             null|        null|         null|           null|              null|          null|                null|       null|       null|       null|         null|            null|        null|          null|            null|         null|       null|       null|         null|            null|        null|          null|            null|         null|       null|       null|         null|            null|        null|          null|            null|         null|       null|       null|         null|            null|        null|          null|            null|         null|       null|       null|         null|            null|        null|          null|            null|         null|       null|\n",
            "|  6|2006|      3|    8|         7|        1|2006-08-07|               CO|                   19704|                         CO|     N27724|                           1431|          10721|           1072101|             30721|   BOS|          Boston, MA|         MA|           25.0|  Massachusetts|       13|        11042|         1104201|           30647| CLE|       Cleveland, OH|       OH|         39.0|          Ohio|     44|      1755| 1751.0|    -4.0|            0.0|     0.0|                -1.0| 1700-1759|   33.0|   1824.0|  1958.0|   4.0|      2000| 2002.0|     2.0|            2.0|     0.0|               0.0| 2000-2059|      0.0|            null|     0.0|         125.0|            131.0|   94.0|    1.0|   563.0|            3|        null|        null|    null|         null|             null|        null|         null|           null|              null|          null|                null|       null|       null|       null|         null|            null|        null|          null|            null|         null|       null|       null|         null|            null|        null|          null|            null|         null|       null|       null|         null|            null|        null|          null|            null|         null|       null|       null|         null|            null|        null|          null|            null|         null|       null|       null|         null|            null|        null|          null|            null|         null|       null|\n",
            "|  7|2019|      2|    6|        11|        2|2019-06-11|               9E|                   20363|                         9E|     N927XJ|                           3459|          10397|           1039707|             30397|   ATL|         Atlanta, GA|         GA|           13.0|        Georgia|       34|        10868|         1086803|           30868| CAE|        Columbia, SC|       SC|         45.0|South Carolina|     37|      1950| 2331.0|   221.0|          221.0|     1.0|                12.0| 1900-1959|   19.0|   2350.0|    25.0|   6.0|      2057|   31.0|   214.0|          214.0|     1.0|              12.0| 2000-2059|      0.0|            null|     0.0|          67.0|             60.0|   35.0|    1.0|   192.0|            1|         0.0|         0.0|     0.0|          0.0|            214.0|        null|         null|           null|               0.0|          null|                null|       null|       null|       null|         null|            null|        null|          null|            null|         null|       null|       null|         null|            null|        null|          null|            null|         null|       null|       null|         null|            null|        null|          null|            null|         null|       null|       null|         null|            null|        null|          null|            null|         null|       null|       null|         null|            null|        null|          null|            null|         null|       null|\n",
            "|  8|2008|      3|    8|         3|        7|2008-08-03|               YV|                   20378|                         YV|     N522LR|                           7233|          13930|           1393001|             30977|   ORD|         Chicago, IL|         IL|           17.0|       Illinois|       41|        11042|         1104201|           30647| CLE|       Cleveland, OH|       OH|         39.0|          Ohio|     44|      1550| 1552.0|     2.0|            2.0|     0.0|                 0.0| 1500-1559|   26.0|   1618.0|  1817.0|   3.0|      1810| 1820.0|    10.0|           10.0|     0.0|               0.0| 1800-1859|      0.0|            null|     0.0|          80.0|             88.0|   59.0|    1.0|   316.0|            2|        null|        null|    null|         null|             null|        null|         null|           null|              null|          null|                null|       null|       null|       null|         null|            null|        null|          null|            null|         null|       null|       null|         null|            null|        null|          null|            null|         null|       null|       null|         null|            null|        null|          null|            null|         null|       null|       null|         null|            null|        null|          null|            null|         null|       null|       null|         null|            null|        null|          null|            null|         null|       null|\n",
            "|  9|2018|      1|    2|         8|        4|2018-02-08|               WN|                   19393|                         WN|     N8688J|                           5932|          13232|           1323202|             30977|   MDW|         Chicago, IL|         IL|           17.0|       Illinois|       41|        11259|         1125903|           30194| DAL|          Dallas, TX|       TX|         48.0|         Texas|     74|      2030| 2046.0|    16.0|           16.0|     1.0|                 1.0| 2000-2059|   34.0|   2120.0|  2314.0|   5.0|      2250| 2319.0|    29.0|           29.0|     1.0|               1.0| 2200-2259|      0.0|            null|     0.0|         140.0|            153.0|  114.0|    1.0|   793.0|            4|         0.0|         0.0|    13.0|          0.0|             16.0|        null|         null|           null|               0.0|          null|                null|       null|       null|       null|         null|            null|        null|          null|            null|         null|       null|       null|         null|            null|        null|          null|            null|         null|       null|       null|         null|            null|        null|          null|            null|         null|       null|       null|         null|            null|        null|          null|            null|         null|       null|       null|         null|            null|        null|          null|            null|         null|       null|\n",
            "| 10|1991|      4|   11|        21|        4|1991-11-21|               US|                   20355|                         US|       null|                           2135|          14679|           1467902|             33570|   SAN|       San Diego, CA|         CA|            6.0|     California|       91|        12892|         1289201|           32575| LAX|     Los Angeles, CA|       CA|          6.0|    California|     91|      1245| 1247.0|     2.0|            2.0|     0.0|                 0.0| 1200-1259|   null|     null|    null|  null|      1325| 1331.0|     6.0|            6.0|     0.0|               0.0| 1300-1359|      0.0|            null|     0.0|          40.0|             44.0|   null|    1.0|   109.0|            1|        null|        null|    null|         null|             null|        null|         null|           null|              null|          null|                null|       null|       null|       null|         null|            null|        null|          null|            null|         null|       null|       null|         null|            null|        null|          null|            null|         null|       null|       null|         null|            null|        null|          null|            null|         null|       null|       null|         null|            null|        null|          null|            null|         null|       null|       null|         null|            null|        null|          null|            null|         null|       null|\n",
            "| 11|2014|      2|    4|         3|        4|2014-04-03|               WN|                   19393|                         WN|     N374SW|                           1463|          11540|           1154003|             30615|   ELP|         El Paso, TX|         TX|           48.0|          Texas|       74|        11259|         1125903|           30194| DAL|          Dallas, TX|       TX|         48.0|         Texas|     74|      1025| 1025.0|     0.0|            0.0|     0.0|                 0.0| 1000-1059|   10.0|   1035.0|  1252.0|   3.0|      1300| 1255.0|    -5.0|            0.0|     0.0|              -1.0| 1300-1359|      0.0|            null|     0.0|          95.0|             90.0|   77.0|    1.0|   562.0|            3|        null|        null|    null|         null|             null|        null|         null|           null|               0.0|          null|                null|       null|       null|       null|         null|            null|        null|          null|            null|         null|       null|       null|         null|            null|        null|          null|            null|         null|       null|       null|         null|            null|        null|          null|            null|         null|       null|       null|         null|            null|        null|          null|            null|         null|       null|       null|         null|            null|        null|          null|            null|         null|       null|\n",
            "| 12|1994|      3|    7|        24|        7|1994-07-24|               AA|                   19805|                         AA|       null|                            830|          14843|           1484302|             34819|   SJU|        San Juan, PR|         PR|           72.0|    Puerto Rico|        3|        13303|         1330302|           32467| MIA|           Miami, FL|       FL|         12.0|       Florida|     33|      1245| 1242.0|    -3.0|            0.0|     0.0|                -1.0| 1200-1259|   null|     null|    null|  null|      1521| 1511.0|   -10.0|            0.0|     0.0|              -1.0| 1500-1559|      0.0|            null|     0.0|         156.0|            149.0|   null|    1.0|  1045.0|            5|        null|        null|    null|         null|             null|        null|         null|           null|              null|          null|                null|       null|       null|       null|         null|            null|        null|          null|            null|         null|       null|       null|         null|            null|        null|          null|            null|         null|       null|       null|         null|            null|        null|          null|            null|         null|       null|       null|         null|            null|        null|          null|            null|         null|       null|       null|         null|            null|        null|          null|            null|         null|       null|\n",
            "| 13|2013|      2|    6|        30|        7|2013-06-30|               OO|                   20304|                         OO|     N947SW|                           6474|          10140|           1014002|             30140|   ABQ|     Albuquerque, NM|         NM|           35.0|     New Mexico|       86|        12892|         1289203|           32575| LAX|     Los Angeles, CA|       CA|          6.0|    California|     91|      1601| 1557.0|    -4.0|            0.0|     0.0|                -1.0| 1600-1659|    6.0|   1603.0|  1638.0|   8.0|      1705| 1646.0|   -19.0|            0.0|     0.0|              -2.0| 1700-1759|      0.0|            null|     0.0|         124.0|            109.0|   95.0|    1.0|   677.0|            3|        null|        null|    null|         null|             null|        null|         null|           null|               0.0|          null|                null|       null|       null|       null|         null|            null|        null|          null|            null|         null|       null|       null|         null|            null|        null|          null|            null|         null|       null|       null|         null|            null|        null|          null|            null|         null|       null|       null|         null|            null|        null|          null|            null|         null|       null|       null|         null|            null|        null|          null|            null|         null|       null|\n",
            "| 14|2003|      4|   11|        21|        5|2003-11-21|               UA|                   19977|                         UA|     N308UA|                            674|          13930|           1393001|             30977|   ORD|         Chicago, IL|         IL|           17.0|       Illinois|       41|        12953|         1295301|           31703| LGA|        New York, NY|       NY|         36.0|      New York|     22|       900|  855.0|    -5.0|            0.0|     0.0|                -1.0| 0900-0959|   14.0|    909.0|  1148.0|   2.0|      1206| 1150.0|   -16.0|            0.0|     0.0|              -2.0| 1200-1259|      0.0|            null|     0.0|         126.0|            115.0|   99.0|    1.0|   733.0|            3|        null|        null|    null|         null|             null|        null|         null|           null|              null|          null|                null|       null|       null|       null|         null|            null|        null|          null|            null|         null|       null|       null|         null|            null|        null|          null|            null|         null|       null|       null|         null|            null|        null|          null|            null|         null|       null|       null|         null|            null|        null|          null|            null|         null|       null|       null|         null|            null|        null|          null|            null|         null|       null|\n",
            "| 15|1988|      2|    4|         4|        1|1988-04-04|               PI|                   19822|                         PI|       null|                            362|          11995|           1199501|             31995|   GSO|Greensboro/High P...|         NC|           37.0| North Carolina|       36|        10821|         1082102|           30852| BWI|       Baltimore, MD|       MD|         24.0|      Maryland|     35|       630|  631.0|     1.0|            1.0|     0.0|                 0.0| 0600-0659|   null|     null|    null|  null|       728|  737.0|     9.0|            9.0|     0.0|               0.0| 0700-0759|      0.0|            null|     0.0|          58.0|             66.0|   null|    1.0|   278.0|            2|        null|        null|    null|         null|             null|        null|         null|           null|              null|          null|                null|       null|       null|       null|         null|            null|        null|          null|            null|         null|       null|       null|         null|            null|        null|          null|            null|         null|       null|       null|         null|            null|        null|          null|            null|         null|       null|       null|         null|            null|        null|          null|            null|         null|       null|       null|         null|            null|        null|          null|            null|         null|       null|\n",
            "| 16|2007|      3|    9|         5|        3|2007-09-05|               NW|                   19386|                         NW|     N8928E|                           1678|          11433|           1143301|             31295|   DTW|         Detroit, MI|         MI|           26.0|       Michigan|       43|        13184|         1318402|           33184| MBS|Saginaw/Bay City/...|       MI|         26.0|      Michigan|     43|      1201| 1150.0|   -11.0|            0.0|     0.0|                -1.0| 1200-1259|   20.0|   1210.0|  1234.0|   5.0|      1246| 1239.0|    -7.0|            0.0|     0.0|              -1.0| 1200-1259|      0.0|            null|     0.0|          45.0|             49.0|   24.0|    1.0|    98.0|            1|        null|        null|    null|         null|             null|        null|         null|           null|              null|          null|                null|       null|       null|       null|         null|            null|        null|          null|            null|         null|       null|       null|         null|            null|        null|          null|            null|         null|       null|       null|         null|            null|        null|          null|            null|         null|       null|       null|         null|            null|        null|          null|            null|         null|       null|       null|         null|            null|        null|          null|            null|         null|       null|\n",
            "| 17|2015|      3|    9|         5|        6|2015-09-05|               AS|                   19930|                         AS|     N589AS|                            413|          14869|           1486903|             34614|   SLC|  Salt Lake City, UT|         UT|           49.0|           Utah|       87|        14747|         1474703|           30559| SEA|         Seattle, WA|       WA|         53.0|    Washington|     93|      1745| 1733.0|   -12.0|            0.0|     0.0|                -1.0| 1700-1759|    9.0|   1742.0|  1824.0|   8.0|      1855| 1832.0|   -23.0|            0.0|     0.0|              -2.0| 1800-1859|      0.0|            null|     0.0|         130.0|            119.0|  102.0|    1.0|   689.0|            3|        null|        null|    null|         null|             null|        null|         null|           null|               0.0|          null|                null|       null|       null|       null|         null|            null|        null|          null|            null|         null|       null|       null|         null|            null|        null|          null|            null|         null|       null|       null|         null|            null|        null|          null|            null|         null|       null|       null|         null|            null|        null|          null|            null|         null|       null|       null|         null|            null|        null|          null|            null|         null|       null|\n",
            "| 18|2006|      1|    1|        28|        6|2006-01-28|               UA|                   19977|                         UA|     N426UA|                            210|          12892|           1289201|             32575|   LAX|     Los Angeles, CA|         CA|            6.0|     California|       91|        12264|         1226401|           30852| IAD|      Washington, DC|       VA|         51.0|      Virginia|     38|      1545| 1542.0|    -3.0|            0.0|     0.0|                -1.0| 1500-1559|   11.0|   1553.0|  2308.0|   5.0|      2327| 2313.0|   -14.0|            0.0|     0.0|              -1.0| 2300-2359|      0.0|            null|     0.0|         282.0|            271.0|  255.0|    1.0|  2288.0|           10|        null|        null|    null|         null|             null|        null|         null|           null|              null|          null|                null|       null|       null|       null|         null|            null|        null|          null|            null|         null|       null|       null|         null|            null|        null|          null|            null|         null|       null|       null|         null|            null|        null|          null|            null|         null|       null|       null|         null|            null|        null|          null|            null|         null|       null|       null|         null|            null|        null|          null|            null|         null|       null|\n",
            "| 19|2017|      3|    7|        26|        3|2017-07-26|               WN|                   19393|                         WN|     N252WN|                            995|          14893|           1489302|             33192|   SMF|      Sacramento, CA|         CA|            6.0|     California|       91|        12892|         1289205|           32575| LAX|     Los Angeles, CA|       CA|          6.0|    California|     91|      1535|   null|    null|           null|    null|                null| 1500-1559|   null|     null|    null|  null|      1700|   null|    null|           null|    null|              null| 1700-1759|      1.0|               A|     0.0|          85.0|             null|   null|    1.0|   373.0|            2|        null|        null|    null|         null|             null|        null|         null|           null|               0.0|          null|                null|       null|       null|       null|         null|            null|        null|          null|            null|         null|       null|       null|         null|            null|        null|          null|            null|         null|       null|       null|         null|            null|        null|          null|            null|         null|       null|       null|         null|            null|        null|          null|            null|         null|       null|       null|         null|            null|        null|          null|            null|         null|       null|\n",
            "+---+----+-------+-----+----------+---------+----------+-----------------+------------------------+---------------------------+-----------+-------------------------------+---------------+------------------+------------------+------+--------------------+-----------+---------------+---------------+---------+-------------+----------------+----------------+----+--------------------+---------+-------------+--------------+-------+----------+-------+--------+---------------+--------+--------------------+----------+-------+---------+--------+------+----------+-------+--------+---------------+--------+------------------+----------+---------+----------------+--------+--------------+-----------------+-------+-------+--------+-------------+------------+------------+--------+-------------+-----------------+------------+-------------+---------------+------------------+--------------+--------------------+-----------+-----------+-----------+-------------+----------------+------------+--------------+----------------+-------------+-----------+-----------+-------------+----------------+------------+--------------+----------------+-------------+-----------+-----------+-------------+----------------+------------+--------------+----------------+-------------+-----------+-----------+-------------+----------------+------------+--------------+----------------+-------------+-----------+-----------+-------------+----------------+------------+--------------+----------------+-------------+-----------+\n",
            "only showing top 20 rows\n",
            "\n"
          ]
        }
      ]
    },
    {
      "cell_type": "code",
      "source": [
        "AirlineDF.columns"
      ],
      "metadata": {
        "colab": {
          "base_uri": "https://localhost:8080/"
        },
        "id": "Fr_FoJg_V4na",
        "outputId": "541b87f6-19c4-4f6b-b28d-5ddcd0e5db26"
      },
      "execution_count": 267,
      "outputs": [
        {
          "output_type": "execute_result",
          "data": {
            "text/plain": [
              "['_c0',\n",
              " 'Year',\n",
              " 'Quarter',\n",
              " 'Month',\n",
              " 'DayofMonth',\n",
              " 'DayOfWeek',\n",
              " 'FlightDate',\n",
              " 'Reporting_Airline',\n",
              " 'DOT_ID_Reporting_Airline',\n",
              " 'IATA_CODE_Reporting_Airline',\n",
              " 'Tail_Number',\n",
              " 'Flight_Number_Reporting_Airline',\n",
              " 'OriginAirportID',\n",
              " 'OriginAirportSeqID',\n",
              " 'OriginCityMarketID',\n",
              " 'Origin',\n",
              " 'OriginCityName',\n",
              " 'OriginState',\n",
              " 'OriginStateFips',\n",
              " 'OriginStateName',\n",
              " 'OriginWac',\n",
              " 'DestAirportID',\n",
              " 'DestAirportSeqID',\n",
              " 'DestCityMarketID',\n",
              " 'Dest',\n",
              " 'DestCityName',\n",
              " 'DestState',\n",
              " 'DestStateFips',\n",
              " 'DestStateName',\n",
              " 'DestWac',\n",
              " 'CRSDepTime',\n",
              " 'DepTime',\n",
              " 'DepDelay',\n",
              " 'DepDelayMinutes',\n",
              " 'DepDel15',\n",
              " 'DepartureDelayGroups',\n",
              " 'DepTimeBlk',\n",
              " 'TaxiOut',\n",
              " 'WheelsOff',\n",
              " 'WheelsOn',\n",
              " 'TaxiIn',\n",
              " 'CRSArrTime',\n",
              " 'ArrTime',\n",
              " 'ArrDelay',\n",
              " 'ArrDelayMinutes',\n",
              " 'ArrDel15',\n",
              " 'ArrivalDelayGroups',\n",
              " 'ArrTimeBlk',\n",
              " 'Cancelled',\n",
              " 'CancellationCode',\n",
              " 'Diverted',\n",
              " 'CRSElapsedTime',\n",
              " 'ActualElapsedTime',\n",
              " 'AirTime',\n",
              " 'Flights',\n",
              " 'Distance',\n",
              " 'DistanceGroup',\n",
              " 'CarrierDelay',\n",
              " 'WeatherDelay',\n",
              " 'NASDelay',\n",
              " 'SecurityDelay',\n",
              " 'LateAircraftDelay',\n",
              " 'FirstDepTime',\n",
              " 'TotalAddGTime',\n",
              " 'LongestAddGTime',\n",
              " 'DivAirportLandings',\n",
              " 'DivReachedDest',\n",
              " 'DivActualElapsedTime',\n",
              " 'DivArrDelay',\n",
              " 'DivDistance',\n",
              " 'Div1Airport',\n",
              " 'Div1AirportID',\n",
              " 'Div1AirportSeqID',\n",
              " 'Div1WheelsOn',\n",
              " 'Div1TotalGTime',\n",
              " 'Div1LongestGTime',\n",
              " 'Div1WheelsOff',\n",
              " 'Div1TailNum',\n",
              " 'Div2Airport',\n",
              " 'Div2AirportID',\n",
              " 'Div2AirportSeqID',\n",
              " 'Div2WheelsOn',\n",
              " 'Div2TotalGTime',\n",
              " 'Div2LongestGTime',\n",
              " 'Div2WheelsOff',\n",
              " 'Div2TailNum',\n",
              " 'Div3Airport',\n",
              " 'Div3AirportID',\n",
              " 'Div3AirportSeqID',\n",
              " 'Div3WheelsOn',\n",
              " 'Div3TotalGTime',\n",
              " 'Div3LongestGTime',\n",
              " 'Div3WheelsOff',\n",
              " 'Div3TailNum',\n",
              " 'Div4Airport',\n",
              " 'Div4AirportID',\n",
              " 'Div4AirportSeqID',\n",
              " 'Div4WheelsOn',\n",
              " 'Div4TotalGTime',\n",
              " 'Div4LongestGTime',\n",
              " 'Div4WheelsOff',\n",
              " 'Div4TailNum',\n",
              " 'Div5Airport',\n",
              " 'Div5AirportID',\n",
              " 'Div5AirportSeqID',\n",
              " 'Div5WheelsOn',\n",
              " 'Div5TotalGTime',\n",
              " 'Div5LongestGTime',\n",
              " 'Div5WheelsOff',\n",
              " 'Div5TailNum']"
            ]
          },
          "metadata": {},
          "execution_count": 267
        }
      ]
    },
    {
      "cell_type": "markdown",
      "source": [
        "###Create multiple dataframes as per the information"
      ],
      "metadata": {
        "id": "3ZJfC1m3nv_N"
      }
    },
    {
      "cell_type": "code",
      "source": [
        "AirlineTimeInfo = AirlineDF.select(\"_c0\",\"Year\",\"Quarter\", \"Month\", \"DayofMonth\", \"DayofWeek\" , \"FlightDate\" )\n",
        "AirlineInfo = AirlineDF.select(\"_c0\",\"Reporting_Airline\",\"DOT_ID_Reporting_Airline\", \"IATA_CODE_Reporting_Airline\", \"Tail_Number\", \"Flight_Number_Reporting_Airline\" )\n",
        "AirlineOriginInfo = AirlineDF.select(\"_c0\",\"OriginAirportID\",\"OriginAirportSeqID\", \"OriginCityMarketID\", \"Origin\", \"OriginCityName\" , \"OriginState\", \"OriginStateFips\", \"OriginStateName\", \"OriginWac\" )\n",
        "AirlineDestinationInfo = AirlineDF.select(\"_c0\",\"DestAirportID\",\"DestAirportSeqID\", \"DestCityMarketID\", \"Dest\", \"DestCityName\" , \"DestState\", \"DestStateFips\", \"DestStateName\", \"DestWac\" )\n",
        "AirlineDepartureInfo = AirlineDF.select(\"_c0\",\"CRSDepTime\",\"DepTime\", \"DepDelay\", \"DepDelayMinutes\", \"DepDel15\" , \"DepartureDelayGroups\", \"DepTimeBlk\", \"TaxiOut\", \"WheelsOff\" )\n",
        "AirlineArrivalInfo = AirlineDF.select(\"_c0\",\"WheelsOn\",\"TaxiIn\", \"CRSArrTime\", \"ArrTime\", \"ArrDelay\" , \"ArrDelayMinutes\", \"ArrDel15\", \"ArrivalDelayGroups\", \"ArrTimeBlk\" )\n",
        "AirlineCanDivInfo = AirlineDF.select(\"_c0\",\"Cancelled\",\"CancellationCode\", \"Diverted\" )\n",
        "AirlineSummry = AirlineDF.select(\"_c0\",\"CRSElapsedTime\",\"ActualElapsedTime\", \"AirTime\", \"Flights\", \"Distance\" , \"DistanceGroup\" )\n",
        "AirlineDelayInfo = AirlineDF.select(\"_c0\",\"CarrierDelay\",\"WeatherDelay\", \"NASDelay\", \"SecurityDelay\", \"LateAircraftDelay\" ) "
      ],
      "metadata": {
        "id": "Ay3fXYtzV7KG"
      },
      "execution_count": 268,
      "outputs": []
    },
    {
      "cell_type": "code",
      "source": [
        "AirlineInfo.show()"
      ],
      "metadata": {
        "colab": {
          "base_uri": "https://localhost:8080/"
        },
        "id": "hJP_NJPsV_Dr",
        "outputId": "38a11dd7-bb95-4cb9-8073-4fbbf16cb74c"
      },
      "execution_count": 269,
      "outputs": [
        {
          "output_type": "stream",
          "name": "stdout",
          "text": [
            "+---+-----------------+------------------------+---------------------------+-----------+-------------------------------+\n",
            "|_c0|Reporting_Airline|DOT_ID_Reporting_Airline|IATA_CODE_Reporting_Airline|Tail_Number|Flight_Number_Reporting_Airline|\n",
            "+---+-----------------+------------------------+---------------------------+-----------+-------------------------------+\n",
            "|  0|               NW|                   19386|                         NW|     N297US|                            675|\n",
            "|  1|               FL|                   20437|                         FL|     N946AT|                            671|\n",
            "|  2|               MQ|                   20398|                         MQ|     N665MQ|                           3297|\n",
            "|  3|               DL|                   19790|                         DL|     N6705Y|                           1806|\n",
            "|  4|               US|                   20355|                         US|     N504AU|                            465|\n",
            "|  5|               DL|                   19790|                         DL|     N925DL|                           1198|\n",
            "|  6|               CO|                   19704|                         CO|     N27724|                           1431|\n",
            "|  7|               9E|                   20363|                         9E|     N927XJ|                           3459|\n",
            "|  8|               YV|                   20378|                         YV|     N522LR|                           7233|\n",
            "|  9|               WN|                   19393|                         WN|     N8688J|                           5932|\n",
            "| 10|               US|                   20355|                         US|       null|                           2135|\n",
            "| 11|               WN|                   19393|                         WN|     N374SW|                           1463|\n",
            "| 12|               AA|                   19805|                         AA|       null|                            830|\n",
            "| 13|               OO|                   20304|                         OO|     N947SW|                           6474|\n",
            "| 14|               UA|                   19977|                         UA|     N308UA|                            674|\n",
            "| 15|               PI|                   19822|                         PI|       null|                            362|\n",
            "| 16|               NW|                   19386|                         NW|     N8928E|                           1678|\n",
            "| 17|               AS|                   19930|                         AS|     N589AS|                            413|\n",
            "| 18|               UA|                   19977|                         UA|     N426UA|                            210|\n",
            "| 19|               WN|                   19393|                         WN|     N252WN|                            995|\n",
            "+---+-----------------+------------------------+---------------------------+-----------+-------------------------------+\n",
            "only showing top 20 rows\n",
            "\n"
          ]
        }
      ]
    },
    {
      "cell_type": "code",
      "source": [
        "AirlineTimeInfo.select('_c0').count()"
      ],
      "metadata": {
        "colab": {
          "base_uri": "https://localhost:8080/"
        },
        "id": "dNKmtm48WEYR",
        "outputId": "5ff2b18c-436e-4270-e5f4-f7ab8c00ed6d"
      },
      "execution_count": 270,
      "outputs": [
        {
          "output_type": "execute_result",
          "data": {
            "text/plain": [
              "50001"
            ]
          },
          "metadata": {},
          "execution_count": 270
        }
      ]
    },
    {
      "cell_type": "code",
      "source": [
        "AirlineTimeInfo.select('Year','FlightDate').filter((AirlineTimeInfo.Year >= 2015) & (AirlineTimeInfo.Year <= 2020)).show()"
      ],
      "metadata": {
        "colab": {
          "base_uri": "https://localhost:8080/"
        },
        "id": "fp25zwfjWHGP",
        "outputId": "f7720b41-b343-4630-a15d-0531f2fde88c"
      },
      "execution_count": 271,
      "outputs": [
        {
          "output_type": "stream",
          "name": "stdout",
          "text": [
            "+----+----------+\n",
            "|Year|FlightDate|\n",
            "+----+----------+\n",
            "|2019|2019-06-11|\n",
            "|2018|2018-02-08|\n",
            "|2015|2015-09-05|\n",
            "|2017|2017-07-26|\n",
            "|2020|2020-03-24|\n",
            "|2019|2019-09-02|\n",
            "|2019|2019-03-27|\n",
            "|2016|2016-03-09|\n",
            "|2018|2018-06-25|\n",
            "|2015|2015-03-12|\n",
            "|2017|2017-05-05|\n",
            "|2017|2017-03-10|\n",
            "|2019|2019-02-13|\n",
            "|2015|2015-03-17|\n",
            "|2016|2016-05-25|\n",
            "|2016|2016-05-04|\n",
            "|2016|2016-08-12|\n",
            "|2017|2017-03-09|\n",
            "|2016|2016-06-13|\n",
            "|2019|2019-05-08|\n",
            "+----+----------+\n",
            "only showing top 20 rows\n",
            "\n"
          ]
        }
      ]
    },
    {
      "cell_type": "code",
      "source": [
        "AirlineInfo.show()"
      ],
      "metadata": {
        "colab": {
          "base_uri": "https://localhost:8080/"
        },
        "id": "v38vhl-qWLda",
        "outputId": "75b0b0eb-3972-443e-fb57-86c207e9fa2b"
      },
      "execution_count": 272,
      "outputs": [
        {
          "output_type": "stream",
          "name": "stdout",
          "text": [
            "+---+-----------------+------------------------+---------------------------+-----------+-------------------------------+\n",
            "|_c0|Reporting_Airline|DOT_ID_Reporting_Airline|IATA_CODE_Reporting_Airline|Tail_Number|Flight_Number_Reporting_Airline|\n",
            "+---+-----------------+------------------------+---------------------------+-----------+-------------------------------+\n",
            "|  0|               NW|                   19386|                         NW|     N297US|                            675|\n",
            "|  1|               FL|                   20437|                         FL|     N946AT|                            671|\n",
            "|  2|               MQ|                   20398|                         MQ|     N665MQ|                           3297|\n",
            "|  3|               DL|                   19790|                         DL|     N6705Y|                           1806|\n",
            "|  4|               US|                   20355|                         US|     N504AU|                            465|\n",
            "|  5|               DL|                   19790|                         DL|     N925DL|                           1198|\n",
            "|  6|               CO|                   19704|                         CO|     N27724|                           1431|\n",
            "|  7|               9E|                   20363|                         9E|     N927XJ|                           3459|\n",
            "|  8|               YV|                   20378|                         YV|     N522LR|                           7233|\n",
            "|  9|               WN|                   19393|                         WN|     N8688J|                           5932|\n",
            "| 10|               US|                   20355|                         US|       null|                           2135|\n",
            "| 11|               WN|                   19393|                         WN|     N374SW|                           1463|\n",
            "| 12|               AA|                   19805|                         AA|       null|                            830|\n",
            "| 13|               OO|                   20304|                         OO|     N947SW|                           6474|\n",
            "| 14|               UA|                   19977|                         UA|     N308UA|                            674|\n",
            "| 15|               PI|                   19822|                         PI|       null|                            362|\n",
            "| 16|               NW|                   19386|                         NW|     N8928E|                           1678|\n",
            "| 17|               AS|                   19930|                         AS|     N589AS|                            413|\n",
            "| 18|               UA|                   19977|                         UA|     N426UA|                            210|\n",
            "| 19|               WN|                   19393|                         WN|     N252WN|                            995|\n",
            "+---+-----------------+------------------------+---------------------------+-----------+-------------------------------+\n",
            "only showing top 20 rows\n",
            "\n"
          ]
        }
      ]
    },
    {
      "cell_type": "code",
      "source": [
        "AirlineInfo.select(\"Reporting_Airline\").groupBy(\"Reporting_Airline\").count().show()"
      ],
      "metadata": {
        "colab": {
          "base_uri": "https://localhost:8080/"
        },
        "id": "MUoIdDVMWPy7",
        "outputId": "ef14198d-8023-4107-cc40-5e92b9504eb2"
      },
      "execution_count": 273,
      "outputs": [
        {
          "output_type": "stream",
          "name": "stdout",
          "text": [
            "+-----------------+-----+\n",
            "|Reporting_Airline|count|\n",
            "+-----------------+-----+\n",
            "|               UA| 4830|\n",
            "|               EA|  237|\n",
            "|               PI|  238|\n",
            "|               NK|  213|\n",
            "|               PS|   16|\n",
            "|               AA| 5834|\n",
            "|               NW| 2792|\n",
            "|               EV| 1749|\n",
            "|               B6|  905|\n",
            "|               HP|  899|\n",
            "|               TW|  949|\n",
            "|               DL| 6691|\n",
            "|               OO| 2719|\n",
            "|               F9|  372|\n",
            "|               YV|  562|\n",
            "|               TZ|   54|\n",
            "|               US| 4230|\n",
            "|               MQ| 2015|\n",
            "|               OH|  607|\n",
            "|               HA|  304|\n",
            "+-----------------+-----+\n",
            "only showing top 20 rows\n",
            "\n"
          ]
        }
      ]
    },
    {
      "cell_type": "code",
      "source": [
        "CarrierDF = spark.read.option(\"header\", \"true\").csv(\"/content/carriers.csv\")"
      ],
      "metadata": {
        "id": "ld9Km3BJWhGe"
      },
      "execution_count": 274,
      "outputs": []
    },
    {
      "cell_type": "code",
      "source": [
        "CarrierDF.show(200)"
      ],
      "metadata": {
        "colab": {
          "base_uri": "https://localhost:8080/"
        },
        "id": "lgbyNTqCWkpP",
        "outputId": "8924c124-310b-40de-a661-daf3e656008a"
      },
      "execution_count": 275,
      "outputs": [
        {
          "output_type": "stream",
          "name": "stdout",
          "text": [
            "+------+--------------------+\n",
            "|  Code|         Description|\n",
            "+------+--------------------+\n",
            "|   02Q|       Titan Airways|\n",
            "|   04Q|  Tradewind Aviation|\n",
            "|   05Q| Comlux Aviation, AG|\n",
            "|   06Q|Master Top Linhas...|\n",
            "|   07Q| Flair Airlines Ltd.|\n",
            "|   09Q|      Swift Air, LLC|\n",
            "|   0BQ|                 DCA|\n",
            "|   0CQ|ACM AIR CHARTER GmbH|\n",
            "|   0FQ|Maine Aviation Ai...|\n",
            "|   0GQ|Inter Island Airw...|\n",
            "|   0HQ|Polar Airlines de...|\n",
            "|    0J|          JetClub AG|\n",
            "|   0JQ|     Vision Airlines|\n",
            "|   0KQ|Mokulele Flight S...|\n",
            "|   0LQ|   Metropix UK, LLP.|\n",
            "|   0MQ|Multi-Aero, Inc. ...|\n",
            "|    0Q| Flying Service N.V.|\n",
            "|    16|   PSA Airlines Inc.|\n",
            "|    17|   Piedmont Airlines|\n",
            "|    1I|Sky Trek Int'l Ai...|\n",
            "|    2E| Smokey Bay Air Inc.|\n",
            "|    2F|Frontier Flying S...|\n",
            "|    2M|Midway Express Ai...|\n",
            "|    2O|  Island Air Service|\n",
            "|    2R|           Regal Air|\n",
            "|    2T|Canada 3000 Airli...|\n",
            "|    2U|Valley Air Expres...|\n",
            "|    37|            Zeal 320|\n",
            "|    3C|   Regions Air, Inc.|\n",
            "|    3F|Pacific Airways, ...|\n",
            "|    3M|      Gulfstream Int|\n",
            "|    3Z|Tatonduk Flying S...|\n",
            "|    4B|   Olson Air Service|\n",
            "|    4E|  Tanana Air Service|\n",
            "|4E (1)|British Airtours ...|\n",
            "|    4H|    Belize Trans Air|\n",
            "|    4M|       LAN Argentina|\n",
            "|4M (1)|        Lan Dominica|\n",
            "|    4N|           Air North|\n",
            "|    4R|Regent Air Corpor...|\n",
            "|    4S|Sol Air (Aero Hun...|\n",
            "|4S (1)|Conner Air Lines ...|\n",
            "|    4T|Belair Airlines Ltd.|\n",
            "|    4W|            Warbelow|\n",
            "|    4Y|Yute Air Aka Flig...|\n",
            "|    5B|        Bellair Inc.|\n",
            "|    5C|C.A.L Cargo Airlines|\n",
            "|    5D|         Aerolitoral|\n",
            "|    5F|Arctic Circle Air...|\n",
            "|    5G|Skyservice Airlin...|\n",
            "|5G (1)|           Queen Air|\n",
            "|    5J|Private Jet Exped...|\n",
            "|    5X|United Parcel Ser...|\n",
            "|    5Y|      Atlas Air Inc.|\n",
            "|    6A|    Aviacsa Airlines|\n",
            "|    6B|Britannia Airways...|\n",
            "|    6C|Cape Smythe Air S...|\n",
            "|    6F|  Laker Airways Inc.|\n",
            "|    6H|     Israir Airlines|\n",
            "|    6P|Pacific East Air ...|\n",
            "|    6R|Aerounion Aerotra...|\n",
            "|    6U|         Air Ukraine|\n",
            "|    6Y|Nicaraguense De A...|\n",
            "|    7B|             Krasair|\n",
            "|    7F|           First Air|\n",
            "|    7G|    MK Airlines Ltd.|\n",
            "|7G (1)|    Bellair Inc. (1)|\n",
            "|    7H|        Era Aviation|\n",
            "|    7M|  Aeromonterrey S.A.|\n",
            "|    7N|Inland Aviation S...|\n",
            "|    7P|Apa International...|\n",
            "|    7S|Arctic Transporta...|\n",
            "|7S (1)|Skystar Internati...|\n",
            "|    7Z|          Lb Limited|\n",
            "|    8C|Air Transport Int...|\n",
            "|    8D|    Servant Air Inc.|\n",
            "|    8E|     Bering Air Inc.|\n",
            "|    8F|        Wilburs Inc.|\n",
            "|    8J|      Jetall Airways|\n",
            "|    8L|Servicio Aereo Le...|\n",
            "|    8N|Flagship Airlines...|\n",
            "|    8Q| Baker Aviation Inc.|\n",
            "|    8R|    Edelweiss Air Ag|\n",
            "|    8V|  Wright Air Service|\n",
            "|    9E|Pinnacle Airlines...|\n",
            "|    9J|Pacific Island Av...|\n",
            "|    9K|            Cape Air|\n",
            "|    9L|          Colgan Air|\n",
            "|    9M|Central Mountain Air|\n",
            "|    9N|ANA & JP Express ...|\n",
            "|    9R|Flagship Express ...|\n",
            "|    9S|   Southern Air Inc.|\n",
            "|    9T|TravelspanGT, Inc...|\n",
            "|    9V|Avior Airlines, C.A.|\n",
            "|    9W|Jet Airways (Indi...|\n",
            "|    A0|Elysair d/b/a L'A...|\n",
            "|    A2|      Cielos De Peru|\n",
            "|    A4|Southern Wind Air...|\n",
            "|    A7|      Air Comet S.A.|\n",
            "|A7 (1)|              Air 21|\n",
            "|    AA|American Airlines...|\n",
            "|   AAA|Associated Aviati...|\n",
            "|   AAB|Antilles Air Boat...|\n",
            "|   AAE|        AAA Airlines|\n",
            "|   AAI|       Audi Air Inc.|\n",
            "|   AAL|Argosy Air Lines ...|\n",
            "|   AAP|Armstrong Air Ser...|\n",
            "|   AAQ|Advance Air Charters|\n",
            "|   AAR|Altair Airlines Inc.|\n",
            "|   AAT|   Air Sunshine Inc.|\n",
            "|   AAV|          Alpine Air|\n",
            "|   AAZ|Alaska Aeronautic...|\n",
            "|   ABH|           Air Bahia|\n",
            "|   ABI|Airbama Incorporated|\n",
            "|   ABO|Aeronaves Boringu...|\n",
            "|   ABX|       Abx Air, Inc.|\n",
            "|    AC|          Air Canada|\n",
            "|   ACA|Alaska Central Ai...|\n",
            "|   ACD|    Academy Airlines|\n",
            "|   ACG|Air Cargo Express...|\n",
            "|   ACH|Island Airlines H...|\n",
            "|   ACI|AAA-Action Air Ca...|\n",
            "|   ACJ|Atlantic Coast Je...|\n",
            "|   ACK|    Air Central Inc.|\n",
            "|   ACL|      Check-Air Inc.|\n",
            "|   ACN|   Alliance Airlines|\n",
            "|   ACO|Air Cargo Enterpr...|\n",
            "|   ACP|  Air Chaparral Inc.|\n",
            "|   ACQ|Aeronautica De Ca...|\n",
            "|   ACS|Alamo Commuter Ai...|\n",
            "|   ACT|Air Central Inc. (1)|\n",
            "|   ACW|Transwest Air Exp...|\n",
            "|    AD|Avia Leasing Company|\n",
            "|   ADQ|  Aeronaves Del Peru|\n",
            "|   ADR| Adirondack Airlines|\n",
            "|   ADV|  Advantage Airlines|\n",
            "|    AE|  Air Europe Limited|\n",
            "|   AEC| Astec Air East Inc.|\n",
            "|   AED|Air East Of Delaw...|\n",
            "|   AEF|        Aero Freight|\n",
            "|   AEO|          Aero Coach|\n",
            "|   AEQ|   Air Caravane Inc.|\n",
            "|   AEX|  Air Excursions LLC|\n",
            "|    AF|Compagnie Nat'l A...|\n",
            "|   AFA|American Flag Air...|\n",
            "|   AFE| Air Florida Express|\n",
            "|   AFG|American Flight G...|\n",
            "|   AFQ|Aero B Venezuela ...|\n",
            "|   AFS|Arcata Flying Ser...|\n",
            "|   AGA|Air Cargo America...|\n",
            "|   AGQ|          Argo S. A.|\n",
            "|   AHA|           Air Alpha|\n",
            "|   AHC|          Air Hawaii|\n",
            "|   AHQ|        Air National|\n",
            "|    AI|           Air-India|\n",
            "|   AIA|      All Island Air|\n",
            "|   AIC|       Air Caribbean|\n",
            "|   AIE|    Air Express Inc.|\n",
            "|   AIG|          Airgo Inc.|\n",
            "|   AIK|Air Ketchum Idaho...|\n",
            "|   AIM|      Air Mont. Inc.|\n",
            "|   AIN|         Air Indiana|\n",
            "|   AIQ|           Norontair|\n",
            "|   AIT|Airways Internati...|\n",
            "|   AIY|        Alliance Air|\n",
            "|    AJ| Air Micronesia Inc.|\n",
            "|   AJQ|   Aerodynamics Inc.|\n",
            "|   AKQ|Airmark Airlines ...|\n",
            "|    AL|     Skyway Airlines|\n",
            "|   ALD|     Allied Airlines|\n",
            "|   ALE|Air-Lift Associat...|\n",
            "|   ALI|          Brandt Air|\n",
            "|   ALK|    Air Link Airways|\n",
            "|   ALL|All Seasons Air P...|\n",
            "|   ALQ|Alberta Northern ...|\n",
            "|   ALS|            Air L.A.|\n",
            "|   ALT|      Altus Airlines|\n",
            "|   ALU|        Aleutian Air|\n",
            "|   ALX|     Atlanta Express|\n",
            "|    AM|          Aeromexico|\n",
            "|   AMA|North American Ai...|\n",
            "|   AME|      Americair Inc.|\n",
            "|   AMI|American Inter-Is...|\n",
            "|   AMQ| Ameristar Air Cargo|\n",
            "|   AMR|               AvAir|\n",
            "|   AMT|American Air Tran...|\n",
            "|   ANB|   Air Nebraska Inc.|\n",
            "|   ANC|        Atlantic Air|\n",
            "|   AND|Southcentral Air ...|\n",
            "|   ANI|Dash Air Corporation|\n",
            "|   ANM|Airways Of New Me...|\n",
            "|   ANO|Metro Air Northea...|\n",
            "|   ANT|    Air North/Nenana|\n",
            "|    AO|Aviacion Y Comerc...|\n",
            "|   AOI|      Trans New York|\n",
            "|   AON|     Action Airlines|\n",
            "|   AOQ|       Aerovias S.A.|\n",
            "|   AOR|     Air New Orleans|\n",
            "|   APE|            Air Cape|\n",
            "|   APH|           Alpha Air|\n",
            "+------+--------------------+\n",
            "only showing top 200 rows\n",
            "\n"
          ]
        }
      ]
    },
    {
      "cell_type": "code",
      "source": [
        "AirlineOriginInfo.show(5)"
      ],
      "metadata": {
        "colab": {
          "base_uri": "https://localhost:8080/"
        },
        "id": "vibA3i8FXJjs",
        "outputId": "7211781e-6ce9-432d-d8a4-71c225b63296"
      },
      "execution_count": 276,
      "outputs": [
        {
          "output_type": "stream",
          "name": "stdout",
          "text": [
            "+---+---------------+------------------+------------------+------+------------------+-----------+---------------+---------------+---------+\n",
            "|_c0|OriginAirportID|OriginAirportSeqID|OriginCityMarketID|Origin|    OriginCityName|OriginState|OriginStateFips|OriginStateName|OriginWac|\n",
            "+---+---------------+------------------+------------------+------+------------------+-----------+---------------+---------------+---------+\n",
            "|  0|          13487|           1348701|             31650|   MSP|   Minneapolis, MN|         MN|           27.0|      Minnesota|       63|\n",
            "|  1|          13342|           1334202|             33342|   MKE|     Milwaukee, WI|         WI|           55.0|      Wisconsin|       45|\n",
            "|  2|          11921|           1192102|             31921|   GJT|Grand Junction, CO|         CO|            8.0|       Colorado|       82|\n",
            "|  3|          12892|           1289201|             32575|   LAX|   Los Angeles, CA|         CA|            6.0|     California|       91|\n",
            "|  4|          11618|           1161801|             31703|   EWR|        Newark, NJ|         NJ|           34.0|     New Jersey|       21|\n",
            "+---+---------------+------------------+------------------+------+------------------+-----------+---------------+---------------+---------+\n",
            "only showing top 5 rows\n",
            "\n"
          ]
        }
      ]
    },
    {
      "cell_type": "code",
      "source": [
        "AirlineDepartureInfo.show(5)"
      ],
      "metadata": {
        "colab": {
          "base_uri": "https://localhost:8080/"
        },
        "id": "o34D1s0bXNdI",
        "outputId": "c1b1658c-03da-41ab-e5d8-374bde22f475"
      },
      "execution_count": 277,
      "outputs": [
        {
          "output_type": "stream",
          "name": "stdout",
          "text": [
            "+---+----------+-------+--------+---------------+--------+--------------------+----------+-------+---------+\n",
            "|_c0|CRSDepTime|DepTime|DepDelay|DepDelayMinutes|DepDel15|DepartureDelayGroups|DepTimeBlk|TaxiOut|WheelsOff|\n",
            "+---+----------+-------+--------+---------------+--------+--------------------+----------+-------+---------+\n",
            "|  0|      1640| 1659.0|    19.0|           19.0|     1.0|                 1.0| 1600-1659|   24.0|   1723.0|\n",
            "|  1|      1204| 1202.0|    -2.0|            0.0|     0.0|                -1.0| 1200-1259|   10.0|   1212.0|\n",
            "|  2|      1630| 1644.0|    14.0|           14.0|     0.0|                 0.0| 1600-1659|    9.0|   1653.0|\n",
            "|  3|      1305| 1305.0|     0.0|            0.0|     0.0|                 0.0| 1300-1359|   23.0|   1328.0|\n",
            "|  4|      1820| 1911.0|    51.0|           51.0|     1.0|                 3.0| 1800-1859|   19.0|   1930.0|\n",
            "+---+----------+-------+--------+---------------+--------+--------------------+----------+-------+---------+\n",
            "only showing top 5 rows\n",
            "\n"
          ]
        }
      ]
    },
    {
      "cell_type": "code",
      "source": [
        "AirlineDestinationInfo.show(5)"
      ],
      "metadata": {
        "colab": {
          "base_uri": "https://localhost:8080/"
        },
        "id": "dK5rye76XP0g",
        "outputId": "56fd4c7c-5739-47ed-fa7d-6be655f0003a"
      },
      "execution_count": 278,
      "outputs": [
        {
          "output_type": "stream",
          "name": "stdout",
          "text": [
            "+---+-------------+----------------+----------------+----+--------------------+---------+-------------+--------------+-------+\n",
            "|_c0|DestAirportID|DestAirportSeqID|DestCityMarketID|Dest|        DestCityName|DestState|DestStateFips| DestStateName|DestWac|\n",
            "+---+-------------+----------------+----------------+----+--------------------+---------+-------------+--------------+-------+\n",
            "|  0|        14869|         1486902|           34614| SLC|  Salt Lake City, UT|       UT|         49.0|          Utah|     87|\n",
            "|  1|        13204|         1320401|           31454| MCO|         Orlando, FL|       FL|         12.0|       Florida|     33|\n",
            "|  2|        11298|         1129803|           30194| DFW|Dallas/Fort Worth...|       TX|         48.0|         Texas|     74|\n",
            "|  3|        11433|         1143301|           31295| DTW|         Detroit, MI|       MI|         26.0|      Michigan|     43|\n",
            "|  4|        11057|         1105702|           31057| CLT|       Charlotte, NC|       NC|         37.0|North Carolina|     36|\n",
            "+---+-------------+----------------+----------------+----+--------------------+---------+-------------+--------------+-------+\n",
            "only showing top 5 rows\n",
            "\n"
          ]
        }
      ]
    },
    {
      "cell_type": "code",
      "source": [
        "AirlineDepartureInfo.select('_c0','DepDelayMinutes').filter(\"DepDelayMinutes < 15\").show()"
      ],
      "metadata": {
        "colab": {
          "base_uri": "https://localhost:8080/"
        },
        "id": "6nbYTVnAXSoZ",
        "outputId": "be5e0585-2be1-432a-8250-c237956895ab"
      },
      "execution_count": 279,
      "outputs": [
        {
          "output_type": "stream",
          "name": "stdout",
          "text": [
            "+---+---------------+\n",
            "|_c0|DepDelayMinutes|\n",
            "+---+---------------+\n",
            "|  1|            0.0|\n",
            "|  2|           14.0|\n",
            "|  3|            0.0|\n",
            "|  5|            0.0|\n",
            "|  6|            0.0|\n",
            "|  8|            2.0|\n",
            "| 10|            2.0|\n",
            "| 11|            0.0|\n",
            "| 12|            0.0|\n",
            "| 13|            0.0|\n",
            "| 14|            0.0|\n",
            "| 15|            1.0|\n",
            "| 16|            0.0|\n",
            "| 17|            0.0|\n",
            "| 18|            0.0|\n",
            "| 20|            0.0|\n",
            "| 21|            0.0|\n",
            "| 22|            0.0|\n",
            "| 24|           10.0|\n",
            "| 25|            0.0|\n",
            "+---+---------------+\n",
            "only showing top 20 rows\n",
            "\n"
          ]
        }
      ]
    },
    {
      "cell_type": "code",
      "source": [
        "AirlineDepartureInfo.select('_c0','DepDelayMinutes').filter('DepDelayminutes >= 15').show()"
      ],
      "metadata": {
        "colab": {
          "base_uri": "https://localhost:8080/"
        },
        "id": "7Ez8cNdGXnY_",
        "outputId": "0cc74ae1-3f6b-497c-ed89-5a44d884f59d"
      },
      "execution_count": 280,
      "outputs": [
        {
          "output_type": "stream",
          "name": "stdout",
          "text": [
            "+---+---------------+\n",
            "|_c0|DepDelayMinutes|\n",
            "+---+---------------+\n",
            "|  0|           19.0|\n",
            "|  4|           51.0|\n",
            "|  7|          221.0|\n",
            "|  9|           16.0|\n",
            "| 23|           52.0|\n",
            "| 44|           38.0|\n",
            "| 45|          129.0|\n",
            "| 49|           25.0|\n",
            "| 50|           32.0|\n",
            "| 60|           21.0|\n",
            "| 65|          215.0|\n",
            "| 74|           39.0|\n",
            "| 80|           30.0|\n",
            "| 82|           84.0|\n",
            "| 97|           37.0|\n",
            "|102|           24.0|\n",
            "|103|           16.0|\n",
            "|104|           18.0|\n",
            "|107|          116.0|\n",
            "|114|           33.0|\n",
            "+---+---------------+\n",
            "only showing top 20 rows\n",
            "\n"
          ]
        }
      ]
    },
    {
      "cell_type": "code",
      "source": [
        "AirlineArrivalInfo.show()"
      ],
      "metadata": {
        "colab": {
          "base_uri": "https://localhost:8080/"
        },
        "id": "gHaaziccX0lb",
        "outputId": "0c211903-d341-4113-93fc-c2fae39f7397"
      },
      "execution_count": 281,
      "outputs": [
        {
          "output_type": "stream",
          "name": "stdout",
          "text": [
            "+---+--------+------+----------+-------+--------+---------------+--------+------------------+----------+\n",
            "|_c0|WheelsOn|TaxiIn|CRSArrTime|ArrTime|ArrDelay|ArrDelayMinutes|ArrDel15|ArrivalDelayGroups|ArrTimeBlk|\n",
            "+---+--------+------+----------+-------+--------+---------------+--------+------------------+----------+\n",
            "|  0|  1856.0|   3.0|      1836| 1859.0|    23.0|           23.0|     1.0|               1.0| 1800-1859|\n",
            "|  1|  1533.0|   8.0|      1541| 1541.0|     0.0|            0.0|     0.0|               0.0| 1500-1559|\n",
            "|  2|  1936.0|   6.0|      1945| 1942.0|    -3.0|            0.0|     0.0|              -1.0| 1900-1959|\n",
            "|  3|  2008.0|   7.0|      2035| 2015.0|   -20.0|            0.0|     0.0|              -2.0| 2000-2059|\n",
            "|  4|  2050.0|   8.0|      2026| 2058.0|    32.0|           32.0|     1.0|               2.0| 2000-2059|\n",
            "|  5|   736.0|   5.0|       730|  741.0|    11.0|           11.0|     0.0|               0.0| 0700-0759|\n",
            "|  6|  1958.0|   4.0|      2000| 2002.0|     2.0|            2.0|     0.0|               0.0| 2000-2059|\n",
            "|  7|    25.0|   6.0|      2057|   31.0|   214.0|          214.0|     1.0|              12.0| 2000-2059|\n",
            "|  8|  1817.0|   3.0|      1810| 1820.0|    10.0|           10.0|     0.0|               0.0| 1800-1859|\n",
            "|  9|  2314.0|   5.0|      2250| 2319.0|    29.0|           29.0|     1.0|               1.0| 2200-2259|\n",
            "| 10|    null|  null|      1325| 1331.0|     6.0|            6.0|     0.0|               0.0| 1300-1359|\n",
            "| 11|  1252.0|   3.0|      1300| 1255.0|    -5.0|            0.0|     0.0|              -1.0| 1300-1359|\n",
            "| 12|    null|  null|      1521| 1511.0|   -10.0|            0.0|     0.0|              -1.0| 1500-1559|\n",
            "| 13|  1638.0|   8.0|      1705| 1646.0|   -19.0|            0.0|     0.0|              -2.0| 1700-1759|\n",
            "| 14|  1148.0|   2.0|      1206| 1150.0|   -16.0|            0.0|     0.0|              -2.0| 1200-1259|\n",
            "| 15|    null|  null|       728|  737.0|     9.0|            9.0|     0.0|               0.0| 0700-0759|\n",
            "| 16|  1234.0|   5.0|      1246| 1239.0|    -7.0|            0.0|     0.0|              -1.0| 1200-1259|\n",
            "| 17|  1824.0|   8.0|      1855| 1832.0|   -23.0|            0.0|     0.0|              -2.0| 1800-1859|\n",
            "| 18|  2308.0|   5.0|      2327| 2313.0|   -14.0|            0.0|     0.0|              -1.0| 2300-2359|\n",
            "| 19|    null|  null|      1700|   null|    null|           null|    null|              null| 1700-1759|\n",
            "+---+--------+------+----------+-------+--------+---------------+--------+------------------+----------+\n",
            "only showing top 20 rows\n",
            "\n"
          ]
        }
      ]
    },
    {
      "cell_type": "code",
      "source": [
        "AirlineArrivalInfo.select('_c0','ArrDelayMinutes').filter('ArrDelayMinutes < 15').show()"
      ],
      "metadata": {
        "colab": {
          "base_uri": "https://localhost:8080/"
        },
        "id": "9V_9GFaLX8a5",
        "outputId": "0475e4a3-72d9-4e59-ba73-4dc7cd472cd8"
      },
      "execution_count": 282,
      "outputs": [
        {
          "output_type": "stream",
          "name": "stdout",
          "text": [
            "+---+---------------+\n",
            "|_c0|ArrDelayMinutes|\n",
            "+---+---------------+\n",
            "|  1|            0.0|\n",
            "|  2|            0.0|\n",
            "|  3|            0.0|\n",
            "|  5|           11.0|\n",
            "|  6|            2.0|\n",
            "|  8|           10.0|\n",
            "| 10|            6.0|\n",
            "| 11|            0.0|\n",
            "| 12|            0.0|\n",
            "| 13|            0.0|\n",
            "| 14|            0.0|\n",
            "| 15|            9.0|\n",
            "| 16|            0.0|\n",
            "| 17|            0.0|\n",
            "| 18|            0.0|\n",
            "| 20|            0.0|\n",
            "| 21|            0.0|\n",
            "| 22|            8.0|\n",
            "| 25|            6.0|\n",
            "| 26|            0.0|\n",
            "+---+---------------+\n",
            "only showing top 20 rows\n",
            "\n"
          ]
        }
      ]
    },
    {
      "cell_type": "code",
      "source": [
        "AirlineArrivalInfo.select('_c0','ArrDelayMinutes').filter('ArrDelayMinutes >= 15').show()"
      ],
      "metadata": {
        "colab": {
          "base_uri": "https://localhost:8080/"
        },
        "id": "hrK6JtGOYHDB",
        "outputId": "844c9919-1989-4a43-f6ac-172ea06c64df"
      },
      "execution_count": 283,
      "outputs": [
        {
          "output_type": "stream",
          "name": "stdout",
          "text": [
            "+---+---------------+\n",
            "|_c0|ArrDelayMinutes|\n",
            "+---+---------------+\n",
            "|  0|           23.0|\n",
            "|  4|           32.0|\n",
            "|  7|          214.0|\n",
            "|  9|           29.0|\n",
            "| 23|           44.0|\n",
            "| 24|           17.0|\n",
            "| 29|           39.0|\n",
            "| 41|           84.0|\n",
            "| 44|           22.0|\n",
            "| 45|          119.0|\n",
            "| 47|           18.0|\n",
            "| 49|           19.0|\n",
            "| 50|           35.0|\n",
            "| 55|           24.0|\n",
            "| 60|           21.0|\n",
            "| 65|          221.0|\n",
            "| 74|           26.0|\n",
            "| 77|           22.0|\n",
            "| 82|           89.0|\n",
            "| 90|           16.0|\n",
            "+---+---------------+\n",
            "only showing top 20 rows\n",
            "\n"
          ]
        }
      ]
    },
    {
      "cell_type": "code",
      "source": [
        "\n",
        "AirlineArrivalInfo.select('ArrDelayMinutes').filter(\"ArrDelayMinutes >= 15\").count()"
      ],
      "metadata": {
        "colab": {
          "base_uri": "https://localhost:8080/"
        },
        "id": "13cPhOJAYJIK",
        "outputId": "dcdf4ed6-af88-406e-f9fc-b1da99240e96"
      },
      "execution_count": 284,
      "outputs": [
        {
          "output_type": "execute_result",
          "data": {
            "text/plain": [
              "9775"
            ]
          },
          "metadata": {},
          "execution_count": 284
        }
      ]
    },
    {
      "cell_type": "code",
      "source": [
        "AirlineCanDivInfo.show(5)"
      ],
      "metadata": {
        "colab": {
          "base_uri": "https://localhost:8080/"
        },
        "id": "YcBKIZadYQpd",
        "outputId": "f55dd753-c538-42d4-e6af-b28a242e83a6"
      },
      "execution_count": 285,
      "outputs": [
        {
          "output_type": "stream",
          "name": "stdout",
          "text": [
            "+---+---------+----------------+--------+\n",
            "|_c0|Cancelled|CancellationCode|Diverted|\n",
            "+---+---------+----------------+--------+\n",
            "|  0|      0.0|            null|     0.0|\n",
            "|  1|      0.0|            null|     0.0|\n",
            "|  2|      0.0|            null|     0.0|\n",
            "|  3|      0.0|            null|     0.0|\n",
            "|  4|      0.0|            null|     0.0|\n",
            "+---+---------+----------------+--------+\n",
            "only showing top 5 rows\n",
            "\n"
          ]
        }
      ]
    },
    {
      "cell_type": "code",
      "source": [
        "AirlineCanDivInfo.select('Cancelled').filter(\"Cancelled  == 1\").count()"
      ],
      "metadata": {
        "colab": {
          "base_uri": "https://localhost:8080/"
        },
        "id": "3d2sxc7jYTXZ",
        "outputId": "0e65f55f-dd2f-49b8-900a-b95aa4da6db6"
      },
      "execution_count": 286,
      "outputs": [
        {
          "output_type": "execute_result",
          "data": {
            "text/plain": [
              "878"
            ]
          },
          "metadata": {},
          "execution_count": 286
        }
      ]
    },
    {
      "cell_type": "code",
      "source": [
        "AirlineCanDivInfo.select('Diverted').filter('Diverted == 1').count()"
      ],
      "metadata": {
        "colab": {
          "base_uri": "https://localhost:8080/"
        },
        "id": "BL3PIdiCYWkn",
        "outputId": "8884bf69-d6dc-4910-ab2f-521915bad6e1"
      },
      "execution_count": 287,
      "outputs": [
        {
          "output_type": "execute_result",
          "data": {
            "text/plain": [
              "133"
            ]
          },
          "metadata": {},
          "execution_count": 287
        }
      ]
    },
    {
      "cell_type": "code",
      "source": [
        "AirlineSummry.show(5)"
      ],
      "metadata": {
        "colab": {
          "base_uri": "https://localhost:8080/"
        },
        "id": "Tx0Wg6dzYc3O",
        "outputId": "ea0ee818-c160-4cfb-94cf-8ba38bbd623d"
      },
      "execution_count": 288,
      "outputs": [
        {
          "output_type": "stream",
          "name": "stdout",
          "text": [
            "+---+--------------+-----------------+-------+-------+--------+-------------+\n",
            "|_c0|CRSElapsedTime|ActualElapsedTime|AirTime|Flights|Distance|DistanceGroup|\n",
            "+---+--------------+-----------------+-------+-------+--------+-------------+\n",
            "|  0|         176.0|            180.0|  153.0|    1.0|   991.0|            4|\n",
            "|  1|         157.0|            159.0|  141.0|    1.0|  1066.0|            5|\n",
            "|  2|         135.0|            118.0|  103.0|    1.0|   773.0|            4|\n",
            "|  3|         270.0|            250.0|  220.0|    1.0|  1979.0|            8|\n",
            "|  4|         126.0|            107.0|   80.0|    1.0|   529.0|            3|\n",
            "+---+--------------+-----------------+-------+-------+--------+-------------+\n",
            "only showing top 5 rows\n",
            "\n"
          ]
        }
      ]
    },
    {
      "cell_type": "code",
      "source": [
        "AirlineDelayInfo.show(5)"
      ],
      "metadata": {
        "colab": {
          "base_uri": "https://localhost:8080/"
        },
        "id": "1rJ7vBy4Yg_q",
        "outputId": "1a50da72-5219-4449-e656-dacab183a65b"
      },
      "execution_count": 289,
      "outputs": [
        {
          "output_type": "stream",
          "name": "stdout",
          "text": [
            "+---+------------+------------+--------+-------------+-----------------+\n",
            "|_c0|CarrierDelay|WeatherDelay|NASDelay|SecurityDelay|LateAircraftDelay|\n",
            "+---+------------+------------+--------+-------------+-----------------+\n",
            "|  0|        null|        null|    null|         null|             null|\n",
            "|  1|        null|        null|    null|         null|             null|\n",
            "|  2|        null|        null|    null|         null|             null|\n",
            "|  3|        null|        null|    null|         null|             null|\n",
            "|  4|         0.0|         0.0|     0.0|          0.0|             32.0|\n",
            "+---+------------+------------+--------+-------------+-----------------+\n",
            "only showing top 5 rows\n",
            "\n"
          ]
        }
      ]
    },
    {
      "cell_type": "code",
      "source": [
        "AirlineDelayInfo.select('CarrierDelay').filter('CarrierDelay > 0').count()"
      ],
      "metadata": {
        "colab": {
          "base_uri": "https://localhost:8080/"
        },
        "id": "b2KfZzLZYrGj",
        "outputId": "41315d5a-c744-4583-bd4b-2f862d57b56f"
      },
      "execution_count": 290,
      "outputs": [
        {
          "output_type": "execute_result",
          "data": {
            "text/plain": [
              "2663"
            ]
          },
          "metadata": {},
          "execution_count": 290
        }
      ]
    },
    {
      "cell_type": "code",
      "source": [
        "AirlineDelayInfo.select('WeatherDelay').filter('WeatherDelay > 0').count()"
      ],
      "metadata": {
        "colab": {
          "base_uri": "https://localhost:8080/"
        },
        "id": "SdLciDnxZB0h",
        "outputId": "71b824e1-b78e-4f8d-bff0-beba4c60b754"
      },
      "execution_count": 291,
      "outputs": [
        {
          "output_type": "execute_result",
          "data": {
            "text/plain": [
              "360"
            ]
          },
          "metadata": {},
          "execution_count": 291
        }
      ]
    },
    {
      "cell_type": "code",
      "source": [
        "AirlineDelayInfo.select('NASDelay').filter('NASDelay > 0').count()"
      ],
      "metadata": {
        "colab": {
          "base_uri": "https://localhost:8080/"
        },
        "id": "NgkoczZPZEtm",
        "outputId": "984371cf-cf09-4db9-9f86-51b9b14244dd"
      },
      "execution_count": 292,
      "outputs": [
        {
          "output_type": "execute_result",
          "data": {
            "text/plain": [
              "3202"
            ]
          },
          "metadata": {},
          "execution_count": 292
        }
      ]
    },
    {
      "cell_type": "code",
      "source": [
        "AirlineDelayInfo.select('SecurityDelay').filter('SecurityDelay > 0').count()"
      ],
      "metadata": {
        "colab": {
          "base_uri": "https://localhost:8080/"
        },
        "id": "bKwSB65eZOsE",
        "outputId": "a7773e1b-f3d8-4d9d-d5ed-d9bb7be7dd7c"
      },
      "execution_count": 293,
      "outputs": [
        {
          "output_type": "execute_result",
          "data": {
            "text/plain": [
              "21"
            ]
          },
          "metadata": {},
          "execution_count": 293
        }
      ]
    },
    {
      "cell_type": "code",
      "source": [
        "AirlineDelayInfo.select('LateAircraftDelay').filter('LateAircraftDelay > 0').count()"
      ],
      "metadata": {
        "colab": {
          "base_uri": "https://localhost:8080/"
        },
        "id": "iLewWDR9ZVPU",
        "outputId": "1a431688-8436-4586-b8f4-abb9ee8c5836"
      },
      "execution_count": 294,
      "outputs": [
        {
          "output_type": "execute_result",
          "data": {
            "text/plain": [
              "2685"
            ]
          },
          "metadata": {},
          "execution_count": 294
        }
      ]
    },
    {
      "cell_type": "markdown",
      "source": [
        "###Create a Dataframe"
      ],
      "metadata": {
        "id": "E212hUKMoD9i"
      }
    },
    {
      "cell_type": "code",
      "source": [
        "AirlineDF5 = AirlineDF.select(\"_c0\",\"Year\",\"Quarter\", \"Month\", \"DayofMonth\", \"DayofWeek\" , \\\n",
        "                              \"FlightDate\",\"Reporting_Airline\",\"DOT_ID_Reporting_Airline\", \\\n",
        "                              \"IATA_CODE_Reporting_Airline\", \"Tail_Number\", \"Flight_Number_Reporting_Airline\", \\\n",
        "                              \"OriginAirportID\",\"OriginAirportSeqID\", \"OriginCityMarketID\", \"Origin\", \\\n",
        "                              \"OriginCityName\" , \"OriginState\", \"OriginStateFips\", \"OriginStateName\", \\\n",
        "                              \"OriginWac\",\"DestAirportID\",\"DestAirportSeqID\", \"DestCityMarketID\", \\\n",
        "                              \"Dest\", \"DestCityName\" , \"DestState\", \"DestStateFips\", \"DestStateName\", \\\n",
        "                              \"DestWac\",\"CRSDepTime\",\"DepTime\", \"DepDelay\", \"DepDelayMinutes\", \"DepDel15\" , \\\n",
        "                              \"DepartureDelayGroups\", \"DepTimeBlk\", \"TaxiOut\", \"WheelsOff\",\"WheelsOn\",\"TaxiIn\", \\\n",
        "                              \"CRSArrTime\", \"ArrTime\", \"ArrDelay\" , \"ArrDelayMinutes\", \"ArrDel15\", \\\n",
        "                              \"ArrivalDelayGroups\", \"ArrTimeBlk\",\"Cancelled\",\"CancellationCode\", \\\n",
        "                              \"Diverted\",\"CRSElapsedTime\",\"ActualElapsedTime\", \"AirTime\", \"Flights\", \\\n",
        "                              \"Distance\" , \"DistanceGroup\",\"CarrierDelay\",\"WeatherDelay\", \"NASDelay\", \\\n",
        "                              \"SecurityDelay\", \"LateAircraftDelay\" )"
      ],
      "metadata": {
        "id": "2hO-Mus8ZaoU"
      },
      "execution_count": 295,
      "outputs": []
    },
    {
      "cell_type": "markdown",
      "source": [
        "##Case Study - 1\n",
        "\n",
        "## Departure Delay Report for all flights between 2000 & 2020"
      ],
      "metadata": {
        "id": "xYpHfGoXoSCG"
      }
    },
    {
      "cell_type": "code",
      "source": [
        "# calculate total no of flights and  group data by Carrier\n",
        "df1 = AirlineDF5.select('Year', 'Reporting_Airline').filter((AirlineDF5.Year >= 2000) & (AirlineDF5.Year <= 2020)).groupBy('Reporting_Airline').count().withColumnRenamed(\"count\", \"TotalFlights\").orderBy(\"Reporting_Airline\")"
      ],
      "metadata": {
        "id": "-kyPbUKSaeEO"
      },
      "execution_count": 296,
      "outputs": []
    },
    {
      "cell_type": "code",
      "source": [
        "df1.show()"
      ],
      "metadata": {
        "colab": {
          "base_uri": "https://localhost:8080/"
        },
        "id": "JoGD1NZjbSkY",
        "outputId": "98331da4-0944-4dbe-dbab-abf2792bb72d"
      },
      "execution_count": 297,
      "outputs": [
        {
          "output_type": "stream",
          "name": "stdout",
          "text": [
            "+-----------------+------------+\n",
            "|Reporting_Airline|TotalFlights|\n",
            "+-----------------+------------+\n",
            "|               9E|         518|\n",
            "|               AA|        3620|\n",
            "|               AS|         889|\n",
            "|               B6|         905|\n",
            "|               CO|         909|\n",
            "|               DH|         168|\n",
            "|               DL|        3938|\n",
            "|               EV|        1749|\n",
            "|               F9|         372|\n",
            "|               FL|         622|\n",
            "|               G4|          55|\n",
            "|               HA|         304|\n",
            "|               HP|         299|\n",
            "|               KH|          42|\n",
            "|               MQ|        2015|\n",
            "|               NK|         213|\n",
            "|               NW|        1202|\n",
            "|               OH|         607|\n",
            "|               OO|        2719|\n",
            "|               TW|         123|\n",
            "+-----------------+------------+\n",
            "only showing top 20 rows\n",
            "\n"
          ]
        }
      ]
    },
    {
      "cell_type": "code",
      "source": [
        "#Calculate total no of Departure delay flights\n",
        "df2 = AirlineDF5.select('Reporting_Airline','DepDelayMinutes').filter((AirlineDF5.Year >= 2000) & (AirlineDF5.Year <= 2020)).filter('DepDelayMinutes >= 10').groupBy('Reporting_Airline').count().withColumnRenamed('Count', 'Total Departure Delay Flights').orderBy('Reporting_Airline')"
      ],
      "metadata": {
        "id": "uOthAcQ4bWyk"
      },
      "execution_count": 298,
      "outputs": []
    },
    {
      "cell_type": "code",
      "source": [
        "df2.show()"
      ],
      "metadata": {
        "colab": {
          "base_uri": "https://localhost:8080/"
        },
        "id": "B2oofi0ucFBZ",
        "outputId": "97c363e8-6bfe-4a29-9257-a4dbb65e2fa9"
      },
      "execution_count": 299,
      "outputs": [
        {
          "output_type": "stream",
          "name": "stdout",
          "text": [
            "+-----------------+-----------------------------+\n",
            "|Reporting_Airline|Total Departure Delay Flights|\n",
            "+-----------------+-----------------------------+\n",
            "|               9E|                           96|\n",
            "|               AA|                          780|\n",
            "|               AS|                          166|\n",
            "|               B6|                          224|\n",
            "|               CO|                          180|\n",
            "|               DH|                           44|\n",
            "|               DL|                          728|\n",
            "|               EV|                          453|\n",
            "|               F9|                           87|\n",
            "|               FL|                          147|\n",
            "|               G4|                           15|\n",
            "|               HA|                           25|\n",
            "|               HP|                           63|\n",
            "|               KH|                            5|\n",
            "|               MQ|                          445|\n",
            "|               NK|                           50|\n",
            "|               NW|                          225|\n",
            "|               OH|                          137|\n",
            "|               OO|                          546|\n",
            "|               TW|                           21|\n",
            "+-----------------+-----------------------------+\n",
            "only showing top 20 rows\n",
            "\n"
          ]
        }
      ]
    },
    {
      "cell_type": "code",
      "source": [
        "# calculate total no. of arrival delay flights\n",
        "df3 = AirlineDF5.select('Reporting_Airline', 'ArrDelayMinutes').filter((AirlineDF5.Year >= 2000) & (AirlineDF5.Year <= 2020)).filter('ArrDelayMinutes > 10').groupBy('Reporting_Airline').count().withColumnRenamed('Count', 'Total Arrival Delay Flights').orderBy('Reporting_Airline')"
      ],
      "metadata": {
        "id": "a9C-iloAcG_5"
      },
      "execution_count": 300,
      "outputs": []
    },
    {
      "cell_type": "code",
      "source": [
        "df3.show()"
      ],
      "metadata": {
        "colab": {
          "base_uri": "https://localhost:8080/"
        },
        "id": "IsQ6G2mtcr9Y",
        "outputId": "45084817-4fb7-4fef-9e9f-4cf1684b1ec0"
      },
      "execution_count": 301,
      "outputs": [
        {
          "output_type": "stream",
          "name": "stdout",
          "text": [
            "+-----------------+---------------------------+\n",
            "|Reporting_Airline|Total Arrival Delay Flights|\n",
            "+-----------------+---------------------------+\n",
            "|               9E|                        103|\n",
            "|               AA|                        850|\n",
            "|               AS|                        185|\n",
            "|               B6|                        230|\n",
            "|               CO|                        231|\n",
            "|               DH|                         48|\n",
            "|               DL|                        782|\n",
            "|               EV|                        455|\n",
            "|               F9|                        103|\n",
            "|               FL|                        151|\n",
            "|               G4|                         15|\n",
            "|               HA|                         35|\n",
            "|               HP|                         82|\n",
            "|               KH|                          5|\n",
            "|               MQ|                        505|\n",
            "|               NK|                         57|\n",
            "|               NW|                        300|\n",
            "|               OH|                        164|\n",
            "|               OO|                        596|\n",
            "|               TW|                         30|\n",
            "+-----------------+---------------------------+\n",
            "only showing top 20 rows\n",
            "\n"
          ]
        }
      ]
    },
    {
      "cell_type": "code",
      "source": [
        "#calculate total no. of cancelled flights\n",
        "df4 = AirlineDF5.select('Reporting_Airline', 'Cancelled').filter((AirlineDF5.Year >= 2000) & (AirlineDF5.Year <= 2020)).filter('Cancelled = 1').groupBy('Reporting_Airline').count().withColumnRenamed('Count', 'Total Cancelled Flights').orderBy('Reporting_Airline')"
      ],
      "metadata": {
        "id": "aTTEdkA-ctoh"
      },
      "execution_count": 302,
      "outputs": []
    },
    {
      "cell_type": "code",
      "source": [
        "df4.show()"
      ],
      "metadata": {
        "colab": {
          "base_uri": "https://localhost:8080/"
        },
        "id": "wuAFPMpkc-2S",
        "outputId": "baf3100a-4c8e-44d5-b73b-dfb6f6a537ee"
      },
      "execution_count": 303,
      "outputs": [
        {
          "output_type": "stream",
          "name": "stdout",
          "text": [
            "+-----------------+-----------------------+\n",
            "|Reporting_Airline|Total Cancelled Flights|\n",
            "+-----------------+-----------------------+\n",
            "|               9E|                     13|\n",
            "|               AA|                     70|\n",
            "|               AS|                     11|\n",
            "|               B6|                     12|\n",
            "|               CO|                     12|\n",
            "|               DH|                      6|\n",
            "|               DL|                     54|\n",
            "|               EV|                     32|\n",
            "|               F9|                      1|\n",
            "|               FL|                      3|\n",
            "|               HP|                      5|\n",
            "|               MQ|                     82|\n",
            "|               NK|                      3|\n",
            "|               NW|                     20|\n",
            "|               OH|                     14|\n",
            "|               OO|                     58|\n",
            "|               TW|                      3|\n",
            "|               UA|                     52|\n",
            "|               US|                     35|\n",
            "|               VX|                      1|\n",
            "+-----------------+-----------------------+\n",
            "only showing top 20 rows\n",
            "\n"
          ]
        }
      ]
    },
    {
      "cell_type": "code",
      "source": [
        "# calculate total no. of diverted flights\n",
        "df5 = AirlineDF5.select('Reporting_Airline', 'Diverted').filter((AirlineDF5.Year >= 2000) & (AirlineDF5.Year <= 2020)).filter('Diverted = 1').groupBy('Reporting_Airline').count().withColumnRenamed('Count', 'Total Divetrted Flights').orderBy('Reporting_Airline')"
      ],
      "metadata": {
        "id": "xU8ncgfQdALS"
      },
      "execution_count": 304,
      "outputs": []
    },
    {
      "cell_type": "code",
      "source": [
        "df5.show()"
      ],
      "metadata": {
        "colab": {
          "base_uri": "https://localhost:8080/"
        },
        "id": "_JXx0417dMGt",
        "outputId": "f5f66a11-e8f2-48a0-ace3-b4442041c6b3"
      },
      "execution_count": 305,
      "outputs": [
        {
          "output_type": "stream",
          "name": "stdout",
          "text": [
            "+-----------------+-----------------------+\n",
            "|Reporting_Airline|Total Divetrted Flights|\n",
            "+-----------------+-----------------------+\n",
            "|               AA|                      5|\n",
            "|               AS|                      5|\n",
            "|               B6|                      3|\n",
            "|               CO|                      1|\n",
            "|               DH|                      1|\n",
            "|               DL|                      8|\n",
            "|               EV|                     11|\n",
            "|               FL|                      4|\n",
            "|               G4|                      1|\n",
            "|               MQ|                     10|\n",
            "|               NW|                      4|\n",
            "|               OH|                      1|\n",
            "|               OO|                     10|\n",
            "|               UA|                      7|\n",
            "|               US|                      2|\n",
            "|               VX|                      1|\n",
            "|               WN|                     11|\n",
            "|               XE|                      2|\n",
            "|               YV|                      3|\n",
            "+-----------------+-----------------------+\n",
            "\n"
          ]
        }
      ]
    },
    {
      "cell_type": "code",
      "source": [
        "# calculate total no. of carrier delay flights\n",
        "df6 = AirlineDF5.select('Reporting_Airline', 'CarrierDelay').filter((AirlineDF5.Year >= 2000) & (AirlineDF5.Year <= 2020)).filter('CarrierDelay > 0').groupBy('Reporting_Airline').count().withColumnRenamed('Count', 'Total Carrier Delayed Flights').orderBy('Reporting_Airline')"
      ],
      "metadata": {
        "id": "vgoaqvtAdQYt"
      },
      "execution_count": 306,
      "outputs": []
    },
    {
      "cell_type": "code",
      "source": [
        "df6.show()"
      ],
      "metadata": {
        "colab": {
          "base_uri": "https://localhost:8080/"
        },
        "id": "N2LJsnUsddpe",
        "outputId": "5a434869-b21f-4264-91d2-1a4583b5e351"
      },
      "execution_count": 307,
      "outputs": [
        {
          "output_type": "stream",
          "name": "stdout",
          "text": [
            "+-----------------+-----------------------------+\n",
            "|Reporting_Airline|Total Carrier Delayed Flights|\n",
            "+-----------------+-----------------------------+\n",
            "|               9E|                           33|\n",
            "|               AA|                          277|\n",
            "|               AS|                           40|\n",
            "|               B6|                          125|\n",
            "|               CO|                           49|\n",
            "|               DH|                           13|\n",
            "|               DL|                          243|\n",
            "|               EV|                          206|\n",
            "|               F9|                           36|\n",
            "|               FL|                           32|\n",
            "|               G4|                            8|\n",
            "|               HA|                           18|\n",
            "|               HP|                           14|\n",
            "|               MQ|                          146|\n",
            "|               NK|                           17|\n",
            "|               NW|                           73|\n",
            "|               OH|                           59|\n",
            "|               OO|                          197|\n",
            "|               TZ|                            1|\n",
            "|               UA|                          213|\n",
            "+-----------------+-----------------------------+\n",
            "only showing top 20 rows\n",
            "\n"
          ]
        }
      ]
    },
    {
      "cell_type": "code",
      "source": [
        "# calculate total no. of weather delay flights\n",
        "df7 = AirlineDF5.select('Reporting_Airline', 'WeatherDelay').filter((AirlineDF5.Year >= 2000) & (AirlineDF5.Year <= 2020)).filter('WeatherDelay > 0').groupBy('Reporting_Airline').count().withColumnRenamed('Count', 'Total Weather Delayed Flights').orderBy('Reporting_Airline')"
      ],
      "metadata": {
        "id": "F2l2w00udhsf"
      },
      "execution_count": 308,
      "outputs": []
    },
    {
      "cell_type": "code",
      "source": [
        "df7.show()"
      ],
      "metadata": {
        "colab": {
          "base_uri": "https://localhost:8080/"
        },
        "id": "sX-l17JRd4eh",
        "outputId": "959e5e41-1420-4469-e0a5-53d9fa8ab8a8"
      },
      "execution_count": 309,
      "outputs": [
        {
          "output_type": "stream",
          "name": "stdout",
          "text": [
            "+-----------------+-----------------------------+\n",
            "|Reporting_Airline|Total Weather Delayed Flights|\n",
            "+-----------------+-----------------------------+\n",
            "|               9E|                            5|\n",
            "|               AA|                           64|\n",
            "|               AS|                            2|\n",
            "|               B6|                            8|\n",
            "|               CO|                           12|\n",
            "|               DH|                            2|\n",
            "|               DL|                           28|\n",
            "|               EV|                           30|\n",
            "|               F9|                            3|\n",
            "|               FL|                            1|\n",
            "|               G4|                            4|\n",
            "|               HA|                            2|\n",
            "|               MQ|                           43|\n",
            "|               NK|                            2|\n",
            "|               NW|                           15|\n",
            "|               OH|                           24|\n",
            "|               OO|                           23|\n",
            "|               UA|                           19|\n",
            "|               US|                           13|\n",
            "|               VX|                            3|\n",
            "+-----------------+-----------------------------+\n",
            "only showing top 20 rows\n",
            "\n"
          ]
        }
      ]
    },
    {
      "cell_type": "code",
      "source": [
        "#calculate total no. of NAS delay flights\n",
        "df8 = AirlineDF5.select('Reporting_Airline', 'CarrierDelay').filter((AirlineDF5.Year >= 2000) & (AirlineDF5.Year <= 2020)).filter('NASDelay > 0').groupBy('Reporting_Airline').count().withColumnRenamed('Count', 'Total NAS Delayed Flights').orderBy('Reporting_Airline')"
      ],
      "metadata": {
        "id": "J5hR_lIAd6Rr"
      },
      "execution_count": 310,
      "outputs": []
    },
    {
      "cell_type": "code",
      "source": [
        "df8.show()"
      ],
      "metadata": {
        "colab": {
          "base_uri": "https://localhost:8080/"
        },
        "id": "v4EpISZ1eAM0",
        "outputId": "47f38921-15e2-4c3a-8602-8df688b4b97d"
      },
      "execution_count": 311,
      "outputs": [
        {
          "output_type": "stream",
          "name": "stdout",
          "text": [
            "+-----------------+-------------------------+\n",
            "|Reporting_Airline|Total NAS Delayed Flights|\n",
            "+-----------------+-------------------------+\n",
            "|               9E|                       54|\n",
            "|               AA|                      356|\n",
            "|               AS|                       68|\n",
            "|               B6|                      134|\n",
            "|               CO|                      103|\n",
            "|               DH|                       20|\n",
            "|               DL|                      327|\n",
            "|               EV|                      227|\n",
            "|               F9|                       57|\n",
            "|               FL|                       77|\n",
            "|               G4|                        3|\n",
            "|               HP|                       15|\n",
            "|               MQ|                      235|\n",
            "|               NK|                       44|\n",
            "|               NW|                       97|\n",
            "|               OH|                       84|\n",
            "|               OO|                      219|\n",
            "|               TZ|                        5|\n",
            "|               UA|                      276|\n",
            "|               US|                      174|\n",
            "+-----------------+-------------------------+\n",
            "only showing top 20 rows\n",
            "\n"
          ]
        }
      ]
    },
    {
      "cell_type": "code",
      "source": [
        "#calculate total no. of security delay flights\n",
        "df9 = AirlineDF5.select('Reporting_Airline', 'SecurityDelay').filter((AirlineDF5.Year >= 2000) & (AirlineDF5.Year <= 2020)).filter('SecurityDelay > 0').groupBy('Reporting_Airline').count().withColumnRenamed('Count', 'Total Security Delayed Flights').orderBy('Reporting_Airline')"
      ],
      "metadata": {
        "id": "0GeTA_8OeBYF"
      },
      "execution_count": 312,
      "outputs": []
    },
    {
      "cell_type": "code",
      "source": [
        "df9.show()"
      ],
      "metadata": {
        "colab": {
          "base_uri": "https://localhost:8080/"
        },
        "id": "_3C4ZC7NeHJU",
        "outputId": "167ef7fb-d9db-4cf1-829d-66764be53ccc"
      },
      "execution_count": 313,
      "outputs": [
        {
          "output_type": "stream",
          "name": "stdout",
          "text": [
            "+-----------------+------------------------------+\n",
            "|Reporting_Airline|Total Security Delayed Flights|\n",
            "+-----------------+------------------------------+\n",
            "|               AA|                             1|\n",
            "|               AS|                             1|\n",
            "|               B6|                             1|\n",
            "|               DL|                             1|\n",
            "|               NW|                             2|\n",
            "|               OO|                             1|\n",
            "|               TZ|                             1|\n",
            "|               US|                             2|\n",
            "|               VX|                             1|\n",
            "|               WN|                             7|\n",
            "|               XE|                             2|\n",
            "|               YV|                             1|\n",
            "+-----------------+------------------------------+\n",
            "\n"
          ]
        }
      ]
    },
    {
      "cell_type": "code",
      "source": [
        "# calculate total no. of late aircraft delay flights\n",
        "df10 = AirlineDF5.select('Reporting_Airline', 'LateAircraftDelay').filter((AirlineDF5.Year >= 2000) & (AirlineDF5.Year <= 2020)).filter('LateAircraftDelay > 0').groupBy('Reporting_Airline').count().withColumnRenamed('Count', 'Total LateAircraft Delayed Flights').orderBy('Reporting_Airline')"
      ],
      "metadata": {
        "id": "N6in2L7geMRJ"
      },
      "execution_count": 314,
      "outputs": []
    },
    {
      "cell_type": "code",
      "source": [
        "df10.show()"
      ],
      "metadata": {
        "colab": {
          "base_uri": "https://localhost:8080/"
        },
        "id": "HMVNFRj_eWyE",
        "outputId": "378fab5a-890a-4ca8-e173-e2dc717c7a9d"
      },
      "execution_count": 315,
      "outputs": [
        {
          "output_type": "stream",
          "name": "stdout",
          "text": [
            "+-----------------+----------------------------------+\n",
            "|Reporting_Airline|Total LateAircraft Delayed Flights|\n",
            "+-----------------+----------------------------------+\n",
            "|               9E|                                35|\n",
            "|               AA|                               286|\n",
            "|               AS|                                43|\n",
            "|               B6|                               111|\n",
            "|               CO|                                37|\n",
            "|               DH|                                16|\n",
            "|               DL|                               214|\n",
            "|               EV|                               178|\n",
            "|               F9|                                43|\n",
            "|               FL|                                64|\n",
            "|               G4|                                 8|\n",
            "|               HA|                                 9|\n",
            "|               HP|                                 6|\n",
            "|               KH|                                 3|\n",
            "|               MQ|                               205|\n",
            "|               NK|                                11|\n",
            "|               NW|                                47|\n",
            "|               OH|                                35|\n",
            "|               OO|                               256|\n",
            "|               TZ|                                 2|\n",
            "+-----------------+----------------------------------+\n",
            "only showing top 20 rows\n",
            "\n"
          ]
        }
      ]
    },
    {
      "cell_type": "code",
      "source": [
        "# joining multiple dataframe\n",
        "DelayReport = df1.alias(\"df1\").join(df2.alias(\"df2\"),[\"Reporting_Airline\"]).join(df3.alias(\"df3\"),[\"Reporting_Airline\"]).join(df4.alias(\"df4\"),[\"Reporting_Airline\"]).join(df5.alias(\"df5\"),[\"Reporting_Airline\"]).join(df6.alias(\"df6\"),[\"Reporting_Airline\"]).join(df7.alias(\"df7\"),[\"Reporting_Airline\"]).join(df8.alias(\"df8\"),[\"Reporting_Airline\"]).join(df9.alias(\"df9\"),[\"Reporting_Airline\"]).join(df10.alias(\"df10\"),[\"Reporting_Airline\"])"
      ],
      "metadata": {
        "id": "EWZUU5HkeYBu"
      },
      "execution_count": 316,
      "outputs": []
    },
    {
      "cell_type": "code",
      "source": [
        "#complete delay report\n",
        "DelayReport.show(5)"
      ],
      "metadata": {
        "colab": {
          "base_uri": "https://localhost:8080/"
        },
        "id": "q1XgEj1ofGXV",
        "outputId": "81d14637-cb86-4c92-e0f5-521e8748fd4a"
      },
      "execution_count": 317,
      "outputs": [
        {
          "output_type": "stream",
          "name": "stdout",
          "text": [
            "+-----------------+------------+-----------------------------+---------------------------+-----------------------+-----------------------+-----------------------------+-----------------------------+-------------------------+------------------------------+----------------------------------+\n",
            "|Reporting_Airline|TotalFlights|Total Departure Delay Flights|Total Arrival Delay Flights|Total Cancelled Flights|Total Divetrted Flights|Total Carrier Delayed Flights|Total Weather Delayed Flights|Total NAS Delayed Flights|Total Security Delayed Flights|Total LateAircraft Delayed Flights|\n",
            "+-----------------+------------+-----------------------------+---------------------------+-----------------------+-----------------------+-----------------------------+-----------------------------+-------------------------+------------------------------+----------------------------------+\n",
            "|               AA|        3620|                          780|                        850|                     70|                      5|                          277|                           64|                      356|                             1|                               286|\n",
            "|               NW|        1202|                          225|                        300|                     20|                      4|                           73|                           15|                       97|                             2|                                47|\n",
            "|               B6|         905|                          224|                        230|                     12|                      3|                          125|                            8|                      134|                             1|                               111|\n",
            "|               DL|        3938|                          728|                        782|                     54|                      8|                          243|                           28|                      327|                             1|                               214|\n",
            "|               OO|        2719|                          546|                        596|                     58|                     10|                          197|                           23|                      219|                             1|                               256|\n",
            "+-----------------+------------+-----------------------------+---------------------------+-----------------------+-----------------------+-----------------------------+-----------------------------+-------------------------+------------------------------+----------------------------------+\n",
            "only showing top 5 rows\n",
            "\n"
          ]
        }
      ]
    },
    {
      "cell_type": "code",
      "source": [
        "#Statistics of Delay Report\n",
        "DelayReport.describe().show()"
      ],
      "metadata": {
        "colab": {
          "base_uri": "https://localhost:8080/"
        },
        "id": "hb5VEjevfbry",
        "outputId": "85e35f98-dc15-41c9-d65c-ec7313bda3a1"
      },
      "execution_count": 318,
      "outputs": [
        {
          "output_type": "stream",
          "name": "stdout",
          "text": [
            "+-------+-----------------+------------------+-----------------------------+---------------------------+-----------------------+-----------------------+-----------------------------+-----------------------------+-------------------------+------------------------------+----------------------------------+\n",
            "|summary|Reporting_Airline|      TotalFlights|Total Departure Delay Flights|Total Arrival Delay Flights|Total Cancelled Flights|Total Divetrted Flights|Total Carrier Delayed Flights|Total Weather Delayed Flights|Total NAS Delayed Flights|Total Security Delayed Flights|Total LateAircraft Delayed Flights|\n",
            "+-------+-----------------+------------------+-----------------------------+---------------------------+-----------------------+-----------------------+-----------------------------+-----------------------------+-------------------------+------------------------------+----------------------------------+\n",
            "|  count|               11|                11|                           11|                         11|                     11|                     11|                           11|                           11|                       11|                            11|                                11|\n",
            "|   mean|             null|2042.1818181818182|                        453.0|         463.45454545454544|      33.36363636363637|      4.909090909090909|                        164.0|            19.09090909090909|       179.72727272727272|            1.8181818181818181|                165.63636363636363|\n",
            "| stddev|             null|1781.3471766155983|            463.1809581578241|         396.07988175022564|     24.475590809100918|     3.3601947995479504|           166.63493031174465|            18.40898989871278|        134.3897993964504|            1.7786613965666325|                 190.2683750533823|\n",
            "|    min|               AA|               101|                           23|                         25|                      1|                      1|                            6|                            2|                       12|                             1|                                 8|\n",
            "|    max|               YV|              5847|                         1633|                       1349|                     70|                     11|                          593|                           64|                      416|                             7|                               663|\n",
            "+-------+-----------------+------------------+-----------------------------+---------------------------+-----------------------+-----------------------+-----------------------------+-----------------------------+-------------------------+------------------------------+----------------------------------+\n",
            "\n"
          ]
        }
      ]
    },
    {
      "cell_type": "code",
      "source": [
        "import pyspark.sql.functions as f\n",
        "from pyspark.sql.window import Window"
      ],
      "metadata": {
        "id": "XrXMU2TYgHIo"
      },
      "execution_count": 319,
      "outputs": []
    },
    {
      "cell_type": "code",
      "source": [
        "# calculate result in percentage\n",
        "df123 = DelayReport.withColumn('depdelaypercent', f.col('Total Departure Delay Flights')/f.col('TotalFlights')*100).withColumn('arrdelaypercent', f.col('Total Arrival Delay Flights')/f.col('TotalFlights')*100).withColumn('cancelledpercent', f.col('Total Cancelled Flights')/f.col('TotalFlights')*100)"
      ],
      "metadata": {
        "id": "k8hYPPUlfojv"
      },
      "execution_count": 320,
      "outputs": []
    },
    {
      "cell_type": "code",
      "source": [
        "df123.select('Reporting_Airline','TotalFlights','depdelaypercent','arrdelaypercent','cancelledpercent').show()"
      ],
      "metadata": {
        "colab": {
          "base_uri": "https://localhost:8080/"
        },
        "id": "Nshj95f1gEu1",
        "outputId": "5aa03757-6539-4c54-86cb-6e52ee3a9133"
      },
      "execution_count": 321,
      "outputs": [
        {
          "output_type": "stream",
          "name": "stdout",
          "text": [
            "+-----------------+------------+------------------+------------------+------------------+\n",
            "|Reporting_Airline|TotalFlights|   depdelaypercent|   arrdelaypercent|  cancelledpercent|\n",
            "+-----------------+------------+------------------+------------------+------------------+\n",
            "|               AA|        3620| 21.54696132596685|23.480662983425415|1.9337016574585635|\n",
            "|               NW|        1202|18.718801996672212|24.958402662229616|1.6638935108153077|\n",
            "|               B6|         905|24.751381215469614| 25.41436464088398|1.3259668508287292|\n",
            "|               DL|        3938|18.486541391569325|19.857795835449465|1.3712544438801422|\n",
            "|               OO|        2719|20.080912100036777| 21.91982346450901|  2.13313718278779|\n",
            "|               YV|         562| 25.26690391459075|26.690391459074732| 3.202846975088968|\n",
            "|               US|        1810|19.392265193370164|23.370165745856355|1.9337016574585635|\n",
            "|               XE|         871| 18.94374282433984| 23.88059701492537| 2.525832376578645|\n",
            "|               AS|         889|18.672665916760405| 20.80989876265467|1.2373453318335208|\n",
            "|               VX|         101|22.772277227722775|24.752475247524753|0.9900990099009901|\n",
            "|               WN|        5847| 27.92885240294168|23.071660680690954|1.1287839917906617|\n",
            "+-----------------+------------+------------------+------------------+------------------+\n",
            "\n"
          ]
        }
      ]
    },
    {
      "cell_type": "code",
      "source": [
        "#use dense rank for find top rankers by any cloumns\n",
        "wT_Flights = Window.orderBy(f.desc(\"TotalFlights\")) \n",
        "testdf1 = DelayReport.withColumn(\n",
        "    \"TotalFlights_rank\", \n",
        "    f.dense_rank().over(wT_Flights)\n",
        ")"
      ],
      "metadata": {
        "id": "zoYaXFtpginL"
      },
      "execution_count": 322,
      "outputs": []
    },
    {
      "cell_type": "code",
      "source": [
        "testdf1.show()"
      ],
      "metadata": {
        "colab": {
          "base_uri": "https://localhost:8080/"
        },
        "id": "sWGFyJXahJlL",
        "outputId": "789e9cfd-ec97-4491-bb2d-5fb04d84f2bf"
      },
      "execution_count": 323,
      "outputs": [
        {
          "output_type": "stream",
          "name": "stdout",
          "text": [
            "+-----------------+------------+-----------------------------+---------------------------+-----------------------+-----------------------+-----------------------------+-----------------------------+-------------------------+------------------------------+----------------------------------+-----------------+\n",
            "|Reporting_Airline|TotalFlights|Total Departure Delay Flights|Total Arrival Delay Flights|Total Cancelled Flights|Total Divetrted Flights|Total Carrier Delayed Flights|Total Weather Delayed Flights|Total NAS Delayed Flights|Total Security Delayed Flights|Total LateAircraft Delayed Flights|TotalFlights_rank|\n",
            "+-----------------+------------+-----------------------------+---------------------------+-----------------------+-----------------------+-----------------------------+-----------------------------+-------------------------+------------------------------+----------------------------------+-----------------+\n",
            "|               WN|        5847|                         1633|                       1349|                     66|                     11|                          593|                           37|                      416|                             7|                               663|                1|\n",
            "|               DL|        3938|                          728|                        782|                     54|                      8|                          243|                           28|                      327|                             1|                               214|                2|\n",
            "|               AA|        3620|                          780|                        850|                     70|                      5|                          277|                           64|                      356|                             1|                               286|                3|\n",
            "|               OO|        2719|                          546|                        596|                     58|                     10|                          197|                           23|                      219|                             1|                               256|                4|\n",
            "|               US|        1810|                          351|                        423|                     35|                      2|                          134|                           13|                      174|                             2|                               101|                5|\n",
            "|               NW|        1202|                          225|                        300|                     20|                      4|                           73|                           15|                       97|                             2|                                47|                6|\n",
            "|               B6|         905|                          224|                        230|                     12|                      3|                          125|                            8|                      134|                             1|                               111|                7|\n",
            "|               AS|         889|                          166|                        185|                     11|                      5|                           40|                            2|                       68|                             1|                                43|                8|\n",
            "|               XE|         871|                          165|                        208|                     22|                      2|                           55|                           10|                      130|                             2|                                55|                9|\n",
            "|               YV|         562|                          142|                        150|                     18|                      3|                           61|                            7|                       44|                             1|                                38|               10|\n",
            "|               VX|         101|                           23|                         25|                      1|                      1|                            6|                            3|                       12|                             1|                                 8|               11|\n",
            "+-----------------+------------+-----------------------------+---------------------------+-----------------------+-----------------------+-----------------------------+-----------------------------+-------------------------+------------------------------+----------------------------------+-----------------+\n",
            "\n"
          ]
        }
      ]
    },
    {
      "cell_type": "code",
      "source": [
        "testdf1.columns"
      ],
      "metadata": {
        "colab": {
          "base_uri": "https://localhost:8080/"
        },
        "id": "RnxHmW6YhOFG",
        "outputId": "be8856f6-eaa5-40f8-f910-ad8f91b3449b"
      },
      "execution_count": 324,
      "outputs": [
        {
          "output_type": "execute_result",
          "data": {
            "text/plain": [
              "['Reporting_Airline',\n",
              " 'TotalFlights',\n",
              " 'Total Departure Delay Flights',\n",
              " 'Total Arrival Delay Flights',\n",
              " 'Total Cancelled Flights',\n",
              " 'Total Divetrted Flights',\n",
              " 'Total Carrier Delayed Flights',\n",
              " 'Total Weather Delayed Flights',\n",
              " 'Total NAS Delayed Flights',\n",
              " 'Total Security Delayed Flights',\n",
              " 'Total LateAircraft Delayed Flights',\n",
              " 'TotalFlights_rank']"
            ]
          },
          "metadata": {},
          "execution_count": 324
        }
      ]
    },
    {
      "cell_type": "code",
      "source": [
        "testdf1.select('Reporting_Airline','TotalFlights','TotalFlights_rank').show()"
      ],
      "metadata": {
        "colab": {
          "base_uri": "https://localhost:8080/"
        },
        "id": "zzM_zbUIhTjl",
        "outputId": "51f0631c-a1f4-446c-94d1-e820b5b646f2"
      },
      "execution_count": 325,
      "outputs": [
        {
          "output_type": "stream",
          "name": "stdout",
          "text": [
            "+-----------------+------------+-----------------+\n",
            "|Reporting_Airline|TotalFlights|TotalFlights_rank|\n",
            "+-----------------+------------+-----------------+\n",
            "|               WN|        5847|                1|\n",
            "|               DL|        3938|                2|\n",
            "|               AA|        3620|                3|\n",
            "|               OO|        2719|                4|\n",
            "|               US|        1810|                5|\n",
            "|               NW|        1202|                6|\n",
            "|               B6|         905|                7|\n",
            "|               AS|         889|                8|\n",
            "|               XE|         871|                9|\n",
            "|               YV|         562|               10|\n",
            "|               VX|         101|               11|\n",
            "+-----------------+------------+-----------------+\n",
            "\n"
          ]
        }
      ]
    },
    {
      "cell_type": "code",
      "source": [
        "AirlineDataFrame = AirlineDF.select(\"_c0\",\"Year\",\"Quarter\", \"Month\", \"DayofMonth\", \"DayofWeek\" , \\\n",
        "                              \"FlightDate\",\"Reporting_Airline\",\"DOT_ID_Reporting_Airline\", \\\n",
        "                              \"IATA_CODE_Reporting_Airline\", \"Tail_Number\", \"Flight_Number_Reporting_Airline\", \\\n",
        "                              \"OriginAirportID\",\"OriginAirportSeqID\", \"OriginCityMarketID\", \"Origin\", \\\n",
        "                              \"OriginCityName\" , \"OriginState\", \"OriginStateFips\", \"OriginStateName\", \\\n",
        "                              \"OriginWac\",\"DestAirportID\",\"DestAirportSeqID\", \"DestCityMarketID\", \"Dest\", \\\n",
        "                              \"DestCityName\" , \"DestState\", \"DestStateFips\", \"DestStateName\", \"DestWac\", \\\n",
        "                              \"CRSDepTime\",\"DepTime\", \"DepDelay\", \"DepDelayMinutes\", \"DepDel15\" , \\\n",
        "                              \"DepartureDelayGroups\", \"DepTimeBlk\", \"TaxiOut\", \"WheelsOff\",\"WheelsOn\", \\\n",
        "                              \"TaxiIn\", \"CRSArrTime\", \"ArrTime\", \"ArrDelay\" , \"ArrDelayMinutes\", \"ArrDel15\", \\\n",
        "                              \"ArrivalDelayGroups\", \"ArrTimeBlk\",\"Cancelled\",\"CancellationCode\", \\\n",
        "                              \"Diverted\",\"CRSElapsedTime\",\"ActualElapsedTime\", \"AirTime\", \"Flights\", \\\n",
        "                              \"Distance\" , \"DistanceGroup\",\"CarrierDelay\",\"WeatherDelay\", \"NASDelay\", \\\n",
        "                              \"SecurityDelay\", \"LateAircraftDelay\" )"
      ],
      "metadata": {
        "id": "6M4YJo13hV1n"
      },
      "execution_count": 326,
      "outputs": []
    },
    {
      "cell_type": "markdown",
      "source": [
        "##Case Study - 2\n",
        "##On Time Report of all flights, distance travelled by each flight 200 miles and more than 200 miles by Origin Airport"
      ],
      "metadata": {
        "id": "zH7N742MpYV9"
      }
    },
    {
      "cell_type": "code",
      "source": [
        "#calculate total no. of flights\n",
        "df1 = AirlineDataFrame.select('OriginCityName').filter('Distance >= 200').groupBy('OriginCityName').count().withColumnRenamed(\"count\", \"Total Flights\").orderBy(\"OriginCityName\")"
      ],
      "metadata": {
        "id": "L1ktLpiTirfS"
      },
      "execution_count": 327,
      "outputs": []
    },
    {
      "cell_type": "code",
      "source": [
        "df1.show()"
      ],
      "metadata": {
        "colab": {
          "base_uri": "https://localhost:8080/"
        },
        "id": "ih2K9nbZjIMH",
        "outputId": "cea856d5-3dd2-438d-fe9f-7a8da086fbe6"
      },
      "execution_count": 328,
      "outputs": [
        {
          "output_type": "stream",
          "name": "stdout",
          "text": [
            "+--------------------+-------------+\n",
            "|      OriginCityName|Total Flights|\n",
            "+--------------------+-------------+\n",
            "|        Aberdeen, SD|            3|\n",
            "|         Abilene, TX|            2|\n",
            "|     Adak Island, AK|            2|\n",
            "|       Aguadilla, PR|            4|\n",
            "|           Akron, OH|           35|\n",
            "|          Albany, NY|           97|\n",
            "|     Albuquerque, NM|          290|\n",
            "|      Alexandria, LA|            7|\n",
            "|Allentown/Bethleh...|           41|\n",
            "|        Amarillo, TX|           47|\n",
            "|       Anchorage, AK|          146|\n",
            "|        Appleton, WI|            6|\n",
            "|   Arcata/Eureka, CA|           13|\n",
            "|       Asheville, NC|            8|\n",
            "|           Aspen, CO|            8|\n",
            "|         Atlanta, GA|         2456|\n",
            "|   Atlantic City, NJ|            5|\n",
            "|         Augusta, GA|            2|\n",
            "|          Austin, TX|          213|\n",
            "|     Bakersfield, CA|            9|\n",
            "+--------------------+-------------+\n",
            "only showing top 20 rows\n",
            "\n"
          ]
        }
      ]
    },
    {
      "cell_type": "code",
      "source": [
        "# calculate total no of on time departure flights\n",
        "df2 = AirlineDataFrame.select('OriginCityName','DepDelayMinutes') \\\n",
        ".filter(\"Distance >= 200\").filter(\"DepDelayMinutes < 10\").groupBy('OriginCityName') \\\n",
        ".count().withColumnRenamed(\"count\", \"Total OnTime Departure Flights\").orderBy(\"OriginCityName\")"
      ],
      "metadata": {
        "id": "LAT1OtHSjLQ1"
      },
      "execution_count": 329,
      "outputs": []
    },
    {
      "cell_type": "code",
      "source": [
        "df2.show()"
      ],
      "metadata": {
        "colab": {
          "base_uri": "https://localhost:8080/"
        },
        "id": "3LFTZwXrjaJA",
        "outputId": "ac2dd772-18b4-4769-d26d-fad937d90cc0"
      },
      "execution_count": 330,
      "outputs": [
        {
          "output_type": "stream",
          "name": "stdout",
          "text": [
            "+--------------------+------------------------------+\n",
            "|      OriginCityName|Total OnTime Departure Flights|\n",
            "+--------------------+------------------------------+\n",
            "|        Aberdeen, SD|                             2|\n",
            "|         Abilene, TX|                             2|\n",
            "|     Adak Island, AK|                             1|\n",
            "|       Aguadilla, PR|                             3|\n",
            "|           Akron, OH|                            30|\n",
            "|          Albany, NY|                            80|\n",
            "|     Albuquerque, NM|                           221|\n",
            "|      Alexandria, LA|                             3|\n",
            "|Allentown/Bethleh...|                            33|\n",
            "|        Amarillo, TX|                            34|\n",
            "|       Anchorage, AK|                           111|\n",
            "|        Appleton, WI|                             5|\n",
            "|   Arcata/Eureka, CA|                             9|\n",
            "|       Asheville, NC|                             5|\n",
            "|           Aspen, CO|                             5|\n",
            "|         Atlanta, GA|                          1834|\n",
            "|   Atlantic City, NJ|                             4|\n",
            "|          Austin, TX|                           173|\n",
            "|     Bakersfield, CA|                             6|\n",
            "|       Baltimore, MD|                           484|\n",
            "+--------------------+------------------------------+\n",
            "only showing top 20 rows\n",
            "\n"
          ]
        }
      ]
    },
    {
      "cell_type": "code",
      "source": [
        "#calculate total no of on time arrival flights\n",
        "df3 = AirlineDataFrame.select('OriginCityName','ArrDelayMinutes') \\\n",
        ".filter(\"Distance >= 200\").filter(\"ArrDelayMinutes < 10\").groupBy('OriginCityName') \\\n",
        ".count().withColumnRenamed(\"count\", \"Total OnTime Arrival Flights\").orderBy(\"OriginCityName\")"
      ],
      "metadata": {
        "id": "h-35I4dqjbmw"
      },
      "execution_count": 331,
      "outputs": []
    },
    {
      "cell_type": "code",
      "source": [
        "df3.show()"
      ],
      "metadata": {
        "colab": {
          "base_uri": "https://localhost:8080/"
        },
        "id": "imCVoIBljgEA",
        "outputId": "7cc4270d-690c-482d-a7f5-eb045e28f684"
      },
      "execution_count": 332,
      "outputs": [
        {
          "output_type": "stream",
          "name": "stdout",
          "text": [
            "+--------------------+----------------------------+\n",
            "|      OriginCityName|Total OnTime Arrival Flights|\n",
            "+--------------------+----------------------------+\n",
            "|        Aberdeen, SD|                           2|\n",
            "|         Abilene, TX|                           2|\n",
            "|     Adak Island, AK|                           2|\n",
            "|       Aguadilla, PR|                           2|\n",
            "|           Akron, OH|                          26|\n",
            "|          Albany, NY|                          78|\n",
            "|     Albuquerque, NM|                         212|\n",
            "|      Alexandria, LA|                           3|\n",
            "|Allentown/Bethleh...|                          32|\n",
            "|        Amarillo, TX|                          32|\n",
            "|       Anchorage, AK|                          95|\n",
            "|        Appleton, WI|                           4|\n",
            "|   Arcata/Eureka, CA|                          10|\n",
            "|       Asheville, NC|                           5|\n",
            "|           Aspen, CO|                           4|\n",
            "|         Atlanta, GA|                        1758|\n",
            "|   Atlantic City, NJ|                           4|\n",
            "|          Austin, TX|                         163|\n",
            "|     Bakersfield, CA|                           6|\n",
            "|       Baltimore, MD|                         461|\n",
            "+--------------------+----------------------------+\n",
            "only showing top 20 rows\n",
            "\n"
          ]
        }
      ]
    },
    {
      "cell_type": "code",
      "source": [
        "#calculate total no of cancelled flights\n",
        "df4 = AirlineDataFrame.select('OriginCityName','Cancelled') \\\n",
        ".filter(\"Distance >= 200\").filter(\"Cancelled  == 1\").groupBy('OriginCityName') \\\n",
        ".count().withColumnRenamed(\"count\", \"Total Cancelled Flights\").orderBy(\"OriginCityName\")"
      ],
      "metadata": {
        "id": "RWf5eFJajhhJ"
      },
      "execution_count": 333,
      "outputs": []
    },
    {
      "cell_type": "code",
      "source": [
        "#calculate total no of diverted flights\n",
        "df5 = AirlineDataFrame.select('OriginCityName','Diverted').filter(\"Distance >= 200\").filter(\"Diverted  == 1\").groupBy('OriginCityName') \\\n",
        ".count().withColumnRenamed(\"count\", \"Total Diverted Flights\").orderBy(\"OriginCityName\")"
      ],
      "metadata": {
        "id": "JOAsxriojnr7"
      },
      "execution_count": 334,
      "outputs": []
    },
    {
      "cell_type": "code",
      "source": [
        "#join all dataframe\n",
        "OnTimeCityReport = df1.alias(\"df1\").join(df2.alias(\"df2\"),[\"OriginCityName\"]).join(df3.alias(\"df3\"),[\"OriginCityName\"]).join(df4.alias(\"df4\"),[\"OriginCityName\"]).join(df5.alias(\"df5\"),[\"OriginCityName\"])"
      ],
      "metadata": {
        "id": "sahZaFlyjrkh"
      },
      "execution_count": 335,
      "outputs": []
    },
    {
      "cell_type": "code",
      "source": [
        "OnTimeCityReport.show(3)"
      ],
      "metadata": {
        "colab": {
          "base_uri": "https://localhost:8080/"
        },
        "id": "uXVsLKAyj17Z",
        "outputId": "477b91d4-7999-4101-8162-52290c65826d"
      },
      "execution_count": 336,
      "outputs": [
        {
          "output_type": "stream",
          "name": "stdout",
          "text": [
            "+----------------+-------------+------------------------------+----------------------------+-----------------------+----------------------+\n",
            "|  OriginCityName|Total Flights|Total OnTime Departure Flights|Total OnTime Arrival Flights|Total Cancelled Flights|Total Diverted Flights|\n",
            "+----------------+-------------+------------------------------+----------------------------+-----------------------+----------------------+\n",
            "|     Ontario, CA|          228|                           190|                         176|                      3|                     1|\n",
            "|Palm Springs, CA|           57|                            46|                          42|                      3|                     2|\n",
            "|    Columbus, OH|          277|                           219|                         209|                      6|                     3|\n",
            "+----------------+-------------+------------------------------+----------------------------+-----------------------+----------------------+\n",
            "only showing top 3 rows\n",
            "\n"
          ]
        }
      ]
    },
    {
      "cell_type": "code",
      "source": [
        "OnTimeCityReport.orderBy(\"OriginCityName\").show(4)"
      ],
      "metadata": {
        "colab": {
          "base_uri": "https://localhost:8080/"
        },
        "id": "T17nsXZ5j4-1",
        "outputId": "3f0dfb77-8b34-4704-81aa-1e0f8e92507f"
      },
      "execution_count": 337,
      "outputs": [
        {
          "output_type": "stream",
          "name": "stdout",
          "text": [
            "+---------------+-------------+------------------------------+----------------------------+-----------------------+----------------------+\n",
            "| OriginCityName|Total Flights|Total OnTime Departure Flights|Total OnTime Arrival Flights|Total Cancelled Flights|Total Diverted Flights|\n",
            "+---------------+-------------+------------------------------+----------------------------+-----------------------+----------------------+\n",
            "|Albuquerque, NM|          290|                           221|                         212|                      4|                     2|\n",
            "|    Atlanta, GA|         2456|                          1834|                        1758|                     36|                     6|\n",
            "|     Austin, TX|          213|                           173|                         163|                      1|                     1|\n",
            "|  Baltimore, MD|          651|                           484|                         461|                      6|                     3|\n",
            "+---------------+-------------+------------------------------+----------------------------+-----------------------+----------------------+\n",
            "only showing top 4 rows\n",
            "\n"
          ]
        }
      ]
    },
    {
      "cell_type": "code",
      "source": [
        "OnTimeCityReport.describe().show()"
      ],
      "metadata": {
        "colab": {
          "base_uri": "https://localhost:8080/"
        },
        "id": "cY_Zh5UIj7lU",
        "outputId": "4befc7d3-b3bc-4e34-85b7-152609b3c3cb"
      },
      "execution_count": 338,
      "outputs": [
        {
          "output_type": "stream",
          "name": "stdout",
          "text": [
            "+-------+----------------+-----------------+------------------------------+----------------------------+-----------------------+----------------------+\n",
            "|summary|  OriginCityName|    Total Flights|Total OnTime Departure Flights|Total OnTime Arrival Flights|Total Cancelled Flights|Total Diverted Flights|\n",
            "+-------+----------------+-----------------+------------------------------+----------------------------+-----------------------+----------------------+\n",
            "|  count|              48|               48|                            48|                          48|                     48|                    48|\n",
            "|   mean|            null|          731.375|                      555.0625|           519.7708333333334|                   12.5|    2.3958333333333335|\n",
            "| stddev|            null|629.3676537740251|              461.969991023641|           435.9326631382193|     13.653773541219058|    1.4838073989447285|\n",
            "|    min| Albuquerque, NM|               42|                            27|                          27|                      1|                     1|\n",
            "|    max|White Plains, NY|             2885|                          2063|                        1933|                     68|                     6|\n",
            "+-------+----------------+-----------------+------------------------------+----------------------------+-----------------------+----------------------+\n",
            "\n"
          ]
        }
      ]
    },
    {
      "cell_type": "code",
      "source": [
        "# calculate result in percentage\n",
        "OnTimeCityReport.withColumn('OnTimeDepPercent', f.col('Total OnTime Departure Flights')/f.col('Total Flights')*100).withColumn('OnTimeArrPercent', f.col('Total OnTime Arrival Flights')/f.col('Total Flights')*100).show(3)"
      ],
      "metadata": {
        "colab": {
          "base_uri": "https://localhost:8080/"
        },
        "id": "LFKgicMGj-1D",
        "outputId": "b0df49e5-e01a-4101-d60d-d527ec3d1c72"
      },
      "execution_count": 339,
      "outputs": [
        {
          "output_type": "stream",
          "name": "stdout",
          "text": [
            "+----------------+-------------+------------------------------+----------------------------+-----------------------+----------------------+-----------------+-----------------+\n",
            "|  OriginCityName|Total Flights|Total OnTime Departure Flights|Total OnTime Arrival Flights|Total Cancelled Flights|Total Diverted Flights| OnTimeDepPercent| OnTimeArrPercent|\n",
            "+----------------+-------------+------------------------------+----------------------------+-----------------------+----------------------+-----------------+-----------------+\n",
            "|     Ontario, CA|          228|                           190|                         176|                      3|                     1|83.33333333333334|77.19298245614034|\n",
            "|Palm Springs, CA|           57|                            46|                          42|                      3|                     2| 80.7017543859649|73.68421052631578|\n",
            "|    Columbus, OH|          277|                           219|                         209|                      6|                     3|79.06137184115524|75.45126353790613|\n",
            "+----------------+-------------+------------------------------+----------------------------+-----------------------+----------------------+-----------------+-----------------+\n",
            "only showing top 3 rows\n",
            "\n"
          ]
        }
      ]
    },
    {
      "cell_type": "code",
      "source": [
        "OnTimeCityReport.orderBy(col(\"Total OnTime Departure Flights\").desc(),col(\"Total OnTime Departure Flights\").desc()).show()"
      ],
      "metadata": {
        "colab": {
          "base_uri": "https://localhost:8080/"
        },
        "id": "iTyBW_yRkYIf",
        "outputId": "0dac2a7c-235e-45f0-999b-5e8a9d0b3dba"
      },
      "execution_count": 340,
      "outputs": [
        {
          "output_type": "stream",
          "name": "stdout",
          "text": [
            "+--------------------+-------------+------------------------------+----------------------------+-----------------------+----------------------+\n",
            "|      OriginCityName|Total Flights|Total OnTime Departure Flights|Total OnTime Arrival Flights|Total Cancelled Flights|Total Diverted Flights|\n",
            "+--------------------+-------------+------------------------------+----------------------------+-----------------------+----------------------+\n",
            "|         Chicago, IL|         2885|                          2063|                        1933|                     68|                     6|\n",
            "|         Atlanta, GA|         2456|                          1834|                        1758|                     36|                     6|\n",
            "|Dallas/Fort Worth...|         1990|                          1497|                        1396|                     36|                     5|\n",
            "|         Houston, TX|         1511|                          1156|                        1089|                     19|                     2|\n",
            "|          Denver, CO|         1528|                          1151|                        1087|                      9|                     6|\n",
            "|     Los Angeles, CA|         1569|                          1150|                        1114|                     26|                     4|\n",
            "|        New York, NY|         1502|                          1121|                        1022|                     52|                     2|\n",
            "|         Phoenix, AZ|         1304|                           955|                         932|                      9|                     3|\n",
            "|      Washington, DC|         1172|                           909|                         862|                     29|                     2|\n",
            "|     Minneapolis, MN|         1083|                           838|                         764|                     22|                     6|\n",
            "|         Detroit, MI|         1077|                           829|                         760|                     14|                     1|\n",
            "|       Las Vegas, NV|         1078|                           806|                         778|                      6|                     1|\n",
            "|   San Francisco, CA|         1065|                           805|                         730|                     20|                     1|\n",
            "|          Newark, NJ|          958|                           704|                         623|                     23|                     2|\n",
            "|  Salt Lake City, UT|          809|                           667|                         606|                      7|                     2|\n",
            "|       Charlotte, NC|          862|                           642|                         591|                     19|                     3|\n",
            "|         Seattle, WA|          824|                           637|                         603|                      8|                     3|\n",
            "|       St. Louis, MO|          825|                           632|                         580|                     13|                     3|\n",
            "|         Orlando, FL|          823|                           631|                         608|                     10|                     4|\n",
            "|          Boston, MA|          762|                           568|                         521|                     26|                     1|\n",
            "+--------------------+-------------+------------------------------+----------------------------+-----------------------+----------------------+\n",
            "only showing top 20 rows\n",
            "\n"
          ]
        }
      ]
    },
    {
      "cell_type": "code",
      "source": [
        "OnTimeCityReport.groupBy().max('Total OnTime Departure Flights').show()"
      ],
      "metadata": {
        "colab": {
          "base_uri": "https://localhost:8080/"
        },
        "id": "dDfVqBCWkcbZ",
        "outputId": "7cdca7eb-2ca4-4ff7-cb47-bf3ed3bce18c"
      },
      "execution_count": 341,
      "outputs": [
        {
          "output_type": "stream",
          "name": "stdout",
          "text": [
            "+-----------------------------------+\n",
            "|max(Total OnTime Departure Flights)|\n",
            "+-----------------------------------+\n",
            "|                               2063|\n",
            "+-----------------------------------+\n",
            "\n"
          ]
        }
      ]
    },
    {
      "cell_type": "code",
      "source": [
        "wT_Flights = Window.orderBy(f.desc(\"Total Flights\"))\n",
        "testdf1 = OnTimeCityReport.withColumn(\n",
        "    \"Total Flights_rank\", \n",
        "    f.dense_rank().over(wT_Flights)\n",
        ")"
      ],
      "metadata": {
        "id": "I8nQfVSnkh__"
      },
      "execution_count": 342,
      "outputs": []
    },
    {
      "cell_type": "code",
      "source": [
        "# top 10 airports by numbers of on time flights\n",
        "testdf1.show(10)"
      ],
      "metadata": {
        "colab": {
          "base_uri": "https://localhost:8080/"
        },
        "id": "847AMfSXknee",
        "outputId": "7ee39bbc-a32e-4b43-929f-64de6ab3bd8f"
      },
      "execution_count": 343,
      "outputs": [
        {
          "output_type": "stream",
          "name": "stdout",
          "text": [
            "+--------------------+-------------+------------------------------+----------------------------+-----------------------+----------------------+------------------+\n",
            "|      OriginCityName|Total Flights|Total OnTime Departure Flights|Total OnTime Arrival Flights|Total Cancelled Flights|Total Diverted Flights|Total Flights_rank|\n",
            "+--------------------+-------------+------------------------------+----------------------------+-----------------------+----------------------+------------------+\n",
            "|         Chicago, IL|         2885|                          2063|                        1933|                     68|                     6|                 1|\n",
            "|         Atlanta, GA|         2456|                          1834|                        1758|                     36|                     6|                 2|\n",
            "|Dallas/Fort Worth...|         1990|                          1497|                        1396|                     36|                     5|                 3|\n",
            "|     Los Angeles, CA|         1569|                          1150|                        1114|                     26|                     4|                 4|\n",
            "|          Denver, CO|         1528|                          1151|                        1087|                      9|                     6|                 5|\n",
            "|         Houston, TX|         1511|                          1156|                        1089|                     19|                     2|                 6|\n",
            "|        New York, NY|         1502|                          1121|                        1022|                     52|                     2|                 7|\n",
            "|         Phoenix, AZ|         1304|                           955|                         932|                      9|                     3|                 8|\n",
            "|      Washington, DC|         1172|                           909|                         862|                     29|                     2|                 9|\n",
            "|     Minneapolis, MN|         1083|                           838|                         764|                     22|                     6|                10|\n",
            "+--------------------+-------------+------------------------------+----------------------------+-----------------------+----------------------+------------------+\n",
            "only showing top 10 rows\n",
            "\n"
          ]
        }
      ]
    },
    {
      "cell_type": "code",
      "source": [
        ""
      ],
      "metadata": {
        "id": "AL9k83pQkuax"
      },
      "execution_count": 343,
      "outputs": []
    }
  ]
}